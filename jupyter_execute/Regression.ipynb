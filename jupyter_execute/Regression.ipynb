{
 "cells": [
  {
   "cell_type": "markdown",
   "metadata": {
    "id": "o9IygheR3jsh"
   },
   "source": [
    "# **Mission of regression notebook**\n",
    "\n",
    "You are a member of a bioinformatics team investigating the [effect of spaceflight on astronaut health](https://en.wikipedia.org/wiki/Effect_of_spaceflight_on_the_human_body).  Your team is trying to find the [biological pathways](https://en.wikipedia.org/wiki/Biological_pathway) that respond to exposure of adverse conditions in space such as [microgravity](https://www.nasa.gov/centers-and-facilities/glenn/what-is-microgravity/) and [radiation](https://www.nasa.gov/directorates/esdmd/hhp/space-radiation/).  You just performed clustering on the RNA-seq data and have determined there is a noticeable separation between spaceflight and ground control samples gene expression profiles, giving you confidence that there is a signal that machine learning could exploit.  You have also received the results of several phenotype experiments including tonometry and immunostaining microscopy, so you can now perform supervised learning algorithms with your data.\n",
    "\n",
    "Your mission is to use supervised machine learning - [regression](https://en.wikipedia.org/wiki/Regression_analysis) - to determine if the RNA-seq data from astronaut samples and their ground control counterparts have clearly distinguishable gene expression profiles.  For if they do, then there is a chance that a supervised learning method can predict responses to spaceflight using different combinations and weights of gene expression from the RNA-seq data.\n",
    "\n",
    "In this notebook, you will use linear regression to predict the value of a phenotype response given its associated RNA-seq gene expression profile."
   ]
  },
  {
   "cell_type": "markdown",
   "metadata": {
    "id": "W_cXRde853Lu"
   },
   "source": [
    "# Read in methods\n",
    "\n",
    "**IMPORTANT**: Make sure you put a copy of the methods.ipynb in your google drive by following [these instructions](https://docs.google.com/document/d/1V9a3Z5YKT2Pbef4fgPAwB83bHX-p-rPBRRwo7w5Bi9k/edit?usp=sharing).\n",
    "\n",
    "All the methods are stored in another notebook which you've already copied onto your Google drive.  You'll find it under \"MyDrive/Colab Notebooks\" and it's called \"Copy of methods.ipynb\".  We will now mount your Google drive and import the methods from that notebook.\n",
    "\n"
   ]
  },
  {
   "cell_type": "code",
   "execution_count": 1,
   "metadata": {
    "colab": {
     "base_uri": "https://localhost:8080/"
    },
    "executionInfo": {
     "elapsed": 21159,
     "status": "ok",
     "timestamp": 1712869184854,
     "user": {
      "displayName": "Richard Barker",
      "userId": "08066349230655107502"
     },
     "user_tz": 300
    },
    "id": "p_0thWGEvx8d",
    "outputId": "0d3c2493-61d2-4e3c-ca1c-9e3fec8b8c4b"
   },
   "outputs": [
    {
     "name": "stdout",
     "output_type": "stream",
     "text": [
      "Requirement already satisfied: import_ipynb in /workspace/.pyenv_mirror/user/current/lib/python3.12/site-packages (0.1.4)\r\n"
     ]
    },
    {
     "name": "stdout",
     "output_type": "stream",
     "text": [
      "Requirement already satisfied: IPython in /home/gitpod/.pyenv/versions/3.12.3/lib/python3.12/site-packages (from import_ipynb) (8.23.0)\r\n",
      "Requirement already satisfied: nbformat in /home/gitpod/.pyenv/versions/3.12.3/lib/python3.12/site-packages (from import_ipynb) (5.10.4)\r\n"
     ]
    },
    {
     "name": "stdout",
     "output_type": "stream",
     "text": [
      "Requirement already satisfied: decorator in /home/gitpod/.pyenv/versions/3.12.3/lib/python3.12/site-packages (from IPython->import_ipynb) (5.1.1)\r\n",
      "Requirement already satisfied: jedi>=0.16 in /home/gitpod/.pyenv/versions/3.12.3/lib/python3.12/site-packages (from IPython->import_ipynb) (0.19.1)\r\n",
      "Requirement already satisfied: matplotlib-inline in /home/gitpod/.pyenv/versions/3.12.3/lib/python3.12/site-packages (from IPython->import_ipynb) (0.1.6)\r\n",
      "Requirement already satisfied: prompt-toolkit<3.1.0,>=3.0.41 in /home/gitpod/.pyenv/versions/3.12.3/lib/python3.12/site-packages (from IPython->import_ipynb) (3.0.43)\r\n",
      "Requirement already satisfied: pygments>=2.4.0 in /home/gitpod/.pyenv/versions/3.12.3/lib/python3.12/site-packages (from IPython->import_ipynb) (2.17.2)\r\n",
      "Requirement already satisfied: stack-data in /home/gitpod/.pyenv/versions/3.12.3/lib/python3.12/site-packages (from IPython->import_ipynb) (0.6.3)\r\n",
      "Requirement already satisfied: traitlets>=5.13.0 in /home/gitpod/.pyenv/versions/3.12.3/lib/python3.12/site-packages (from IPython->import_ipynb) (5.14.2)\r\n",
      "Requirement already satisfied: pexpect>4.3 in /home/gitpod/.pyenv/versions/3.12.3/lib/python3.12/site-packages (from IPython->import_ipynb) (4.9.0)\r\n",
      "Requirement already satisfied: fastjsonschema>=2.15 in /home/gitpod/.pyenv/versions/3.12.3/lib/python3.12/site-packages (from nbformat->import_ipynb) (2.19.1)\r\n",
      "Requirement already satisfied: jsonschema>=2.6 in /home/gitpod/.pyenv/versions/3.12.3/lib/python3.12/site-packages (from nbformat->import_ipynb) (4.21.1)\r\n",
      "Requirement already satisfied: jupyter-core!=5.0.*,>=4.12 in /home/gitpod/.pyenv/versions/3.12.3/lib/python3.12/site-packages (from nbformat->import_ipynb) (5.7.2)\r\n"
     ]
    },
    {
     "name": "stdout",
     "output_type": "stream",
     "text": [
      "Requirement already satisfied: parso<0.9.0,>=0.8.3 in /home/gitpod/.pyenv/versions/3.12.3/lib/python3.12/site-packages (from jedi>=0.16->IPython->import_ipynb) (0.8.4)\r\n"
     ]
    },
    {
     "name": "stdout",
     "output_type": "stream",
     "text": [
      "Requirement already satisfied: attrs>=22.2.0 in /home/gitpod/.pyenv/versions/3.12.3/lib/python3.12/site-packages (from jsonschema>=2.6->nbformat->import_ipynb) (23.2.0)\r\n",
      "Requirement already satisfied: jsonschema-specifications>=2023.03.6 in /home/gitpod/.pyenv/versions/3.12.3/lib/python3.12/site-packages (from jsonschema>=2.6->nbformat->import_ipynb) (2023.12.1)\r\n",
      "Requirement already satisfied: referencing>=0.28.4 in /home/gitpod/.pyenv/versions/3.12.3/lib/python3.12/site-packages (from jsonschema>=2.6->nbformat->import_ipynb) (0.34.0)\r\n",
      "Requirement already satisfied: rpds-py>=0.7.1 in /home/gitpod/.pyenv/versions/3.12.3/lib/python3.12/site-packages (from jsonschema>=2.6->nbformat->import_ipynb) (0.18.0)\r\n",
      "Requirement already satisfied: platformdirs>=2.5 in /home/gitpod/.pyenv/versions/3.12.3/lib/python3.12/site-packages (from jupyter-core!=5.0.*,>=4.12->nbformat->import_ipynb) (4.2.0)\r\n",
      "Requirement already satisfied: ptyprocess>=0.5 in /home/gitpod/.pyenv/versions/3.12.3/lib/python3.12/site-packages (from pexpect>4.3->IPython->import_ipynb) (0.7.0)\r\n",
      "Requirement already satisfied: wcwidth in /home/gitpod/.pyenv/versions/3.12.3/lib/python3.12/site-packages (from prompt-toolkit<3.1.0,>=3.0.41->IPython->import_ipynb) (0.2.13)\r\n"
     ]
    },
    {
     "name": "stdout",
     "output_type": "stream",
     "text": [
      "Requirement already satisfied: executing>=1.2.0 in /home/gitpod/.pyenv/versions/3.12.3/lib/python3.12/site-packages (from stack-data->IPython->import_ipynb) (2.0.1)\r\n",
      "Requirement already satisfied: asttokens>=2.1.0 in /home/gitpod/.pyenv/versions/3.12.3/lib/python3.12/site-packages (from stack-data->IPython->import_ipynb) (2.4.1)\r\n",
      "Requirement already satisfied: pure-eval in /home/gitpod/.pyenv/versions/3.12.3/lib/python3.12/site-packages (from stack-data->IPython->import_ipynb) (0.2.2)\r\n",
      "Requirement already satisfied: six>=1.12.0 in /home/gitpod/.pyenv/versions/3.12.3/lib/python3.12/site-packages (from asttokens>=2.1.0->stack-data->IPython->import_ipynb) (1.16.0)\r\n"
     ]
    }
   ],
   "source": [
    "# install the import_ipynb module which allows us to import notebooks into notebooks\n",
    "!pip install import_ipynb\n",
    "import import_ipynb"
   ]
  },
  {
   "cell_type": "code",
   "execution_count": 2,
   "metadata": {
    "colab": {
     "base_uri": "https://localhost:8080/"
    },
    "executionInfo": {
     "elapsed": 44040,
     "status": "ok",
     "timestamp": 1712869228878,
     "user": {
      "displayName": "Richard Barker",
      "userId": "08066349230655107502"
     },
     "user_tz": 300
    },
    "id": "G-0EcOsLiVb9",
    "outputId": "33bf9450-510a-4da4-d8b1-d333c32df470"
   },
   "outputs": [
    {
     "ename": "ModuleNotFoundError",
     "evalue": "No module named 'google'",
     "output_type": "error",
     "traceback": [
      "\u001b[0;31m---------------------------------------------------------------------------\u001b[0m",
      "\u001b[0;31mModuleNotFoundError\u001b[0m                       Traceback (most recent call last)",
      "Cell \u001b[0;32mIn[2], line 2\u001b[0m\n\u001b[1;32m      1\u001b[0m \u001b[38;5;66;03m# mount your Google drive to the \"mnt/\" mount point\u001b[39;00m\n\u001b[0;32m----> 2\u001b[0m \u001b[38;5;28;01mfrom\u001b[39;00m \u001b[38;5;21;01mgoogle\u001b[39;00m\u001b[38;5;21;01m.\u001b[39;00m\u001b[38;5;21;01mcolab\u001b[39;00m \u001b[38;5;28;01mimport\u001b[39;00m drive\n\u001b[1;32m      3\u001b[0m drive\u001b[38;5;241m.\u001b[39mflush_and_unmount()\n\u001b[1;32m      4\u001b[0m drive\u001b[38;5;241m.\u001b[39mmount(\u001b[38;5;124m\"\u001b[39m\u001b[38;5;124mmnt\u001b[39m\u001b[38;5;124m\"\u001b[39m)\n",
      "\u001b[0;31mModuleNotFoundError\u001b[0m: No module named 'google'"
     ]
    }
   ],
   "source": [
    "# mount your Google drive to the \"mnt/\" mount point\n",
    "from google.colab import drive\n",
    "drive.flush_and_unmount()\n",
    "drive.mount(\"mnt\")"
   ]
  },
  {
   "cell_type": "code",
   "execution_count": 3,
   "metadata": {
    "colab": {
     "base_uri": "https://localhost:8080/"
    },
    "executionInfo": {
     "elapsed": 130358,
     "status": "ok",
     "timestamp": 1712869359219,
     "user": {
      "displayName": "Richard Barker",
      "userId": "08066349230655107502"
     },
     "user_tz": 300
    },
    "id": "vfE-DcvMxyOg",
    "outputId": "f949285f-f472-47c8-dc73-68a281f44e44"
   },
   "outputs": [
    {
     "name": "stdout",
     "output_type": "stream",
     "text": [
      "importing Jupyter notebook from mnt/MyDrive/Colab Notebooks/Copy of methods.ipynb\n",
      "Requirement already satisfied: scikit-learn in /usr/local/lib/python3.10/dist-packages (1.2.2)\n",
      "Requirement already satisfied: numpy>=1.17.3 in /usr/local/lib/python3.10/dist-packages (from scikit-learn) (1.25.2)\n",
      "Requirement already satisfied: scipy>=1.3.2 in /usr/local/lib/python3.10/dist-packages (from scikit-learn) (1.11.4)\n",
      "Requirement already satisfied: joblib>=1.1.1 in /usr/local/lib/python3.10/dist-packages (from scikit-learn) (1.4.0)\n",
      "Requirement already satisfied: threadpoolctl>=2.0.0 in /usr/local/lib/python3.10/dist-packages (from scikit-learn) (3.4.0)\n",
      "Collecting scanpy\n",
      "  Downloading scanpy-1.10.1-py3-none-any.whl (2.1 MB)\n",
      "\u001b[2K     \u001b[90m━━━━━━━━━━━━━━━━━━━━━━━━━━━━━━━━━━━━━━━━\u001b[0m \u001b[32m2.1/2.1 MB\u001b[0m \u001b[31m13.7 MB/s\u001b[0m eta \u001b[36m0:00:00\u001b[0m\n",
      "\u001b[?25hCollecting anndata>=0.8 (from scanpy)\n",
      "  Downloading anndata-0.10.7-py3-none-any.whl (122 kB)\n",
      "\u001b[2K     \u001b[90m━━━━━━━━━━━━━━━━━━━━━━━━━━━━━━━━━━━━━━━━\u001b[0m \u001b[32m122.4/122.4 kB\u001b[0m \u001b[31m27.2 MB/s\u001b[0m eta \u001b[36m0:00:00\u001b[0m\n",
      "\u001b[?25hRequirement already satisfied: h5py>=3.1 in /usr/local/lib/python3.10/dist-packages (from scanpy) (3.9.0)\n",
      "Requirement already satisfied: joblib in /usr/local/lib/python3.10/dist-packages (from scanpy) (1.4.0)\n",
      "Collecting legacy-api-wrap>=1.4 (from scanpy)\n",
      "  Downloading legacy_api_wrap-1.4-py3-none-any.whl (15 kB)\n",
      "Requirement already satisfied: matplotlib>=3.6 in /usr/local/lib/python3.10/dist-packages (from scanpy) (3.7.1)\n",
      "Requirement already satisfied: natsort in /usr/local/lib/python3.10/dist-packages (from scanpy) (8.4.0)\n",
      "Requirement already satisfied: networkx>=2.7 in /usr/local/lib/python3.10/dist-packages (from scanpy) (3.3)\n",
      "Requirement already satisfied: numba>=0.56 in /usr/local/lib/python3.10/dist-packages (from scanpy) (0.58.1)\n",
      "Requirement already satisfied: numpy>=1.23 in /usr/local/lib/python3.10/dist-packages (from scanpy) (1.25.2)\n",
      "Requirement already satisfied: packaging>=21.3 in /usr/local/lib/python3.10/dist-packages (from scanpy) (24.0)\n",
      "Requirement already satisfied: pandas>=1.5 in /usr/local/lib/python3.10/dist-packages (from scanpy) (2.0.3)\n",
      "Requirement already satisfied: patsy in /usr/local/lib/python3.10/dist-packages (from scanpy) (0.5.6)\n",
      "Collecting pynndescent>=0.5 (from scanpy)\n",
      "  Downloading pynndescent-0.5.12-py3-none-any.whl (56 kB)\n",
      "\u001b[2K     \u001b[90m━━━━━━━━━━━━━━━━━━━━━━━━━━━━━━━━━━━━━━━━\u001b[0m \u001b[32m56.8/56.8 kB\u001b[0m \u001b[31m195.4 MB/s\u001b[0m eta \u001b[36m0:00:00\u001b[0m\n",
      "\u001b[?25hRequirement already satisfied: scikit-learn>=0.24 in /usr/local/lib/python3.10/dist-packages (from scanpy) (1.2.2)\n",
      "Requirement already satisfied: scipy>=1.8 in /usr/local/lib/python3.10/dist-packages (from scanpy) (1.11.4)\n",
      "Requirement already satisfied: seaborn>=0.13 in /usr/local/lib/python3.10/dist-packages (from scanpy) (0.13.1)\n",
      "Collecting session-info (from scanpy)\n",
      "  Downloading session_info-1.0.0.tar.gz (24 kB)\n",
      "  Preparing metadata (setup.py) ... \u001b[?25l\u001b[?25hdone\n",
      "Requirement already satisfied: statsmodels>=0.13 in /usr/local/lib/python3.10/dist-packages (from scanpy) (0.14.1)\n",
      "Requirement already satisfied: tqdm in /usr/local/lib/python3.10/dist-packages (from scanpy) (4.66.2)\n",
      "Collecting umap-learn!=0.5.0,>=0.5 (from scanpy)\n",
      "  Downloading umap_learn-0.5.6-py3-none-any.whl (85 kB)\n",
      "\u001b[2K     \u001b[90m━━━━━━━━━━━━━━━━━━━━━━━━━━━━━━━━━━━━━━━━\u001b[0m \u001b[32m85.7/85.7 kB\u001b[0m \u001b[31m210.2 MB/s\u001b[0m eta \u001b[36m0:00:00\u001b[0m\n",
      "\u001b[?25hCollecting array-api-compat!=1.5,>1.4 (from anndata>=0.8->scanpy)\n",
      "  Downloading array_api_compat-1.6-py3-none-any.whl (36 kB)\n",
      "Requirement already satisfied: exceptiongroup in /usr/local/lib/python3.10/dist-packages (from anndata>=0.8->scanpy) (1.2.0)\n",
      "Requirement already satisfied: contourpy>=1.0.1 in /usr/local/lib/python3.10/dist-packages (from matplotlib>=3.6->scanpy) (1.2.1)\n",
      "Requirement already satisfied: cycler>=0.10 in /usr/local/lib/python3.10/dist-packages (from matplotlib>=3.6->scanpy) (0.12.1)\n",
      "Requirement already satisfied: fonttools>=4.22.0 in /usr/local/lib/python3.10/dist-packages (from matplotlib>=3.6->scanpy) (4.51.0)\n",
      "Requirement already satisfied: kiwisolver>=1.0.1 in /usr/local/lib/python3.10/dist-packages (from matplotlib>=3.6->scanpy) (1.4.5)\n",
      "Requirement already satisfied: pillow>=6.2.0 in /usr/local/lib/python3.10/dist-packages (from matplotlib>=3.6->scanpy) (9.4.0)\n",
      "Requirement already satisfied: pyparsing>=2.3.1 in /usr/local/lib/python3.10/dist-packages (from matplotlib>=3.6->scanpy) (3.1.2)\n",
      "Requirement already satisfied: python-dateutil>=2.7 in /usr/local/lib/python3.10/dist-packages (from matplotlib>=3.6->scanpy) (2.8.2)\n",
      "Requirement already satisfied: llvmlite<0.42,>=0.41.0dev0 in /usr/local/lib/python3.10/dist-packages (from numba>=0.56->scanpy) (0.41.1)\n",
      "Requirement already satisfied: pytz>=2020.1 in /usr/local/lib/python3.10/dist-packages (from pandas>=1.5->scanpy) (2023.4)\n",
      "Requirement already satisfied: tzdata>=2022.1 in /usr/local/lib/python3.10/dist-packages (from pandas>=1.5->scanpy) (2024.1)\n",
      "Requirement already satisfied: threadpoolctl>=2.0.0 in /usr/local/lib/python3.10/dist-packages (from scikit-learn>=0.24->scanpy) (3.4.0)\n",
      "Requirement already satisfied: six in /usr/local/lib/python3.10/dist-packages (from patsy->scanpy) (1.16.0)\n",
      "Collecting stdlib_list (from session-info->scanpy)\n",
      "  Downloading stdlib_list-0.10.0-py3-none-any.whl (79 kB)\n",
      "\u001b[2K     \u001b[90m━━━━━━━━━━━━━━━━━━━━━━━━━━━━━━━━━━━━━━━━\u001b[0m \u001b[32m79.8/79.8 kB\u001b[0m \u001b[31m114.3 MB/s\u001b[0m eta \u001b[36m0:00:00\u001b[0m\n",
      "\u001b[?25hBuilding wheels for collected packages: session-info\n",
      "  Building wheel for session-info (setup.py) ... \u001b[?25l\u001b[?25hdone\n",
      "  Created wheel for session-info: filename=session_info-1.0.0-py3-none-any.whl size=8026 sha256=43f4fb977770a2dde64e1d39aa5ddc8b7daebe0dcfbac26867948667f5f3a645\n",
      "  Stored in directory: /tmp/pip-ephem-wheel-cache-p3miqtet/wheels/6a/aa/b9/eb5d4031476ec10802795b97ccf937b9bd998d68a9b268765a\n",
      "Successfully built session-info\n",
      "Installing collected packages: array-api-compat, stdlib_list, legacy-api-wrap, session-info, pynndescent, anndata, umap-learn, scanpy\n",
      "Successfully installed anndata-0.10.7 array-api-compat-1.6 legacy-api-wrap-1.4 pynndescent-0.5.12 scanpy-1.10.1 session-info-1.0.0 stdlib_list-0.10.0 umap-learn-0.5.6\n",
      "Collecting gseapy\n",
      "  Downloading gseapy-1.1.2-cp310-cp310-manylinux_2_17_x86_64.manylinux2014_x86_64.whl (1.3 MB)\n",
      "\u001b[2K     \u001b[90m━━━━━━━━━━━━━━━━━━━━━━━━━━━━━━━━━━━━━━━━\u001b[0m \u001b[32m1.3/1.3 MB\u001b[0m \u001b[31m11.0 MB/s\u001b[0m eta \u001b[36m0:00:00\u001b[0m\n",
      "\u001b[?25hRequirement already satisfied: numpy>=1.13.0 in /usr/local/lib/python3.10/dist-packages (from gseapy) (1.25.2)\n",
      "Requirement already satisfied: scipy in /usr/local/lib/python3.10/dist-packages (from gseapy) (1.11.4)\n",
      "Requirement already satisfied: pandas in /usr/local/lib/python3.10/dist-packages (from gseapy) (2.0.3)\n",
      "Requirement already satisfied: matplotlib>=2.2 in /usr/local/lib/python3.10/dist-packages (from gseapy) (3.7.1)\n",
      "Requirement already satisfied: requests in /usr/local/lib/python3.10/dist-packages (from gseapy) (2.31.0)\n",
      "Requirement already satisfied: contourpy>=1.0.1 in /usr/local/lib/python3.10/dist-packages (from matplotlib>=2.2->gseapy) (1.2.1)\n",
      "Requirement already satisfied: cycler>=0.10 in /usr/local/lib/python3.10/dist-packages (from matplotlib>=2.2->gseapy) (0.12.1)\n",
      "Requirement already satisfied: fonttools>=4.22.0 in /usr/local/lib/python3.10/dist-packages (from matplotlib>=2.2->gseapy) (4.51.0)\n",
      "Requirement already satisfied: kiwisolver>=1.0.1 in /usr/local/lib/python3.10/dist-packages (from matplotlib>=2.2->gseapy) (1.4.5)\n",
      "Requirement already satisfied: packaging>=20.0 in /usr/local/lib/python3.10/dist-packages (from matplotlib>=2.2->gseapy) (24.0)\n",
      "Requirement already satisfied: pillow>=6.2.0 in /usr/local/lib/python3.10/dist-packages (from matplotlib>=2.2->gseapy) (9.4.0)\n",
      "Requirement already satisfied: pyparsing>=2.3.1 in /usr/local/lib/python3.10/dist-packages (from matplotlib>=2.2->gseapy) (3.1.2)\n",
      "Requirement already satisfied: python-dateutil>=2.7 in /usr/local/lib/python3.10/dist-packages (from matplotlib>=2.2->gseapy) (2.8.2)\n",
      "Requirement already satisfied: pytz>=2020.1 in /usr/local/lib/python3.10/dist-packages (from pandas->gseapy) (2023.4)\n",
      "Requirement already satisfied: tzdata>=2022.1 in /usr/local/lib/python3.10/dist-packages (from pandas->gseapy) (2024.1)\n",
      "Requirement already satisfied: charset-normalizer<4,>=2 in /usr/local/lib/python3.10/dist-packages (from requests->gseapy) (3.3.2)\n",
      "Requirement already satisfied: idna<4,>=2.5 in /usr/local/lib/python3.10/dist-packages (from requests->gseapy) (3.6)\n",
      "Requirement already satisfied: urllib3<3,>=1.21.1 in /usr/local/lib/python3.10/dist-packages (from requests->gseapy) (2.0.7)\n",
      "Requirement already satisfied: certifi>=2017.4.17 in /usr/local/lib/python3.10/dist-packages (from requests->gseapy) (2024.2.2)\n",
      "Requirement already satisfied: six>=1.5 in /usr/local/lib/python3.10/dist-packages (from python-dateutil>=2.7->matplotlib>=2.2->gseapy) (1.16.0)\n",
      "Installing collected packages: gseapy\n",
      "Successfully installed gseapy-1.1.2\n",
      "Collecting pydeseq2\n",
      "  Downloading pydeseq2-0.4.8-py3-none-any.whl (44 kB)\n",
      "\u001b[2K     \u001b[90m━━━━━━━━━━━━━━━━━━━━━━━━━━━━━━━━━━━━━━━━\u001b[0m \u001b[32m44.2/44.2 kB\u001b[0m \u001b[31m3.3 MB/s\u001b[0m eta \u001b[36m0:00:00\u001b[0m\n",
      "\u001b[?25hRequirement already satisfied: anndata>=0.8.0 in /usr/local/lib/python3.10/dist-packages (from pydeseq2) (0.10.7)\n",
      "Requirement already satisfied: numpy>=1.23.0 in /usr/local/lib/python3.10/dist-packages (from pydeseq2) (1.25.2)\n",
      "Requirement already satisfied: pandas>=1.4.0 in /usr/local/lib/python3.10/dist-packages (from pydeseq2) (2.0.3)\n",
      "Requirement already satisfied: scikit-learn>=1.1.0 in /usr/local/lib/python3.10/dist-packages (from pydeseq2) (1.2.2)\n",
      "Requirement already satisfied: scipy>=1.11.0 in /usr/local/lib/python3.10/dist-packages (from pydeseq2) (1.11.4)\n",
      "Requirement already satisfied: matplotlib>=3.6.2 in /usr/local/lib/python3.10/dist-packages (from pydeseq2) (3.7.1)\n",
      "Requirement already satisfied: array-api-compat!=1.5,>1.4 in /usr/local/lib/python3.10/dist-packages (from anndata>=0.8.0->pydeseq2) (1.6)\n",
      "Requirement already satisfied: exceptiongroup in /usr/local/lib/python3.10/dist-packages (from anndata>=0.8.0->pydeseq2) (1.2.0)\n",
      "Requirement already satisfied: h5py>=3.1 in /usr/local/lib/python3.10/dist-packages (from anndata>=0.8.0->pydeseq2) (3.9.0)\n",
      "Requirement already satisfied: natsort in /usr/local/lib/python3.10/dist-packages (from anndata>=0.8.0->pydeseq2) (8.4.0)\n",
      "Requirement already satisfied: packaging>=20.0 in /usr/local/lib/python3.10/dist-packages (from anndata>=0.8.0->pydeseq2) (24.0)\n",
      "Requirement already satisfied: contourpy>=1.0.1 in /usr/local/lib/python3.10/dist-packages (from matplotlib>=3.6.2->pydeseq2) (1.2.1)\n",
      "Requirement already satisfied: cycler>=0.10 in /usr/local/lib/python3.10/dist-packages (from matplotlib>=3.6.2->pydeseq2) (0.12.1)\n",
      "Requirement already satisfied: fonttools>=4.22.0 in /usr/local/lib/python3.10/dist-packages (from matplotlib>=3.6.2->pydeseq2) (4.51.0)\n",
      "Requirement already satisfied: kiwisolver>=1.0.1 in /usr/local/lib/python3.10/dist-packages (from matplotlib>=3.6.2->pydeseq2) (1.4.5)\n",
      "Requirement already satisfied: pillow>=6.2.0 in /usr/local/lib/python3.10/dist-packages (from matplotlib>=3.6.2->pydeseq2) (9.4.0)\n",
      "Requirement already satisfied: pyparsing>=2.3.1 in /usr/local/lib/python3.10/dist-packages (from matplotlib>=3.6.2->pydeseq2) (3.1.2)\n",
      "Requirement already satisfied: python-dateutil>=2.7 in /usr/local/lib/python3.10/dist-packages (from matplotlib>=3.6.2->pydeseq2) (2.8.2)\n",
      "Requirement already satisfied: pytz>=2020.1 in /usr/local/lib/python3.10/dist-packages (from pandas>=1.4.0->pydeseq2) (2023.4)\n",
      "Requirement already satisfied: tzdata>=2022.1 in /usr/local/lib/python3.10/dist-packages (from pandas>=1.4.0->pydeseq2) (2024.1)\n",
      "Requirement already satisfied: joblib>=1.1.1 in /usr/local/lib/python3.10/dist-packages (from scikit-learn>=1.1.0->pydeseq2) (1.4.0)\n",
      "Requirement already satisfied: threadpoolctl>=2.0.0 in /usr/local/lib/python3.10/dist-packages (from scikit-learn>=1.1.0->pydeseq2) (3.4.0)\n",
      "Requirement already satisfied: six>=1.5 in /usr/local/lib/python3.10/dist-packages (from python-dateutil>=2.7->matplotlib>=3.6.2->pydeseq2) (1.16.0)\n",
      "Installing collected packages: pydeseq2\n",
      "Successfully installed pydeseq2-0.4.8\n",
      "Collecting pybiomart==0.1\n",
      "  Downloading pybiomart-0.1.tar.gz (24 kB)\n",
      "  Preparing metadata (setup.py) ... \u001b[?25l\u001b[?25hdone\n",
      "Requirement already satisfied: future in /usr/local/lib/python3.10/dist-packages (from pybiomart==0.1) (0.18.3)\n",
      "Requirement already satisfied: pandas in /usr/local/lib/python3.10/dist-packages (from pybiomart==0.1) (2.0.3)\n",
      "Requirement already satisfied: requests in /usr/local/lib/python3.10/dist-packages (from pybiomart==0.1) (2.31.0)\n",
      "Collecting requests_cache (from pybiomart==0.1)\n",
      "  Downloading requests_cache-1.2.0-py3-none-any.whl (61 kB)\n",
      "\u001b[2K     \u001b[90m━━━━━━━━━━━━━━━━━━━━━━━━━━━━━━━━━━━━━━━━\u001b[0m \u001b[32m61.4/61.4 kB\u001b[0m \u001b[31m4.8 MB/s\u001b[0m eta \u001b[36m0:00:00\u001b[0m\n",
      "\u001b[?25hRequirement already satisfied: python-dateutil>=2.8.2 in /usr/local/lib/python3.10/dist-packages (from pandas->pybiomart==0.1) (2.8.2)\n",
      "Requirement already satisfied: pytz>=2020.1 in /usr/local/lib/python3.10/dist-packages (from pandas->pybiomart==0.1) (2023.4)\n",
      "Requirement already satisfied: tzdata>=2022.1 in /usr/local/lib/python3.10/dist-packages (from pandas->pybiomart==0.1) (2024.1)\n",
      "Requirement already satisfied: numpy>=1.21.0 in /usr/local/lib/python3.10/dist-packages (from pandas->pybiomart==0.1) (1.25.2)\n",
      "Requirement already satisfied: charset-normalizer<4,>=2 in /usr/local/lib/python3.10/dist-packages (from requests->pybiomart==0.1) (3.3.2)\n",
      "Requirement already satisfied: idna<4,>=2.5 in /usr/local/lib/python3.10/dist-packages (from requests->pybiomart==0.1) (3.6)\n",
      "Requirement already satisfied: urllib3<3,>=1.21.1 in /usr/local/lib/python3.10/dist-packages (from requests->pybiomart==0.1) (2.0.7)\n",
      "Requirement already satisfied: certifi>=2017.4.17 in /usr/local/lib/python3.10/dist-packages (from requests->pybiomart==0.1) (2024.2.2)\n",
      "Requirement already satisfied: attrs>=21.2 in /usr/local/lib/python3.10/dist-packages (from requests_cache->pybiomart==0.1) (23.2.0)\n",
      "Collecting cattrs>=22.2 (from requests_cache->pybiomart==0.1)\n",
      "  Downloading cattrs-23.2.3-py3-none-any.whl (57 kB)\n",
      "\u001b[2K     \u001b[90m━━━━━━━━━━━━━━━━━━━━━━━━━━━━━━━━━━━━━━━━\u001b[0m \u001b[32m57.5/57.5 kB\u001b[0m \u001b[31m33.6 MB/s\u001b[0m eta \u001b[36m0:00:00\u001b[0m\n",
      "\u001b[?25hRequirement already satisfied: platformdirs>=2.5 in /usr/local/lib/python3.10/dist-packages (from requests_cache->pybiomart==0.1) (4.2.0)\n",
      "Collecting url-normalize>=1.4 (from requests_cache->pybiomart==0.1)\n",
      "  Downloading url_normalize-1.4.3-py2.py3-none-any.whl (6.8 kB)\n",
      "Requirement already satisfied: exceptiongroup>=1.1.1 in /usr/local/lib/python3.10/dist-packages (from cattrs>=22.2->requests_cache->pybiomart==0.1) (1.2.0)\n",
      "Requirement already satisfied: typing-extensions!=4.6.3,>=4.1.0 in /usr/local/lib/python3.10/dist-packages (from cattrs>=22.2->requests_cache->pybiomart==0.1) (4.11.0)\n",
      "Requirement already satisfied: six>=1.5 in /usr/local/lib/python3.10/dist-packages (from python-dateutil>=2.8.2->pandas->pybiomart==0.1) (1.16.0)\n",
      "Building wheels for collected packages: pybiomart\n",
      "  Building wheel for pybiomart (setup.py) ... \u001b[?25l\u001b[?25hdone\n",
      "  Created wheel for pybiomart: filename=pybiomart-0.1-py3-none-any.whl size=14600 sha256=bdbf1adfdef02851d63c82234db34733a2485934ae63afb516a351e7ac7bbfe3\n",
      "  Stored in directory: /tmp/pip-ephem-wheel-cache-946gdg6l/wheels/b3/07/8b/21153224936c782146a686de88b58e1d177b8873104b601ff7\n",
      "Successfully built pybiomart\n",
      "Installing collected packages: url-normalize, cattrs, requests_cache, pybiomart\n",
      "Successfully installed cattrs-23.2.3 pybiomart-0.1 requests_cache-1.2.0 url-normalize-1.4.3\n",
      "Collecting mygene\n",
      "  Downloading mygene-3.2.2-py2.py3-none-any.whl (5.4 kB)\n",
      "Collecting biothings-client>=0.2.6 (from mygene)\n",
      "  Downloading biothings_client-0.3.1-py2.py3-none-any.whl (29 kB)\n",
      "Requirement already satisfied: requests>=2.3.0 in /usr/local/lib/python3.10/dist-packages (from biothings-client>=0.2.6->mygene) (2.31.0)\n",
      "Requirement already satisfied: charset-normalizer<4,>=2 in /usr/local/lib/python3.10/dist-packages (from requests>=2.3.0->biothings-client>=0.2.6->mygene) (3.3.2)\n",
      "Requirement already satisfied: idna<4,>=2.5 in /usr/local/lib/python3.10/dist-packages (from requests>=2.3.0->biothings-client>=0.2.6->mygene) (3.6)\n",
      "Requirement already satisfied: urllib3<3,>=1.21.1 in /usr/local/lib/python3.10/dist-packages (from requests>=2.3.0->biothings-client>=0.2.6->mygene) (2.0.7)\n",
      "Requirement already satisfied: certifi>=2017.4.17 in /usr/local/lib/python3.10/dist-packages (from requests>=2.3.0->biothings-client>=0.2.6->mygene) (2024.2.2)\n",
      "Installing collected packages: biothings-client, mygene\n",
      "Successfully installed biothings-client-0.3.1 mygene-3.2.2\n",
      "Collecting sklearn_som\n",
      "  Downloading sklearn_som-1.1.0-py3-none-any.whl (6.7 kB)\n",
      "Requirement already satisfied: numpy in /usr/local/lib/python3.10/dist-packages (from sklearn_som) (1.25.2)\n",
      "Installing collected packages: sklearn_som\n",
      "Successfully installed sklearn_som-1.1.0\n",
      "Requirement already satisfied: pandas in /usr/local/lib/python3.10/dist-packages (2.0.3)\n",
      "Requirement already satisfied: python-dateutil>=2.8.2 in /usr/local/lib/python3.10/dist-packages (from pandas) (2.8.2)\n",
      "Requirement already satisfied: pytz>=2020.1 in /usr/local/lib/python3.10/dist-packages (from pandas) (2023.4)\n",
      "Requirement already satisfied: tzdata>=2022.1 in /usr/local/lib/python3.10/dist-packages (from pandas) (2024.1)\n",
      "Requirement already satisfied: numpy>=1.21.0 in /usr/local/lib/python3.10/dist-packages (from pandas) (1.25.2)\n",
      "Requirement already satisfied: six>=1.5 in /usr/local/lib/python3.10/dist-packages (from python-dateutil>=2.8.2->pandas) (1.16.0)\n",
      "Requirement already satisfied: numpy in /usr/local/lib/python3.10/dist-packages (1.25.2)\n",
      "Requirement already satisfied: matplotlib in /usr/local/lib/python3.10/dist-packages (3.7.1)\n",
      "Requirement already satisfied: contourpy>=1.0.1 in /usr/local/lib/python3.10/dist-packages (from matplotlib) (1.2.1)\n",
      "Requirement already satisfied: cycler>=0.10 in /usr/local/lib/python3.10/dist-packages (from matplotlib) (0.12.1)\n",
      "Requirement already satisfied: fonttools>=4.22.0 in /usr/local/lib/python3.10/dist-packages (from matplotlib) (4.51.0)\n",
      "Requirement already satisfied: kiwisolver>=1.0.1 in /usr/local/lib/python3.10/dist-packages (from matplotlib) (1.4.5)\n",
      "Requirement already satisfied: numpy>=1.20 in /usr/local/lib/python3.10/dist-packages (from matplotlib) (1.25.2)\n",
      "Requirement already satisfied: packaging>=20.0 in /usr/local/lib/python3.10/dist-packages (from matplotlib) (24.0)\n",
      "Requirement already satisfied: pillow>=6.2.0 in /usr/local/lib/python3.10/dist-packages (from matplotlib) (9.4.0)\n",
      "Requirement already satisfied: pyparsing>=2.3.1 in /usr/local/lib/python3.10/dist-packages (from matplotlib) (3.1.2)\n",
      "Requirement already satisfied: python-dateutil>=2.7 in /usr/local/lib/python3.10/dist-packages (from matplotlib) (2.8.2)\n",
      "Requirement already satisfied: six>=1.5 in /usr/local/lib/python3.10/dist-packages (from python-dateutil>=2.7->matplotlib) (1.16.0)\n",
      "Requirement already satisfied: sklearn-som in /usr/local/lib/python3.10/dist-packages (1.1.0)\n",
      "Requirement already satisfied: numpy in /usr/local/lib/python3.10/dist-packages (from sklearn-som) (1.25.2)\n",
      "Requirement already satisfied: pyDeseq2 in /usr/local/lib/python3.10/dist-packages (0.4.8)\n",
      "Requirement already satisfied: anndata>=0.8.0 in /usr/local/lib/python3.10/dist-packages (from pyDeseq2) (0.10.7)\n",
      "Requirement already satisfied: numpy>=1.23.0 in /usr/local/lib/python3.10/dist-packages (from pyDeseq2) (1.25.2)\n",
      "Requirement already satisfied: pandas>=1.4.0 in /usr/local/lib/python3.10/dist-packages (from pyDeseq2) (2.0.3)\n",
      "Requirement already satisfied: scikit-learn>=1.1.0 in /usr/local/lib/python3.10/dist-packages (from pyDeseq2) (1.2.2)\n",
      "Requirement already satisfied: scipy>=1.11.0 in /usr/local/lib/python3.10/dist-packages (from pyDeseq2) (1.11.4)\n",
      "Requirement already satisfied: matplotlib>=3.6.2 in /usr/local/lib/python3.10/dist-packages (from pyDeseq2) (3.7.1)\n",
      "Requirement already satisfied: array-api-compat!=1.5,>1.4 in /usr/local/lib/python3.10/dist-packages (from anndata>=0.8.0->pyDeseq2) (1.6)\n",
      "Requirement already satisfied: exceptiongroup in /usr/local/lib/python3.10/dist-packages (from anndata>=0.8.0->pyDeseq2) (1.2.0)\n",
      "Requirement already satisfied: h5py>=3.1 in /usr/local/lib/python3.10/dist-packages (from anndata>=0.8.0->pyDeseq2) (3.9.0)\n",
      "Requirement already satisfied: natsort in /usr/local/lib/python3.10/dist-packages (from anndata>=0.8.0->pyDeseq2) (8.4.0)\n",
      "Requirement already satisfied: packaging>=20.0 in /usr/local/lib/python3.10/dist-packages (from anndata>=0.8.0->pyDeseq2) (24.0)\n",
      "Requirement already satisfied: contourpy>=1.0.1 in /usr/local/lib/python3.10/dist-packages (from matplotlib>=3.6.2->pyDeseq2) (1.2.1)\n",
      "Requirement already satisfied: cycler>=0.10 in /usr/local/lib/python3.10/dist-packages (from matplotlib>=3.6.2->pyDeseq2) (0.12.1)\n",
      "Requirement already satisfied: fonttools>=4.22.0 in /usr/local/lib/python3.10/dist-packages (from matplotlib>=3.6.2->pyDeseq2) (4.51.0)\n",
      "Requirement already satisfied: kiwisolver>=1.0.1 in /usr/local/lib/python3.10/dist-packages (from matplotlib>=3.6.2->pyDeseq2) (1.4.5)\n",
      "Requirement already satisfied: pillow>=6.2.0 in /usr/local/lib/python3.10/dist-packages (from matplotlib>=3.6.2->pyDeseq2) (9.4.0)\n",
      "Requirement already satisfied: pyparsing>=2.3.1 in /usr/local/lib/python3.10/dist-packages (from matplotlib>=3.6.2->pyDeseq2) (3.1.2)\n",
      "Requirement already satisfied: python-dateutil>=2.7 in /usr/local/lib/python3.10/dist-packages (from matplotlib>=3.6.2->pyDeseq2) (2.8.2)\n",
      "Requirement already satisfied: pytz>=2020.1 in /usr/local/lib/python3.10/dist-packages (from pandas>=1.4.0->pyDeseq2) (2023.4)\n",
      "Requirement already satisfied: tzdata>=2022.1 in /usr/local/lib/python3.10/dist-packages (from pandas>=1.4.0->pyDeseq2) (2024.1)\n",
      "Requirement already satisfied: joblib>=1.1.1 in /usr/local/lib/python3.10/dist-packages (from scikit-learn>=1.1.0->pyDeseq2) (1.4.0)\n",
      "Requirement already satisfied: threadpoolctl>=2.0.0 in /usr/local/lib/python3.10/dist-packages (from scikit-learn>=1.1.0->pyDeseq2) (3.4.0)\n",
      "Requirement already satisfied: six>=1.5 in /usr/local/lib/python3.10/dist-packages (from python-dateutil>=2.7->matplotlib>=3.6.2->pyDeseq2) (1.16.0)\n",
      "Collecting Ensembl_converter\n",
      "  Downloading ensembl_converter-0.0.1-py3-none-any.whl (4.3 kB)\n",
      "Requirement already satisfied: numpy in /usr/local/lib/python3.10/dist-packages (from Ensembl_converter) (1.25.2)\n",
      "Requirement already satisfied: pandas in /usr/local/lib/python3.10/dist-packages (from Ensembl_converter) (2.0.3)\n",
      "Requirement already satisfied: tqdm in /usr/local/lib/python3.10/dist-packages (from Ensembl_converter) (4.66.2)\n",
      "Requirement already satisfied: requests in /usr/local/lib/python3.10/dist-packages (from Ensembl_converter) (2.31.0)\n",
      "Requirement already satisfied: python-dateutil>=2.8.2 in /usr/local/lib/python3.10/dist-packages (from pandas->Ensembl_converter) (2.8.2)\n",
      "Requirement already satisfied: pytz>=2020.1 in /usr/local/lib/python3.10/dist-packages (from pandas->Ensembl_converter) (2023.4)\n",
      "Requirement already satisfied: tzdata>=2022.1 in /usr/local/lib/python3.10/dist-packages (from pandas->Ensembl_converter) (2024.1)\n",
      "Requirement already satisfied: charset-normalizer<4,>=2 in /usr/local/lib/python3.10/dist-packages (from requests->Ensembl_converter) (3.3.2)\n",
      "Requirement already satisfied: idna<4,>=2.5 in /usr/local/lib/python3.10/dist-packages (from requests->Ensembl_converter) (3.6)\n",
      "Requirement already satisfied: urllib3<3,>=1.21.1 in /usr/local/lib/python3.10/dist-packages (from requests->Ensembl_converter) (2.0.7)\n",
      "Requirement already satisfied: certifi>=2017.4.17 in /usr/local/lib/python3.10/dist-packages (from requests->Ensembl_converter) (2024.2.2)\n",
      "Requirement already satisfied: six>=1.5 in /usr/local/lib/python3.10/dist-packages (from python-dateutil>=2.8.2->pandas->Ensembl_converter) (1.16.0)\n",
      "Installing collected packages: Ensembl_converter\n",
      "Successfully installed Ensembl_converter-0.0.1\n",
      "Requirement already satisfied: mygene in /usr/local/lib/python3.10/dist-packages (3.2.2)\n",
      "Requirement already satisfied: biothings-client>=0.2.6 in /usr/local/lib/python3.10/dist-packages (from mygene) (0.3.1)\n",
      "Requirement already satisfied: requests>=2.3.0 in /usr/local/lib/python3.10/dist-packages (from biothings-client>=0.2.6->mygene) (2.31.0)\n",
      "Requirement already satisfied: charset-normalizer<4,>=2 in /usr/local/lib/python3.10/dist-packages (from requests>=2.3.0->biothings-client>=0.2.6->mygene) (3.3.2)\n",
      "Requirement already satisfied: idna<4,>=2.5 in /usr/local/lib/python3.10/dist-packages (from requests>=2.3.0->biothings-client>=0.2.6->mygene) (3.6)\n",
      "Requirement already satisfied: urllib3<3,>=1.21.1 in /usr/local/lib/python3.10/dist-packages (from requests>=2.3.0->biothings-client>=0.2.6->mygene) (2.0.7)\n",
      "Requirement already satisfied: certifi>=2017.4.17 in /usr/local/lib/python3.10/dist-packages (from requests>=2.3.0->biothings-client>=0.2.6->mygene) (2024.2.2)\n"
     ]
    }
   ],
   "source": [
    "# import the \"Copy of methods.ipynb\" notebook into this notebook\n",
    "m = __import__(\"mnt/MyDrive/Colab Notebooks/Copy of methods\")"
   ]
  },
  {
   "cell_type": "markdown",
   "metadata": {
    "id": "fnYpG2X_j7Yn"
   },
   "source": [
    "# read in data and metadata\n",
    "\n",
    "In this section, we will define the data and metadata python dictionaries that will be used to store the OSDR experiment data.  "
   ]
  },
  {
   "cell_type": "code",
   "execution_count": 9,
   "metadata": {
    "executionInfo": {
     "elapsed": 370,
     "status": "ok",
     "timestamp": 1712873710379,
     "user": {
      "displayName": "Richard Barker",
      "userId": "08066349230655107502"
     },
     "user_tz": 300
    },
    "id": "L9CeMwVKDfMS"
   },
   "outputs": [],
   "source": [
    "# define data and metadata dictionaries\n",
    "data=dict()\n",
    "metadata=dict()"
   ]
  },
  {
   "cell_type": "code",
   "execution_count": 10,
   "metadata": {
    "executionInfo": {
     "elapsed": 6430,
     "status": "ok",
     "timestamp": 1712873717293,
     "user": {
      "displayName": "Richard Barker",
      "userId": "08066349230655107502"
     },
     "user_tz": 300
    },
    "id": "D4pInDqc55AD"
   },
   "outputs": [],
   "source": [
    "# read in the metadata for each OSDR data set\n",
    "metadata['583'] = m.read_meta_data('583')\n",
    "metadata['255'] = m.read_meta_data('255')\n",
    "metadata['568'] = m.read_meta_data('568')"
   ]
  },
  {
   "cell_type": "code",
   "execution_count": 11,
   "metadata": {
    "colab": {
     "base_uri": "https://localhost:8080/",
     "height": 0
    },
    "executionInfo": {
     "elapsed": 1988,
     "status": "ok",
     "timestamp": 1712873719266,
     "user": {
      "displayName": "Richard Barker",
      "userId": "08066349230655107502"
     },
     "user_tz": 300
    },
    "id": "W0y3Nx8ukNTC",
    "outputId": "d0d6b257-e7ca-44dc-9ddd-ca01de75c9d5"
   },
   "outputs": [
    {
     "name": "stdout",
     "output_type": "stream",
     "text": [
      "iop data shape:  (100, 13)\n"
     ]
    },
    {
     "data": {
      "application/vnd.google.colaboratory.intrinsic+json": {
       "summary": "{\n  \"name\": \"data['iop']\",\n  \"rows\": 5,\n  \"fields\": [\n    {\n      \"column\": \"Source Name\",\n      \"properties\": {\n        \"dtype\": \"string\",\n        \"num_unique_values\": 5,\n        \"samples\": [\n          \"F2\",\n          \"F5\",\n          \"F3\"\n        ],\n        \"semantic_type\": \"\",\n        \"description\": \"\"\n      }\n    },\n    {\n      \"column\": \"Sample Name\",\n      \"properties\": {\n        \"dtype\": \"string\",\n        \"num_unique_values\": 5,\n        \"samples\": [\n          \"F2_Mouse_Eye\",\n          \"F5_Mouse_Eye\",\n          \"F3_Mouse_Eye\"\n        ],\n        \"semantic_type\": \"\",\n        \"description\": \"\"\n      }\n    },\n    {\n      \"column\": \"Factor Value: Spaceflight\",\n      \"properties\": {\n        \"dtype\": \"category\",\n        \"num_unique_values\": 1,\n        \"samples\": [\n          \"Space Flight\"\n        ],\n        \"semantic_type\": \"\",\n        \"description\": \"\"\n      }\n    },\n    {\n      \"column\": \"Left_1\",\n      \"properties\": {\n        \"dtype\": \"number\",\n        \"std\": 1,\n        \"min\": 16,\n        \"max\": 19,\n        \"num_unique_values\": 4,\n        \"samples\": [\n          17\n        ],\n        \"semantic_type\": \"\",\n        \"description\": \"\"\n      }\n    },\n    {\n      \"column\": \"Left_2\",\n      \"properties\": {\n        \"dtype\": \"number\",\n        \"std\": 1,\n        \"min\": 15,\n        \"max\": 18,\n        \"num_unique_values\": 3,\n        \"samples\": [\n          16\n        ],\n        \"semantic_type\": \"\",\n        \"description\": \"\"\n      }\n    },\n    {\n      \"column\": \"Left_3\",\n      \"properties\": {\n        \"dtype\": \"number\",\n        \"std\": 1,\n        \"min\": 15,\n        \"max\": 18,\n        \"num_unique_values\": 3,\n        \"samples\": [\n          18\n        ],\n        \"semantic_type\": \"\",\n        \"description\": \"\"\n      }\n    },\n    {\n      \"column\": \"Avg_Left\",\n      \"properties\": {\n        \"dtype\": \"number\",\n        \"std\": 0.649786291876885,\n        \"min\": 16.33333333,\n        \"max\": 17.66666667,\n        \"num_unique_values\": 3,\n        \"samples\": [\n          17.66666667\n        ],\n        \"semantic_type\": \"\",\n        \"description\": \"\"\n      }\n    },\n    {\n      \"column\": \"Right_1\",\n      \"properties\": {\n        \"dtype\": \"number\",\n        \"std\": 1,\n        \"min\": 14,\n        \"max\": 18,\n        \"num_unique_values\": 4,\n        \"samples\": [\n          16\n        ],\n        \"semantic_type\": \"\",\n        \"description\": \"\"\n      }\n    },\n    {\n      \"column\": \"Right_2\",\n      \"properties\": {\n        \"dtype\": \"number\",\n        \"std\": 1,\n        \"min\": 16,\n        \"max\": 19,\n        \"num_unique_values\": 3,\n        \"samples\": [\n          18\n        ],\n        \"semantic_type\": \"\",\n        \"description\": \"\"\n      }\n    },\n    {\n      \"column\": \"Right_3\",\n      \"properties\": {\n        \"dtype\": \"number\",\n        \"std\": 1,\n        \"min\": 14,\n        \"max\": 17,\n        \"num_unique_values\": 3,\n        \"samples\": [\n          15\n        ],\n        \"semantic_type\": \"\",\n        \"description\": \"\"\n      }\n    },\n    {\n      \"column\": \"Avg_Right\",\n      \"properties\": {\n        \"dtype\": \"number\",\n        \"std\": 1.1642832791512177,\n        \"min\": 14.66666667,\n        \"max\": 17.66666667,\n        \"num_unique_values\": 5,\n        \"samples\": [\n          15.66666667\n        ],\n        \"semantic_type\": \"\",\n        \"description\": \"\"\n      }\n    },\n    {\n      \"column\": \"time_Start\",\n      \"properties\": {\n        \"dtype\": \"object\",\n        \"num_unique_values\": 5,\n        \"samples\": [\n          \"2:55\"\n        ],\n        \"semantic_type\": \"\",\n        \"description\": \"\"\n      }\n    },\n    {\n      \"column\": \"Time_End\",\n      \"properties\": {\n        \"dtype\": \"object\",\n        \"num_unique_values\": 5,\n        \"samples\": [\n          \"2:58\"\n        ],\n        \"semantic_type\": \"\",\n        \"description\": \"\"\n      }\n    }\n  ]\n}",
       "type": "dataframe"
      },
      "text/html": [
       "\n",
       "  <div id=\"df-f938a155-02ec-4bd7-8501-42bc01b42f36\" class=\"colab-df-container\">\n",
       "    <div>\n",
       "<style scoped>\n",
       "    .dataframe tbody tr th:only-of-type {\n",
       "        vertical-align: middle;\n",
       "    }\n",
       "\n",
       "    .dataframe tbody tr th {\n",
       "        vertical-align: top;\n",
       "    }\n",
       "\n",
       "    .dataframe thead th {\n",
       "        text-align: right;\n",
       "    }\n",
       "</style>\n",
       "<table border=\"1\" class=\"dataframe\">\n",
       "  <thead>\n",
       "    <tr style=\"text-align: right;\">\n",
       "      <th></th>\n",
       "      <th>Source Name</th>\n",
       "      <th>Sample Name</th>\n",
       "      <th>Factor Value: Spaceflight</th>\n",
       "      <th>Left_1</th>\n",
       "      <th>Left_2</th>\n",
       "      <th>Left_3</th>\n",
       "      <th>Avg_Left</th>\n",
       "      <th>Right_1</th>\n",
       "      <th>Right_2</th>\n",
       "      <th>Right_3</th>\n",
       "      <th>Avg_Right</th>\n",
       "      <th>time_Start</th>\n",
       "      <th>Time_End</th>\n",
       "    </tr>\n",
       "  </thead>\n",
       "  <tbody>\n",
       "    <tr>\n",
       "      <th>0</th>\n",
       "      <td>F1</td>\n",
       "      <td>F1_Mouse_Eye</td>\n",
       "      <td>Space Flight</td>\n",
       "      <td>19</td>\n",
       "      <td>16</td>\n",
       "      <td>18</td>\n",
       "      <td>17.666667</td>\n",
       "      <td>18</td>\n",
       "      <td>18</td>\n",
       "      <td>15</td>\n",
       "      <td>17.000000</td>\n",
       "      <td>2:46</td>\n",
       "      <td>2:48</td>\n",
       "    </tr>\n",
       "    <tr>\n",
       "      <th>1</th>\n",
       "      <td>F2</td>\n",
       "      <td>F2_Mouse_Eye</td>\n",
       "      <td>Space Flight</td>\n",
       "      <td>17</td>\n",
       "      <td>16</td>\n",
       "      <td>16</td>\n",
       "      <td>16.333333</td>\n",
       "      <td>16</td>\n",
       "      <td>16</td>\n",
       "      <td>15</td>\n",
       "      <td>15.666667</td>\n",
       "      <td>2:55</td>\n",
       "      <td>2:58</td>\n",
       "    </tr>\n",
       "    <tr>\n",
       "      <th>2</th>\n",
       "      <td>F3</td>\n",
       "      <td>F3_Mouse_Eye</td>\n",
       "      <td>Space Flight</td>\n",
       "      <td>16</td>\n",
       "      <td>18</td>\n",
       "      <td>15</td>\n",
       "      <td>16.333333</td>\n",
       "      <td>17</td>\n",
       "      <td>19</td>\n",
       "      <td>17</td>\n",
       "      <td>17.666667</td>\n",
       "      <td>2:32</td>\n",
       "      <td>2:34</td>\n",
       "    </tr>\n",
       "    <tr>\n",
       "      <th>3</th>\n",
       "      <td>F4</td>\n",
       "      <td>F4_Mouse_Eye</td>\n",
       "      <td>Space Flight</td>\n",
       "      <td>18</td>\n",
       "      <td>15</td>\n",
       "      <td>16</td>\n",
       "      <td>16.333333</td>\n",
       "      <td>18</td>\n",
       "      <td>16</td>\n",
       "      <td>15</td>\n",
       "      <td>16.333333</td>\n",
       "      <td>2:15</td>\n",
       "      <td>2:17</td>\n",
       "    </tr>\n",
       "    <tr>\n",
       "      <th>4</th>\n",
       "      <td>F5</td>\n",
       "      <td>F5_Mouse_Eye</td>\n",
       "      <td>Space Flight</td>\n",
       "      <td>18</td>\n",
       "      <td>18</td>\n",
       "      <td>16</td>\n",
       "      <td>17.333333</td>\n",
       "      <td>14</td>\n",
       "      <td>16</td>\n",
       "      <td>14</td>\n",
       "      <td>14.666667</td>\n",
       "      <td>2:20</td>\n",
       "      <td>2:22</td>\n",
       "    </tr>\n",
       "  </tbody>\n",
       "</table>\n",
       "</div>\n",
       "    <div class=\"colab-df-buttons\">\n",
       "\n",
       "  <div class=\"colab-df-container\">\n",
       "    <button class=\"colab-df-convert\" onclick=\"convertToInteractive('df-f938a155-02ec-4bd7-8501-42bc01b42f36')\"\n",
       "            title=\"Convert this dataframe to an interactive table.\"\n",
       "            style=\"display:none;\">\n",
       "\n",
       "  <svg xmlns=\"http://www.w3.org/2000/svg\" height=\"24px\" viewBox=\"0 -960 960 960\">\n",
       "    <path d=\"M120-120v-720h720v720H120Zm60-500h600v-160H180v160Zm220 220h160v-160H400v160Zm0 220h160v-160H400v160ZM180-400h160v-160H180v160Zm440 0h160v-160H620v160ZM180-180h160v-160H180v160Zm440 0h160v-160H620v160Z\"/>\n",
       "  </svg>\n",
       "    </button>\n",
       "\n",
       "  <style>\n",
       "    .colab-df-container {\n",
       "      display:flex;\n",
       "      gap: 12px;\n",
       "    }\n",
       "\n",
       "    .colab-df-convert {\n",
       "      background-color: #E8F0FE;\n",
       "      border: none;\n",
       "      border-radius: 50%;\n",
       "      cursor: pointer;\n",
       "      display: none;\n",
       "      fill: #1967D2;\n",
       "      height: 32px;\n",
       "      padding: 0 0 0 0;\n",
       "      width: 32px;\n",
       "    }\n",
       "\n",
       "    .colab-df-convert:hover {\n",
       "      background-color: #E2EBFA;\n",
       "      box-shadow: 0px 1px 2px rgba(60, 64, 67, 0.3), 0px 1px 3px 1px rgba(60, 64, 67, 0.15);\n",
       "      fill: #174EA6;\n",
       "    }\n",
       "\n",
       "    .colab-df-buttons div {\n",
       "      margin-bottom: 4px;\n",
       "    }\n",
       "\n",
       "    [theme=dark] .colab-df-convert {\n",
       "      background-color: #3B4455;\n",
       "      fill: #D2E3FC;\n",
       "    }\n",
       "\n",
       "    [theme=dark] .colab-df-convert:hover {\n",
       "      background-color: #434B5C;\n",
       "      box-shadow: 0px 1px 3px 1px rgba(0, 0, 0, 0.15);\n",
       "      filter: drop-shadow(0px 1px 2px rgba(0, 0, 0, 0.3));\n",
       "      fill: #FFFFFF;\n",
       "    }\n",
       "  </style>\n",
       "\n",
       "    <script>\n",
       "      const buttonEl =\n",
       "        document.querySelector('#df-f938a155-02ec-4bd7-8501-42bc01b42f36 button.colab-df-convert');\n",
       "      buttonEl.style.display =\n",
       "        google.colab.kernel.accessAllowed ? 'block' : 'none';\n",
       "\n",
       "      async function convertToInteractive(key) {\n",
       "        const element = document.querySelector('#df-f938a155-02ec-4bd7-8501-42bc01b42f36');\n",
       "        const dataTable =\n",
       "          await google.colab.kernel.invokeFunction('convertToInteractive',\n",
       "                                                    [key], {});\n",
       "        if (!dataTable) return;\n",
       "\n",
       "        const docLinkHtml = 'Like what you see? Visit the ' +\n",
       "          '<a target=\"_blank\" href=https://colab.research.google.com/notebooks/data_table.ipynb>data table notebook</a>'\n",
       "          + ' to learn more about interactive tables.';\n",
       "        element.innerHTML = '';\n",
       "        dataTable['output_type'] = 'display_data';\n",
       "        await google.colab.output.renderOutput(dataTable, element);\n",
       "        const docLink = document.createElement('div');\n",
       "        docLink.innerHTML = docLinkHtml;\n",
       "        element.appendChild(docLink);\n",
       "      }\n",
       "    </script>\n",
       "  </div>\n",
       "\n",
       "\n",
       "<div id=\"df-fb2623ec-6abd-43be-b632-032aa8faff5b\">\n",
       "  <button class=\"colab-df-quickchart\" onclick=\"quickchart('df-fb2623ec-6abd-43be-b632-032aa8faff5b')\"\n",
       "            title=\"Suggest charts\"\n",
       "            style=\"display:none;\">\n",
       "\n",
       "<svg xmlns=\"http://www.w3.org/2000/svg\" height=\"24px\"viewBox=\"0 0 24 24\"\n",
       "     width=\"24px\">\n",
       "    <g>\n",
       "        <path d=\"M19 3H5c-1.1 0-2 .9-2 2v14c0 1.1.9 2 2 2h14c1.1 0 2-.9 2-2V5c0-1.1-.9-2-2-2zM9 17H7v-7h2v7zm4 0h-2V7h2v10zm4 0h-2v-4h2v4z\"/>\n",
       "    </g>\n",
       "</svg>\n",
       "  </button>\n",
       "\n",
       "<style>\n",
       "  .colab-df-quickchart {\n",
       "      --bg-color: #E8F0FE;\n",
       "      --fill-color: #1967D2;\n",
       "      --hover-bg-color: #E2EBFA;\n",
       "      --hover-fill-color: #174EA6;\n",
       "      --disabled-fill-color: #AAA;\n",
       "      --disabled-bg-color: #DDD;\n",
       "  }\n",
       "\n",
       "  [theme=dark] .colab-df-quickchart {\n",
       "      --bg-color: #3B4455;\n",
       "      --fill-color: #D2E3FC;\n",
       "      --hover-bg-color: #434B5C;\n",
       "      --hover-fill-color: #FFFFFF;\n",
       "      --disabled-bg-color: #3B4455;\n",
       "      --disabled-fill-color: #666;\n",
       "  }\n",
       "\n",
       "  .colab-df-quickchart {\n",
       "    background-color: var(--bg-color);\n",
       "    border: none;\n",
       "    border-radius: 50%;\n",
       "    cursor: pointer;\n",
       "    display: none;\n",
       "    fill: var(--fill-color);\n",
       "    height: 32px;\n",
       "    padding: 0;\n",
       "    width: 32px;\n",
       "  }\n",
       "\n",
       "  .colab-df-quickchart:hover {\n",
       "    background-color: var(--hover-bg-color);\n",
       "    box-shadow: 0 1px 2px rgba(60, 64, 67, 0.3), 0 1px 3px 1px rgba(60, 64, 67, 0.15);\n",
       "    fill: var(--button-hover-fill-color);\n",
       "  }\n",
       "\n",
       "  .colab-df-quickchart-complete:disabled,\n",
       "  .colab-df-quickchart-complete:disabled:hover {\n",
       "    background-color: var(--disabled-bg-color);\n",
       "    fill: var(--disabled-fill-color);\n",
       "    box-shadow: none;\n",
       "  }\n",
       "\n",
       "  .colab-df-spinner {\n",
       "    border: 2px solid var(--fill-color);\n",
       "    border-color: transparent;\n",
       "    border-bottom-color: var(--fill-color);\n",
       "    animation:\n",
       "      spin 1s steps(1) infinite;\n",
       "  }\n",
       "\n",
       "  @keyframes spin {\n",
       "    0% {\n",
       "      border-color: transparent;\n",
       "      border-bottom-color: var(--fill-color);\n",
       "      border-left-color: var(--fill-color);\n",
       "    }\n",
       "    20% {\n",
       "      border-color: transparent;\n",
       "      border-left-color: var(--fill-color);\n",
       "      border-top-color: var(--fill-color);\n",
       "    }\n",
       "    30% {\n",
       "      border-color: transparent;\n",
       "      border-left-color: var(--fill-color);\n",
       "      border-top-color: var(--fill-color);\n",
       "      border-right-color: var(--fill-color);\n",
       "    }\n",
       "    40% {\n",
       "      border-color: transparent;\n",
       "      border-right-color: var(--fill-color);\n",
       "      border-top-color: var(--fill-color);\n",
       "    }\n",
       "    60% {\n",
       "      border-color: transparent;\n",
       "      border-right-color: var(--fill-color);\n",
       "    }\n",
       "    80% {\n",
       "      border-color: transparent;\n",
       "      border-right-color: var(--fill-color);\n",
       "      border-bottom-color: var(--fill-color);\n",
       "    }\n",
       "    90% {\n",
       "      border-color: transparent;\n",
       "      border-bottom-color: var(--fill-color);\n",
       "    }\n",
       "  }\n",
       "</style>\n",
       "\n",
       "  <script>\n",
       "    async function quickchart(key) {\n",
       "      const quickchartButtonEl =\n",
       "        document.querySelector('#' + key + ' button');\n",
       "      quickchartButtonEl.disabled = true;  // To prevent multiple clicks.\n",
       "      quickchartButtonEl.classList.add('colab-df-spinner');\n",
       "      try {\n",
       "        const charts = await google.colab.kernel.invokeFunction(\n",
       "            'suggestCharts', [key], {});\n",
       "      } catch (error) {\n",
       "        console.error('Error during call to suggestCharts:', error);\n",
       "      }\n",
       "      quickchartButtonEl.classList.remove('colab-df-spinner');\n",
       "      quickchartButtonEl.classList.add('colab-df-quickchart-complete');\n",
       "    }\n",
       "    (() => {\n",
       "      let quickchartButtonEl =\n",
       "        document.querySelector('#df-fb2623ec-6abd-43be-b632-032aa8faff5b button');\n",
       "      quickchartButtonEl.style.display =\n",
       "        google.colab.kernel.accessAllowed ? 'block' : 'none';\n",
       "    })();\n",
       "  </script>\n",
       "</div>\n",
       "\n",
       "    </div>\n",
       "  </div>\n"
      ],
      "text/plain": [
       "  Source Name   Sample Name Factor Value: Spaceflight  Left_1  Left_2  Left_3  \\\n",
       "0          F1  F1_Mouse_Eye              Space Flight      19      16      18   \n",
       "1          F2  F2_Mouse_Eye              Space Flight      17      16      16   \n",
       "2          F3  F3_Mouse_Eye              Space Flight      16      18      15   \n",
       "3          F4  F4_Mouse_Eye              Space Flight      18      15      16   \n",
       "4          F5  F5_Mouse_Eye              Space Flight      18      18      16   \n",
       "\n",
       "    Avg_Left  Right_1  Right_2  Right_3  Avg_Right time_Start Time_End  \n",
       "0  17.666667       18       18       15  17.000000       2:46     2:48  \n",
       "1  16.333333       16       16       15  15.666667       2:55     2:58  \n",
       "2  16.333333       17       19       17  17.666667       2:32     2:34  \n",
       "3  16.333333       18       16       15  16.333333       2:15     2:17  \n",
       "4  17.333333       14       16       14  14.666667       2:20     2:22  "
      ]
     },
     "execution_count": 11,
     "metadata": {},
     "output_type": "execute_result"
    }
   ],
   "source": [
    "# read in the transformed results CSV file for intra-ocular pressure\n",
    "data['iop'] = m.read_phenotype_data('583', 'LSDS-16_tonometry_maoTRANSFORMED')\n",
    "print('iop data shape: ', data['iop'].shape)\n",
    "data['iop'].head()"
   ]
  },
  {
   "cell_type": "code",
   "execution_count": 12,
   "metadata": {
    "colab": {
     "base_uri": "https://localhost:8080/",
     "height": 0
    },
    "executionInfo": {
     "elapsed": 3555,
     "status": "ok",
     "timestamp": 1712873722816,
     "user": {
      "displayName": "Richard Barker",
      "userId": "08066349230655107502"
     },
     "user_tz": 300
    },
    "id": "ZffWrkFvErlN",
    "outputId": "2aad7072-e7e5-4e2a-e6cd-888be2062a66"
   },
   "outputs": [
    {
     "name": "stdout",
     "output_type": "stream",
     "text": [
      "rna-seq data shape:  (23419, 17)\n"
     ]
    },
    {
     "data": {
      "application/vnd.google.colaboratory.intrinsic+json": {
       "summary": "{\n  \"name\": \"data['255-normalized']\",\n  \"rows\": 5,\n  \"fields\": [\n    {\n      \"column\": \"Unnamed: 0\",\n      \"properties\": {\n        \"dtype\": \"string\",\n        \"num_unique_values\": 5,\n        \"samples\": [\n          \"ENSMUSG00000000028\",\n          \"ENSMUSG00000000049\",\n          \"ENSMUSG00000000031\"\n        ],\n        \"semantic_type\": \"\",\n        \"description\": \"\"\n      }\n    },\n    {\n      \"column\": \"GSM3932693\",\n      \"properties\": {\n        \"dtype\": \"number\",\n        \"std\": 113.85149669008763,\n        \"min\": 3.10711471288401,\n        \"max\": 265.49150696438,\n        \"num_unique_values\": 5,\n        \"samples\": [\n          22.7375278357588,\n          3.10711471288401,\n          5.57472000684911\n        ],\n        \"semantic_type\": \"\",\n        \"description\": \"\"\n      }\n    },\n    {\n      \"column\": \"GSM3932694\",\n      \"properties\": {\n        \"dtype\": \"number\",\n        \"std\": 116.27850153917497,\n        \"min\": 1.92559522499962,\n        \"max\": 272.529585401396,\n        \"num_unique_values\": 5,\n        \"samples\": [\n          36.0586460521583,\n          2.17654871427688,\n          1.92559522499962\n        ],\n        \"semantic_type\": \"\",\n        \"description\": \"\"\n      }\n    },\n    {\n      \"column\": \"GSM3932695\",\n      \"properties\": {\n        \"dtype\": \"number\",\n        \"std\": 113.42540040428068,\n        \"min\": 0.642689351151972,\n        \"max\": 264.891134106585,\n        \"num_unique_values\": 5,\n        \"samples\": [\n          30.659867906631,\n          0.642689351151972,\n          2.89993254901798\n        ],\n        \"semantic_type\": \"\",\n        \"description\": \"\"\n      }\n    },\n    {\n      \"column\": \"GSM3932696\",\n      \"properties\": {\n        \"dtype\": \"number\",\n        \"std\": 100.39747600492097,\n        \"min\": 4.48699193720254,\n        \"max\": 245.804042344089,\n        \"num_unique_values\": 5,\n        \"samples\": [\n          33.3071233863934,\n          4.48699193720254,\n          21.0474271365232\n        ],\n        \"semantic_type\": \"\",\n        \"description\": \"\"\n      }\n    },\n    {\n      \"column\": \"GSM3932697\",\n      \"properties\": {\n        \"dtype\": \"number\",\n        \"std\": 89.21830101851121,\n        \"min\": 0.0,\n        \"max\": 205.478968911777,\n        \"num_unique_values\": 5,\n        \"samples\": [\n          11.896920408024,\n          0.895108072708345,\n          0.0\n        ],\n        \"semantic_type\": \"\",\n        \"description\": \"\"\n      }\n    },\n    {\n      \"column\": \"GSM3932698\",\n      \"properties\": {\n        \"dtype\": \"number\",\n        \"std\": 104.61772274223453,\n        \"min\": 3.06305133998737,\n        \"max\": 244.866957086037,\n        \"num_unique_values\": 5,\n        \"samples\": [\n          27.2318008299571,\n          3.84694087210894,\n          3.06305133998737\n        ],\n        \"semantic_type\": \"\",\n        \"description\": \"\"\n      }\n    },\n    {\n      \"column\": \"GSM3932699\",\n      \"properties\": {\n        \"dtype\": \"number\",\n        \"std\": 107.73363568458097,\n        \"min\": 2.64074369276936,\n        \"max\": 250.587443111186,\n        \"num_unique_values\": 5,\n        \"samples\": [\n          21.7274006957975,\n          2.64074369276936,\n          7.10565504017645\n        ],\n        \"semantic_type\": \"\",\n        \"description\": \"\"\n      }\n    },\n    {\n      \"column\": \"GSM3932700\",\n      \"properties\": {\n        \"dtype\": \"number\",\n        \"std\": 98.6074712523588,\n        \"min\": 0.0,\n        \"max\": 232.249604081519,\n        \"num_unique_values\": 5,\n        \"samples\": [\n          30.9402751756711,\n          0.0,\n          6.71018767090816\n        ],\n        \"semantic_type\": \"\",\n        \"description\": \"\"\n      }\n    },\n    {\n      \"column\": \"GSM3932701\",\n      \"properties\": {\n        \"dtype\": \"number\",\n        \"std\": 102.09699960174954,\n        \"min\": 0.0,\n        \"max\": 241.739791554277,\n        \"num_unique_values\": 5,\n        \"samples\": [\n          34.8408482614657,\n          0.0,\n          3.26619921236513\n        ],\n        \"semantic_type\": \"\",\n        \"description\": \"\"\n      }\n    },\n    {\n      \"column\": \"GSM3932702\",\n      \"properties\": {\n        \"dtype\": \"number\",\n        \"std\": 102.12831277065236,\n        \"min\": 1.2438333180913,\n        \"max\": 240.866309084067,\n        \"num_unique_values\": 5,\n        \"samples\": [\n          36.4689966474029,\n          1.2438333180913,\n          6.70067966319856\n        ],\n        \"semantic_type\": \"\",\n        \"description\": \"\"\n      }\n    },\n    {\n      \"column\": \"GSM3932703\",\n      \"properties\": {\n        \"dtype\": \"number\",\n        \"std\": 118.90034626034395,\n        \"min\": 0.0,\n        \"max\": 278.344274122162,\n        \"num_unique_values\": 5,\n        \"samples\": [\n          29.9936414740073,\n          0.0,\n          1.85202696639137\n        ],\n        \"semantic_type\": \"\",\n        \"description\": \"\"\n      }\n    },\n    {\n      \"column\": \"GSM3932704\",\n      \"properties\": {\n        \"dtype\": \"number\",\n        \"std\": 115.02501934148772,\n        \"min\": 0.0,\n        \"max\": 266.781018934441,\n        \"num_unique_values\": 5,\n        \"samples\": [\n          28.3779206728673,\n          0.0,\n          1.30821024047664\n        ],\n        \"semantic_type\": \"\",\n        \"description\": \"\"\n      }\n    },\n    {\n      \"column\": \"GSM3932705\",\n      \"properties\": {\n        \"dtype\": \"number\",\n        \"std\": 102.03921244149362,\n        \"min\": 1.67670122946475,\n        \"max\": 238.447580450575,\n        \"num_unique_values\": 5,\n        \"samples\": [\n          19.4337207239943,\n          1.67670122946475,\n          2.24834080587867\n        ],\n        \"semantic_type\": \"\",\n        \"description\": \"\"\n      }\n    },\n    {\n      \"column\": \"GSM3932706\",\n      \"properties\": {\n        \"dtype\": \"number\",\n        \"std\": 102.57671417368681,\n        \"min\": 1.3459192317058,\n        \"max\": 239.632931868719,\n        \"num_unique_values\": 5,\n        \"samples\": [\n          18.7048826003549,\n          1.3459192317058,\n          5.81684536324444\n        ],\n        \"semantic_type\": \"\",\n        \"description\": \"\"\n      }\n    },\n    {\n      \"column\": \"GSM3932707\",\n      \"properties\": {\n        \"dtype\": \"number\",\n        \"std\": 102.93755531073964,\n        \"min\": 0.76912285566979,\n        \"max\": 242.777556946446,\n        \"num_unique_values\": 5,\n        \"samples\": [\n          26.2261100830098,\n          0.76912285566979,\n          2.04132983632574\n        ],\n        \"semantic_type\": \"\",\n        \"description\": \"\"\n      }\n    },\n    {\n      \"column\": \"GSM3932708\",\n      \"properties\": {\n        \"dtype\": \"number\",\n        \"std\": 109.5786638725642,\n        \"min\": 0.684387895496121,\n        \"max\": 257.12191793066,\n        \"num_unique_values\": 5,\n        \"samples\": [\n          47.5216109897944,\n          0.684387895496121,\n          1.47874073052595\n        ],\n        \"semantic_type\": \"\",\n        \"description\": \"\"\n      }\n    }\n  ]\n}",
       "type": "dataframe"
      },
      "text/html": [
       "\n",
       "  <div id=\"df-18d60e94-4f9a-4819-99a0-32a0bc2a5d00\" class=\"colab-df-container\">\n",
       "    <div>\n",
       "<style scoped>\n",
       "    .dataframe tbody tr th:only-of-type {\n",
       "        vertical-align: middle;\n",
       "    }\n",
       "\n",
       "    .dataframe tbody tr th {\n",
       "        vertical-align: top;\n",
       "    }\n",
       "\n",
       "    .dataframe thead th {\n",
       "        text-align: right;\n",
       "    }\n",
       "</style>\n",
       "<table border=\"1\" class=\"dataframe\">\n",
       "  <thead>\n",
       "    <tr style=\"text-align: right;\">\n",
       "      <th></th>\n",
       "      <th>Unnamed: 0</th>\n",
       "      <th>GSM3932693</th>\n",
       "      <th>GSM3932694</th>\n",
       "      <th>GSM3932695</th>\n",
       "      <th>GSM3932696</th>\n",
       "      <th>GSM3932697</th>\n",
       "      <th>GSM3932698</th>\n",
       "      <th>GSM3932699</th>\n",
       "      <th>GSM3932700</th>\n",
       "      <th>GSM3932701</th>\n",
       "      <th>GSM3932702</th>\n",
       "      <th>GSM3932703</th>\n",
       "      <th>GSM3932704</th>\n",
       "      <th>GSM3932705</th>\n",
       "      <th>GSM3932706</th>\n",
       "      <th>GSM3932707</th>\n",
       "      <th>GSM3932708</th>\n",
       "    </tr>\n",
       "  </thead>\n",
       "  <tbody>\n",
       "    <tr>\n",
       "      <th>0</th>\n",
       "      <td>ENSMUSG00000000001</td>\n",
       "      <td>265.491507</td>\n",
       "      <td>272.529585</td>\n",
       "      <td>264.891134</td>\n",
       "      <td>245.804042</td>\n",
       "      <td>205.478969</td>\n",
       "      <td>244.866957</td>\n",
       "      <td>250.587443</td>\n",
       "      <td>232.249604</td>\n",
       "      <td>241.739792</td>\n",
       "      <td>240.866309</td>\n",
       "      <td>278.344274</td>\n",
       "      <td>266.781019</td>\n",
       "      <td>238.447580</td>\n",
       "      <td>239.632932</td>\n",
       "      <td>242.777557</td>\n",
       "      <td>257.121918</td>\n",
       "    </tr>\n",
       "    <tr>\n",
       "      <th>1</th>\n",
       "      <td>ENSMUSG00000000028</td>\n",
       "      <td>22.737528</td>\n",
       "      <td>36.058646</td>\n",
       "      <td>30.659868</td>\n",
       "      <td>33.307123</td>\n",
       "      <td>11.896920</td>\n",
       "      <td>27.231801</td>\n",
       "      <td>21.727401</td>\n",
       "      <td>30.940275</td>\n",
       "      <td>34.840848</td>\n",
       "      <td>36.468997</td>\n",
       "      <td>29.993641</td>\n",
       "      <td>28.377921</td>\n",
       "      <td>19.433721</td>\n",
       "      <td>18.704883</td>\n",
       "      <td>26.226110</td>\n",
       "      <td>47.521611</td>\n",
       "    </tr>\n",
       "    <tr>\n",
       "      <th>2</th>\n",
       "      <td>ENSMUSG00000000031</td>\n",
       "      <td>5.574720</td>\n",
       "      <td>1.925595</td>\n",
       "      <td>2.899933</td>\n",
       "      <td>21.047427</td>\n",
       "      <td>0.000000</td>\n",
       "      <td>3.063051</td>\n",
       "      <td>7.105655</td>\n",
       "      <td>6.710188</td>\n",
       "      <td>3.266199</td>\n",
       "      <td>6.700680</td>\n",
       "      <td>1.852027</td>\n",
       "      <td>1.308210</td>\n",
       "      <td>2.248341</td>\n",
       "      <td>5.816845</td>\n",
       "      <td>2.041330</td>\n",
       "      <td>1.478741</td>\n",
       "    </tr>\n",
       "    <tr>\n",
       "      <th>3</th>\n",
       "      <td>ENSMUSG00000000037</td>\n",
       "      <td>14.601777</td>\n",
       "      <td>17.493816</td>\n",
       "      <td>16.577920</td>\n",
       "      <td>32.447456</td>\n",
       "      <td>12.940934</td>\n",
       "      <td>13.678983</td>\n",
       "      <td>9.358027</td>\n",
       "      <td>15.476949</td>\n",
       "      <td>25.085866</td>\n",
       "      <td>13.506677</td>\n",
       "      <td>24.809501</td>\n",
       "      <td>13.731740</td>\n",
       "      <td>21.564524</td>\n",
       "      <td>17.626982</td>\n",
       "      <td>28.873796</td>\n",
       "      <td>13.556234</td>\n",
       "    </tr>\n",
       "    <tr>\n",
       "      <th>4</th>\n",
       "      <td>ENSMUSG00000000049</td>\n",
       "      <td>3.107115</td>\n",
       "      <td>2.176549</td>\n",
       "      <td>0.642689</td>\n",
       "      <td>4.486992</td>\n",
       "      <td>0.895108</td>\n",
       "      <td>3.846941</td>\n",
       "      <td>2.640744</td>\n",
       "      <td>0.000000</td>\n",
       "      <td>0.000000</td>\n",
       "      <td>1.243833</td>\n",
       "      <td>0.000000</td>\n",
       "      <td>0.000000</td>\n",
       "      <td>1.676701</td>\n",
       "      <td>1.345919</td>\n",
       "      <td>0.769123</td>\n",
       "      <td>0.684388</td>\n",
       "    </tr>\n",
       "  </tbody>\n",
       "</table>\n",
       "</div>\n",
       "    <div class=\"colab-df-buttons\">\n",
       "\n",
       "  <div class=\"colab-df-container\">\n",
       "    <button class=\"colab-df-convert\" onclick=\"convertToInteractive('df-18d60e94-4f9a-4819-99a0-32a0bc2a5d00')\"\n",
       "            title=\"Convert this dataframe to an interactive table.\"\n",
       "            style=\"display:none;\">\n",
       "\n",
       "  <svg xmlns=\"http://www.w3.org/2000/svg\" height=\"24px\" viewBox=\"0 -960 960 960\">\n",
       "    <path d=\"M120-120v-720h720v720H120Zm60-500h600v-160H180v160Zm220 220h160v-160H400v160Zm0 220h160v-160H400v160ZM180-400h160v-160H180v160Zm440 0h160v-160H620v160ZM180-180h160v-160H180v160Zm440 0h160v-160H620v160Z\"/>\n",
       "  </svg>\n",
       "    </button>\n",
       "\n",
       "  <style>\n",
       "    .colab-df-container {\n",
       "      display:flex;\n",
       "      gap: 12px;\n",
       "    }\n",
       "\n",
       "    .colab-df-convert {\n",
       "      background-color: #E8F0FE;\n",
       "      border: none;\n",
       "      border-radius: 50%;\n",
       "      cursor: pointer;\n",
       "      display: none;\n",
       "      fill: #1967D2;\n",
       "      height: 32px;\n",
       "      padding: 0 0 0 0;\n",
       "      width: 32px;\n",
       "    }\n",
       "\n",
       "    .colab-df-convert:hover {\n",
       "      background-color: #E2EBFA;\n",
       "      box-shadow: 0px 1px 2px rgba(60, 64, 67, 0.3), 0px 1px 3px 1px rgba(60, 64, 67, 0.15);\n",
       "      fill: #174EA6;\n",
       "    }\n",
       "\n",
       "    .colab-df-buttons div {\n",
       "      margin-bottom: 4px;\n",
       "    }\n",
       "\n",
       "    [theme=dark] .colab-df-convert {\n",
       "      background-color: #3B4455;\n",
       "      fill: #D2E3FC;\n",
       "    }\n",
       "\n",
       "    [theme=dark] .colab-df-convert:hover {\n",
       "      background-color: #434B5C;\n",
       "      box-shadow: 0px 1px 3px 1px rgba(0, 0, 0, 0.15);\n",
       "      filter: drop-shadow(0px 1px 2px rgba(0, 0, 0, 0.3));\n",
       "      fill: #FFFFFF;\n",
       "    }\n",
       "  </style>\n",
       "\n",
       "    <script>\n",
       "      const buttonEl =\n",
       "        document.querySelector('#df-18d60e94-4f9a-4819-99a0-32a0bc2a5d00 button.colab-df-convert');\n",
       "      buttonEl.style.display =\n",
       "        google.colab.kernel.accessAllowed ? 'block' : 'none';\n",
       "\n",
       "      async function convertToInteractive(key) {\n",
       "        const element = document.querySelector('#df-18d60e94-4f9a-4819-99a0-32a0bc2a5d00');\n",
       "        const dataTable =\n",
       "          await google.colab.kernel.invokeFunction('convertToInteractive',\n",
       "                                                    [key], {});\n",
       "        if (!dataTable) return;\n",
       "\n",
       "        const docLinkHtml = 'Like what you see? Visit the ' +\n",
       "          '<a target=\"_blank\" href=https://colab.research.google.com/notebooks/data_table.ipynb>data table notebook</a>'\n",
       "          + ' to learn more about interactive tables.';\n",
       "        element.innerHTML = '';\n",
       "        dataTable['output_type'] = 'display_data';\n",
       "        await google.colab.output.renderOutput(dataTable, element);\n",
       "        const docLink = document.createElement('div');\n",
       "        docLink.innerHTML = docLinkHtml;\n",
       "        element.appendChild(docLink);\n",
       "      }\n",
       "    </script>\n",
       "  </div>\n",
       "\n",
       "\n",
       "<div id=\"df-00aa39de-ca15-4ef7-a55f-e1b87344423d\">\n",
       "  <button class=\"colab-df-quickchart\" onclick=\"quickchart('df-00aa39de-ca15-4ef7-a55f-e1b87344423d')\"\n",
       "            title=\"Suggest charts\"\n",
       "            style=\"display:none;\">\n",
       "\n",
       "<svg xmlns=\"http://www.w3.org/2000/svg\" height=\"24px\"viewBox=\"0 0 24 24\"\n",
       "     width=\"24px\">\n",
       "    <g>\n",
       "        <path d=\"M19 3H5c-1.1 0-2 .9-2 2v14c0 1.1.9 2 2 2h14c1.1 0 2-.9 2-2V5c0-1.1-.9-2-2-2zM9 17H7v-7h2v7zm4 0h-2V7h2v10zm4 0h-2v-4h2v4z\"/>\n",
       "    </g>\n",
       "</svg>\n",
       "  </button>\n",
       "\n",
       "<style>\n",
       "  .colab-df-quickchart {\n",
       "      --bg-color: #E8F0FE;\n",
       "      --fill-color: #1967D2;\n",
       "      --hover-bg-color: #E2EBFA;\n",
       "      --hover-fill-color: #174EA6;\n",
       "      --disabled-fill-color: #AAA;\n",
       "      --disabled-bg-color: #DDD;\n",
       "  }\n",
       "\n",
       "  [theme=dark] .colab-df-quickchart {\n",
       "      --bg-color: #3B4455;\n",
       "      --fill-color: #D2E3FC;\n",
       "      --hover-bg-color: #434B5C;\n",
       "      --hover-fill-color: #FFFFFF;\n",
       "      --disabled-bg-color: #3B4455;\n",
       "      --disabled-fill-color: #666;\n",
       "  }\n",
       "\n",
       "  .colab-df-quickchart {\n",
       "    background-color: var(--bg-color);\n",
       "    border: none;\n",
       "    border-radius: 50%;\n",
       "    cursor: pointer;\n",
       "    display: none;\n",
       "    fill: var(--fill-color);\n",
       "    height: 32px;\n",
       "    padding: 0;\n",
       "    width: 32px;\n",
       "  }\n",
       "\n",
       "  .colab-df-quickchart:hover {\n",
       "    background-color: var(--hover-bg-color);\n",
       "    box-shadow: 0 1px 2px rgba(60, 64, 67, 0.3), 0 1px 3px 1px rgba(60, 64, 67, 0.15);\n",
       "    fill: var(--button-hover-fill-color);\n",
       "  }\n",
       "\n",
       "  .colab-df-quickchart-complete:disabled,\n",
       "  .colab-df-quickchart-complete:disabled:hover {\n",
       "    background-color: var(--disabled-bg-color);\n",
       "    fill: var(--disabled-fill-color);\n",
       "    box-shadow: none;\n",
       "  }\n",
       "\n",
       "  .colab-df-spinner {\n",
       "    border: 2px solid var(--fill-color);\n",
       "    border-color: transparent;\n",
       "    border-bottom-color: var(--fill-color);\n",
       "    animation:\n",
       "      spin 1s steps(1) infinite;\n",
       "  }\n",
       "\n",
       "  @keyframes spin {\n",
       "    0% {\n",
       "      border-color: transparent;\n",
       "      border-bottom-color: var(--fill-color);\n",
       "      border-left-color: var(--fill-color);\n",
       "    }\n",
       "    20% {\n",
       "      border-color: transparent;\n",
       "      border-left-color: var(--fill-color);\n",
       "      border-top-color: var(--fill-color);\n",
       "    }\n",
       "    30% {\n",
       "      border-color: transparent;\n",
       "      border-left-color: var(--fill-color);\n",
       "      border-top-color: var(--fill-color);\n",
       "      border-right-color: var(--fill-color);\n",
       "    }\n",
       "    40% {\n",
       "      border-color: transparent;\n",
       "      border-right-color: var(--fill-color);\n",
       "      border-top-color: var(--fill-color);\n",
       "    }\n",
       "    60% {\n",
       "      border-color: transparent;\n",
       "      border-right-color: var(--fill-color);\n",
       "    }\n",
       "    80% {\n",
       "      border-color: transparent;\n",
       "      border-right-color: var(--fill-color);\n",
       "      border-bottom-color: var(--fill-color);\n",
       "    }\n",
       "    90% {\n",
       "      border-color: transparent;\n",
       "      border-bottom-color: var(--fill-color);\n",
       "    }\n",
       "  }\n",
       "</style>\n",
       "\n",
       "  <script>\n",
       "    async function quickchart(key) {\n",
       "      const quickchartButtonEl =\n",
       "        document.querySelector('#' + key + ' button');\n",
       "      quickchartButtonEl.disabled = true;  // To prevent multiple clicks.\n",
       "      quickchartButtonEl.classList.add('colab-df-spinner');\n",
       "      try {\n",
       "        const charts = await google.colab.kernel.invokeFunction(\n",
       "            'suggestCharts', [key], {});\n",
       "      } catch (error) {\n",
       "        console.error('Error during call to suggestCharts:', error);\n",
       "      }\n",
       "      quickchartButtonEl.classList.remove('colab-df-spinner');\n",
       "      quickchartButtonEl.classList.add('colab-df-quickchart-complete');\n",
       "    }\n",
       "    (() => {\n",
       "      let quickchartButtonEl =\n",
       "        document.querySelector('#df-00aa39de-ca15-4ef7-a55f-e1b87344423d button');\n",
       "      quickchartButtonEl.style.display =\n",
       "        google.colab.kernel.accessAllowed ? 'block' : 'none';\n",
       "    })();\n",
       "  </script>\n",
       "</div>\n",
       "\n",
       "    </div>\n",
       "  </div>\n"
      ],
      "text/plain": [
       "           Unnamed: 0  GSM3932693  GSM3932694  GSM3932695  GSM3932696  \\\n",
       "0  ENSMUSG00000000001  265.491507  272.529585  264.891134  245.804042   \n",
       "1  ENSMUSG00000000028   22.737528   36.058646   30.659868   33.307123   \n",
       "2  ENSMUSG00000000031    5.574720    1.925595    2.899933   21.047427   \n",
       "3  ENSMUSG00000000037   14.601777   17.493816   16.577920   32.447456   \n",
       "4  ENSMUSG00000000049    3.107115    2.176549    0.642689    4.486992   \n",
       "\n",
       "   GSM3932697  GSM3932698  GSM3932699  GSM3932700  GSM3932701  GSM3932702  \\\n",
       "0  205.478969  244.866957  250.587443  232.249604  241.739792  240.866309   \n",
       "1   11.896920   27.231801   21.727401   30.940275   34.840848   36.468997   \n",
       "2    0.000000    3.063051    7.105655    6.710188    3.266199    6.700680   \n",
       "3   12.940934   13.678983    9.358027   15.476949   25.085866   13.506677   \n",
       "4    0.895108    3.846941    2.640744    0.000000    0.000000    1.243833   \n",
       "\n",
       "   GSM3932703  GSM3932704  GSM3932705  GSM3932706  GSM3932707  GSM3932708  \n",
       "0  278.344274  266.781019  238.447580  239.632932  242.777557  257.121918  \n",
       "1   29.993641   28.377921   19.433721   18.704883   26.226110   47.521611  \n",
       "2    1.852027    1.308210    2.248341    5.816845    2.041330    1.478741  \n",
       "3   24.809501   13.731740   21.564524   17.626982   28.873796   13.556234  \n",
       "4    0.000000    0.000000    1.676701    1.345919    0.769123    0.684388  "
      ]
     },
     "execution_count": 12,
     "metadata": {},
     "output_type": "execute_result"
    }
   ],
   "source": [
    "# use pandas to read in the normalized counts\n",
    "data['255-normalized'] = m.read_rnaseq_data('255_rna_seq_Normalized_Counts')\n",
    "print('rna-seq data shape: ', data['255-normalized'].shape)\n",
    "data['255-normalized'].head()"
   ]
  },
  {
   "cell_type": "code",
   "execution_count": 13,
   "metadata": {
    "colab": {
     "base_uri": "https://localhost:8080/",
     "height": 0
    },
    "executionInfo": {
     "elapsed": 2806,
     "status": "ok",
     "timestamp": 1712873725617,
     "user": {
      "displayName": "Richard Barker",
      "userId": "08066349230655107502"
     },
     "user_tz": 300
    },
    "id": "ZFFeNU6nm7gC",
    "outputId": "1bd4c027-760e-4dc9-811b-9ed66be0ad1d"
   },
   "outputs": [
    {
     "name": "stdout",
     "output_type": "stream",
     "text": [
      "pecam data shape:  (11, 2)\n"
     ]
    },
    {
     "data": {
      "application/vnd.google.colaboratory.intrinsic+json": {
       "summary": "{\n  \"name\": \"data['immunoMICRO-PECAM']\",\n  \"rows\": 5,\n  \"fields\": [\n    {\n      \"column\": \"Sample_Name\",\n      \"properties\": {\n        \"dtype\": \"string\",\n        \"num_unique_values\": 5,\n        \"samples\": [\n          \"F16_Mouse_Eye\",\n          \"F19_Mouse_Eye\",\n          \"F17_Mouse_Eye\"\n        ],\n        \"semantic_type\": \"\",\n        \"description\": \"\"\n      }\n    },\n    {\n      \"column\": \"Average\",\n      \"properties\": {\n        \"dtype\": \"number\",\n        \"std\": 11.170777237417276,\n        \"min\": 37.0548,\n        \"max\": 67.0988,\n        \"num_unique_values\": 5,\n        \"samples\": [\n          53.9888,\n          49.7456,\n          37.0548\n        ],\n        \"semantic_type\": \"\",\n        \"description\": \"\"\n      }\n    }\n  ]\n}",
       "type": "dataframe"
      },
      "text/html": [
       "\n",
       "  <div id=\"df-af9df3df-0b89-4b68-8ed1-56a6ccea7eeb\" class=\"colab-df-container\">\n",
       "    <div>\n",
       "<style scoped>\n",
       "    .dataframe tbody tr th:only-of-type {\n",
       "        vertical-align: middle;\n",
       "    }\n",
       "\n",
       "    .dataframe tbody tr th {\n",
       "        vertical-align: top;\n",
       "    }\n",
       "\n",
       "    .dataframe thead th {\n",
       "        text-align: right;\n",
       "    }\n",
       "</style>\n",
       "<table border=\"1\" class=\"dataframe\">\n",
       "  <thead>\n",
       "    <tr style=\"text-align: right;\">\n",
       "      <th></th>\n",
       "      <th>Sample_Name</th>\n",
       "      <th>Average</th>\n",
       "    </tr>\n",
       "  </thead>\n",
       "  <tbody>\n",
       "    <tr>\n",
       "      <th>0</th>\n",
       "      <td>F15_Mouse_Eye</td>\n",
       "      <td>45.0098</td>\n",
       "    </tr>\n",
       "    <tr>\n",
       "      <th>1</th>\n",
       "      <td>F16_Mouse_Eye</td>\n",
       "      <td>53.9888</td>\n",
       "    </tr>\n",
       "    <tr>\n",
       "      <th>2</th>\n",
       "      <td>F17_Mouse_Eye</td>\n",
       "      <td>37.0548</td>\n",
       "    </tr>\n",
       "    <tr>\n",
       "      <th>3</th>\n",
       "      <td>F18_Mouse_Eye</td>\n",
       "      <td>67.0988</td>\n",
       "    </tr>\n",
       "    <tr>\n",
       "      <th>4</th>\n",
       "      <td>F19_Mouse_Eye</td>\n",
       "      <td>49.7456</td>\n",
       "    </tr>\n",
       "  </tbody>\n",
       "</table>\n",
       "</div>\n",
       "    <div class=\"colab-df-buttons\">\n",
       "\n",
       "  <div class=\"colab-df-container\">\n",
       "    <button class=\"colab-df-convert\" onclick=\"convertToInteractive('df-af9df3df-0b89-4b68-8ed1-56a6ccea7eeb')\"\n",
       "            title=\"Convert this dataframe to an interactive table.\"\n",
       "            style=\"display:none;\">\n",
       "\n",
       "  <svg xmlns=\"http://www.w3.org/2000/svg\" height=\"24px\" viewBox=\"0 -960 960 960\">\n",
       "    <path d=\"M120-120v-720h720v720H120Zm60-500h600v-160H180v160Zm220 220h160v-160H400v160Zm0 220h160v-160H400v160ZM180-400h160v-160H180v160Zm440 0h160v-160H620v160ZM180-180h160v-160H180v160Zm440 0h160v-160H620v160Z\"/>\n",
       "  </svg>\n",
       "    </button>\n",
       "\n",
       "  <style>\n",
       "    .colab-df-container {\n",
       "      display:flex;\n",
       "      gap: 12px;\n",
       "    }\n",
       "\n",
       "    .colab-df-convert {\n",
       "      background-color: #E8F0FE;\n",
       "      border: none;\n",
       "      border-radius: 50%;\n",
       "      cursor: pointer;\n",
       "      display: none;\n",
       "      fill: #1967D2;\n",
       "      height: 32px;\n",
       "      padding: 0 0 0 0;\n",
       "      width: 32px;\n",
       "    }\n",
       "\n",
       "    .colab-df-convert:hover {\n",
       "      background-color: #E2EBFA;\n",
       "      box-shadow: 0px 1px 2px rgba(60, 64, 67, 0.3), 0px 1px 3px 1px rgba(60, 64, 67, 0.15);\n",
       "      fill: #174EA6;\n",
       "    }\n",
       "\n",
       "    .colab-df-buttons div {\n",
       "      margin-bottom: 4px;\n",
       "    }\n",
       "\n",
       "    [theme=dark] .colab-df-convert {\n",
       "      background-color: #3B4455;\n",
       "      fill: #D2E3FC;\n",
       "    }\n",
       "\n",
       "    [theme=dark] .colab-df-convert:hover {\n",
       "      background-color: #434B5C;\n",
       "      box-shadow: 0px 1px 3px 1px rgba(0, 0, 0, 0.15);\n",
       "      filter: drop-shadow(0px 1px 2px rgba(0, 0, 0, 0.3));\n",
       "      fill: #FFFFFF;\n",
       "    }\n",
       "  </style>\n",
       "\n",
       "    <script>\n",
       "      const buttonEl =\n",
       "        document.querySelector('#df-af9df3df-0b89-4b68-8ed1-56a6ccea7eeb button.colab-df-convert');\n",
       "      buttonEl.style.display =\n",
       "        google.colab.kernel.accessAllowed ? 'block' : 'none';\n",
       "\n",
       "      async function convertToInteractive(key) {\n",
       "        const element = document.querySelector('#df-af9df3df-0b89-4b68-8ed1-56a6ccea7eeb');\n",
       "        const dataTable =\n",
       "          await google.colab.kernel.invokeFunction('convertToInteractive',\n",
       "                                                    [key], {});\n",
       "        if (!dataTable) return;\n",
       "\n",
       "        const docLinkHtml = 'Like what you see? Visit the ' +\n",
       "          '<a target=\"_blank\" href=https://colab.research.google.com/notebooks/data_table.ipynb>data table notebook</a>'\n",
       "          + ' to learn more about interactive tables.';\n",
       "        element.innerHTML = '';\n",
       "        dataTable['output_type'] = 'display_data';\n",
       "        await google.colab.output.renderOutput(dataTable, element);\n",
       "        const docLink = document.createElement('div');\n",
       "        docLink.innerHTML = docLinkHtml;\n",
       "        element.appendChild(docLink);\n",
       "      }\n",
       "    </script>\n",
       "  </div>\n",
       "\n",
       "\n",
       "<div id=\"df-040295ae-301b-4d66-a0d8-ced8a51fadfa\">\n",
       "  <button class=\"colab-df-quickchart\" onclick=\"quickchart('df-040295ae-301b-4d66-a0d8-ced8a51fadfa')\"\n",
       "            title=\"Suggest charts\"\n",
       "            style=\"display:none;\">\n",
       "\n",
       "<svg xmlns=\"http://www.w3.org/2000/svg\" height=\"24px\"viewBox=\"0 0 24 24\"\n",
       "     width=\"24px\">\n",
       "    <g>\n",
       "        <path d=\"M19 3H5c-1.1 0-2 .9-2 2v14c0 1.1.9 2 2 2h14c1.1 0 2-.9 2-2V5c0-1.1-.9-2-2-2zM9 17H7v-7h2v7zm4 0h-2V7h2v10zm4 0h-2v-4h2v4z\"/>\n",
       "    </g>\n",
       "</svg>\n",
       "  </button>\n",
       "\n",
       "<style>\n",
       "  .colab-df-quickchart {\n",
       "      --bg-color: #E8F0FE;\n",
       "      --fill-color: #1967D2;\n",
       "      --hover-bg-color: #E2EBFA;\n",
       "      --hover-fill-color: #174EA6;\n",
       "      --disabled-fill-color: #AAA;\n",
       "      --disabled-bg-color: #DDD;\n",
       "  }\n",
       "\n",
       "  [theme=dark] .colab-df-quickchart {\n",
       "      --bg-color: #3B4455;\n",
       "      --fill-color: #D2E3FC;\n",
       "      --hover-bg-color: #434B5C;\n",
       "      --hover-fill-color: #FFFFFF;\n",
       "      --disabled-bg-color: #3B4455;\n",
       "      --disabled-fill-color: #666;\n",
       "  }\n",
       "\n",
       "  .colab-df-quickchart {\n",
       "    background-color: var(--bg-color);\n",
       "    border: none;\n",
       "    border-radius: 50%;\n",
       "    cursor: pointer;\n",
       "    display: none;\n",
       "    fill: var(--fill-color);\n",
       "    height: 32px;\n",
       "    padding: 0;\n",
       "    width: 32px;\n",
       "  }\n",
       "\n",
       "  .colab-df-quickchart:hover {\n",
       "    background-color: var(--hover-bg-color);\n",
       "    box-shadow: 0 1px 2px rgba(60, 64, 67, 0.3), 0 1px 3px 1px rgba(60, 64, 67, 0.15);\n",
       "    fill: var(--button-hover-fill-color);\n",
       "  }\n",
       "\n",
       "  .colab-df-quickchart-complete:disabled,\n",
       "  .colab-df-quickchart-complete:disabled:hover {\n",
       "    background-color: var(--disabled-bg-color);\n",
       "    fill: var(--disabled-fill-color);\n",
       "    box-shadow: none;\n",
       "  }\n",
       "\n",
       "  .colab-df-spinner {\n",
       "    border: 2px solid var(--fill-color);\n",
       "    border-color: transparent;\n",
       "    border-bottom-color: var(--fill-color);\n",
       "    animation:\n",
       "      spin 1s steps(1) infinite;\n",
       "  }\n",
       "\n",
       "  @keyframes spin {\n",
       "    0% {\n",
       "      border-color: transparent;\n",
       "      border-bottom-color: var(--fill-color);\n",
       "      border-left-color: var(--fill-color);\n",
       "    }\n",
       "    20% {\n",
       "      border-color: transparent;\n",
       "      border-left-color: var(--fill-color);\n",
       "      border-top-color: var(--fill-color);\n",
       "    }\n",
       "    30% {\n",
       "      border-color: transparent;\n",
       "      border-left-color: var(--fill-color);\n",
       "      border-top-color: var(--fill-color);\n",
       "      border-right-color: var(--fill-color);\n",
       "    }\n",
       "    40% {\n",
       "      border-color: transparent;\n",
       "      border-right-color: var(--fill-color);\n",
       "      border-top-color: var(--fill-color);\n",
       "    }\n",
       "    60% {\n",
       "      border-color: transparent;\n",
       "      border-right-color: var(--fill-color);\n",
       "    }\n",
       "    80% {\n",
       "      border-color: transparent;\n",
       "      border-right-color: var(--fill-color);\n",
       "      border-bottom-color: var(--fill-color);\n",
       "    }\n",
       "    90% {\n",
       "      border-color: transparent;\n",
       "      border-bottom-color: var(--fill-color);\n",
       "    }\n",
       "  }\n",
       "</style>\n",
       "\n",
       "  <script>\n",
       "    async function quickchart(key) {\n",
       "      const quickchartButtonEl =\n",
       "        document.querySelector('#' + key + ' button');\n",
       "      quickchartButtonEl.disabled = true;  // To prevent multiple clicks.\n",
       "      quickchartButtonEl.classList.add('colab-df-spinner');\n",
       "      try {\n",
       "        const charts = await google.colab.kernel.invokeFunction(\n",
       "            'suggestCharts', [key], {});\n",
       "      } catch (error) {\n",
       "        console.error('Error during call to suggestCharts:', error);\n",
       "      }\n",
       "      quickchartButtonEl.classList.remove('colab-df-spinner');\n",
       "      quickchartButtonEl.classList.add('colab-df-quickchart-complete');\n",
       "    }\n",
       "    (() => {\n",
       "      let quickchartButtonEl =\n",
       "        document.querySelector('#df-040295ae-301b-4d66-a0d8-ced8a51fadfa button');\n",
       "      quickchartButtonEl.style.display =\n",
       "        google.colab.kernel.accessAllowed ? 'block' : 'none';\n",
       "    })();\n",
       "  </script>\n",
       "</div>\n",
       "\n",
       "    </div>\n",
       "  </div>\n"
      ],
      "text/plain": [
       "     Sample_Name  Average\n",
       "0  F15_Mouse_Eye  45.0098\n",
       "1  F16_Mouse_Eye  53.9888\n",
       "2  F17_Mouse_Eye  37.0548\n",
       "3  F18_Mouse_Eye  67.0988\n",
       "4  F19_Mouse_Eye  49.7456"
      ]
     },
     "execution_count": 13,
     "metadata": {},
     "output_type": "execute_result"
    }
   ],
   "source": [
    "#LSDS-5_immunostaining_microscopy_PECAMtr TRANSFORMED.csv\n",
    "data['immunoMICRO-PECAM'] = m.read_phenotype_data('568', 'LSDS-5_immunostaining_microscopy_PECAMtr_TRANSFORMED')\n",
    "print('pecam data shape: ', data['immunoMICRO-PECAM'].shape)\n",
    "data['immunoMICRO-PECAM'].head()"
   ]
  },
  {
   "cell_type": "markdown",
   "metadata": {
    "id": "sXqrSn7r7njv"
   },
   "source": [
    "# Use linear regression to predict phenotype response to RNA-seq\n",
    "\n",
    "In this section, we will use linear regression to predict IOP and immunostaining microscopy (PECAM) observations.  Not all the samples with RNA-seq data also have IOP or PECAM data, so we will need to intersect those sample lists in order to rectify this discrepancy."
   ]
  },
  {
   "cell_type": "markdown",
   "metadata": {
    "id": "7Lzbvd3RbuQC"
   },
   "source": [
    "## use linear regression to predict IOP from gene expression data"
   ]
  },
  {
   "cell_type": "code",
   "execution_count": null,
   "metadata": {
    "id": "ujGex5bPHqRF"
   },
   "outputs": [],
   "source": [
    "# subset df with samples from 255\n",
    "samples=list()\n",
    "for sample in data['255-normalized'].columns[1:]:\n",
    "  samples.append(metadata['255'][metadata['255']['Sample Name']==sample]['Source Name'].values[0])\n",
    "samples_short=list()\n",
    "for sample in samples:\n",
    "  num = \"\"\n",
    "  for c in sample:\n",
    "    if c.isdigit():\n",
    "      num += str(c)\n",
    "  if 'G' in sample:\n",
    "    samples_short.append(\"GC\" + num)\n",
    "  elif 'F' in sample:\n",
    "    samples_short.append(\"F\" + num)\n",
    "iop_df=data['iop'][data['iop']['Source Name'].isin(samples_short)]\n",
    "iop_df.head()"
   ]
  },
  {
   "cell_type": "code",
   "execution_count": null,
   "metadata": {
    "id": "OwViWOH_S3Qy"
   },
   "outputs": [],
   "source": [
    "samples_short"
   ]
  },
  {
   "cell_type": "code",
   "execution_count": null,
   "metadata": {
    "id": "ZLOFSg9der6y"
   },
   "outputs": [],
   "source": [
    "# create numpy array Y of iop values\n",
    "y = list()\n",
    "for i in range(len(iop_df)):\n",
    "  iop_val=(iop_df.iloc[i]['Avg_Left'] + iop_df.iloc[i]['Avg_Right'])/2\n",
    "  y.append(iop_val)\n",
    "y = m.np.array(y)\n",
    "print(y)"
   ]
  },
  {
   "cell_type": "code",
   "execution_count": null,
   "metadata": {
    "id": "Tx5xVO_gjzHo"
   },
   "outputs": [],
   "source": [
    "# subset data (drop any NaNs, drop non-coding genes, and drop genes with a coefficeint of variantion less than 0.5)\n",
    "df = m.filter_data(data['255-normalized'], dropnans=True, dropgenes='non-coding', droplowcvs=0.5)"
   ]
  },
  {
   "cell_type": "code",
   "execution_count": null,
   "metadata": {
    "id": "mtTnSsn4qF5s"
   },
   "outputs": [],
   "source": [
    "# create numpy array X of rna-seq values\n",
    "X = list()\n",
    "for sample in df.columns[1:]:\n",
    "  X.append(list(df[sample]))\n",
    "X = m.np.array(X)"
   ]
  },
  {
   "cell_type": "code",
   "execution_count": null,
   "metadata": {
    "id": "cI5mNR4Xqpjf"
   },
   "outputs": [],
   "source": [
    "# now run linear regression on X, y\n",
    "reg = m.LinearRegression().fit(X, y)\n",
    "print('score: ', reg.score(X, y))\n",
    "print('coefs: ', reg.coef_)\n",
    "print('intercept: ', reg.intercept_)"
   ]
  },
  {
   "cell_type": "code",
   "execution_count": null,
   "metadata": {
    "id": "PtIgOlJL_20v"
   },
   "outputs": [],
   "source": [
    "# get y_pred and and compare against the actual values of y\n",
    "y_pred = reg.predict(X)\n",
    "pred = m.pd.DataFrame({'True_value': y, 'Predicted': y_pred})\n",
    "pred"
   ]
  },
  {
   "cell_type": "code",
   "execution_count": null,
   "metadata": {
    "id": "X7W8Vlf5_n6P"
   },
   "outputs": [],
   "source": [
    "# get performance of regression\n",
    "# r2 score\n",
    "r2=m.r2_score(y, y_pred, multioutput='variance_weighted')\n",
    "print('r2 score: ', r2)\n",
    "\n",
    "# mean absolute error\n",
    "mae = m.mean_absolute_error(y, y_pred)\n",
    "print('mae: ', mae)\n",
    "\n",
    "# mean squared error\n",
    "mse = m.mean_squared_error(y, y_pred)\n",
    "print('mse: ', mse)"
   ]
  },
  {
   "cell_type": "markdown",
   "metadata": {
    "id": "VrlIIpmopAeS"
   },
   "source": [
    "Wow!  An r2 score of 1.0 is a perfect score!  The mean absolute error is tiny, and the mean squared error is even tinier!  It's very likely that our model is overfit.  Later in this notebook, we will use regularization later to try to correct for this."
   ]
  },
  {
   "cell_type": "code",
   "execution_count": null,
   "metadata": {
    "id": "tefkheC9_ow6"
   },
   "outputs": [],
   "source": [
    "# find the top 10 genes with the highest coefficients in the linear regression model.  These are the most important features that were used to predict the IOP values\n",
    "genes_coefs_dict = dict()\n",
    "genes_list = list(df['Unnamed: 0'])\n",
    "coefs_list = list(reg.coef_)\n",
    "for i in range(len(genes_list)):\n",
    "  genes_coefs_dict[genes_list[i]] = coefs_list[i]\n",
    "\n",
    "genes_coefs_sorted_dict = {k: v for k, v in sorted(genes_coefs_dict.items(), key=lambda item: item[1], reverse=True)}\n",
    "\n",
    "top10_genes = list(m.islice(genes_coefs_sorted_dict, 10))\n",
    "print(top10_genes)"
   ]
  },
  {
   "cell_type": "code",
   "execution_count": null,
   "metadata": {
    "id": "5fYYgtVB0e-L"
   },
   "outputs": [],
   "source": [
    "# convert gene ID's to gene symbols so we can look them up in a database\n",
    "top10_gene_symbols = m.get_symbol_from_id(top10_genes)\n",
    "print(top10_gene_symbols)"
   ]
  },
  {
   "cell_type": "markdown",
   "metadata": {
    "id": "PLRL_1kRAdM0"
   },
   "source": [
    " We can  paste the list of these genes into a tool called [MSigDB](https://www.gsea-msigdb.org/gsea/msigdb/index.jsp)  - the molecular signatures database - to see which biological pathways and molecular functions are affected by this particular subset of  genes.  For this particular set of genes, here is a subset of the [gene ontologies](https://en.wikipedia.org/wiki/Gene_Ontology) that MSigDB found as significantly associated\n",
    "\n",
    "| Description | FDR q-value |\n",
    "| --- | --- |     \n",
    "| Abnormal lens morphology| 4.1e-03 |\n",
    "| A collagen trimer that forms networks. | 4.1E-03 |\n",
    "| Myopia| 4.44E-03|\n",
    "| Lenticonus| 4.44E-03 |\n",
    "| Developmental cataract | 8.65E-03 |\n",
    "| Abnormal anterior eye segment morphology | 8.65E-03 |"
   ]
  },
  {
   "cell_type": "markdown",
   "metadata": {
    "id": "vaqRslz2Us7z"
   },
   "source": [
    "**QUESTIONS**\n",
    "\n",
    "1. Assuming the `top10_gene_symbols` list variable is sorted in descending order of importance, which gene symbol is the most important gene in the prediction of IOP?\n",
    "\n",
    "2. Which gene name (ENSMUSG...) corresponds to the most important gene from question #1?\n",
    "\n",
    "3. Do the descriptions of the biological processes that MSigDB identified from this list of genes seem to correlate well to the observed phenotype?"
   ]
  },
  {
   "cell_type": "markdown",
   "metadata": {
    "id": "84VQwYb1V62z"
   },
   "source": [
    "**Double click here to enter your answers to the questions above.**\n",
    "\n",
    "1.\n",
    "\n",
    "2.\n",
    "\n",
    "3."
   ]
  },
  {
   "cell_type": "markdown",
   "metadata": {
    "id": "3PWsXVsRlvlV"
   },
   "source": [
    "## use linear regression to predict immunostaining microscopy (pecam) from gene expression\n",
    "\n",
    "The immunostaining microscopy data use different sample names and source names from the RNA-seq data, even though they are the same mice.  So the first thing we need to do is figure out which are the ground control sample names and which are the spaceflight sample names.  Only some of the samples have measurements for both RNA-seq and for microscopy, so we need to find the intersection of those 2 sets.\n"
   ]
  },
  {
   "cell_type": "code",
   "execution_count": null,
   "metadata": {
    "id": "kdprfZ3Yl1kV"
   },
   "outputs": [],
   "source": [
    "# get source names from 255 and sample names in immunoMICRO pecam and intersect the lists and subset the df's\n",
    "# TODO turn this into a method\n",
    "samples_255_dict = dict()\n",
    "samples_pecam = list()\n",
    "for i in range(len(metadata['255'])):\n",
    "  sample = metadata['255'].iloc[i]['Source Name']\n",
    "  sample_id = \"\"\n",
    "  for c in sample:\n",
    "    if c.isdigit():\n",
    "      sample_id += c\n",
    "  if \"G\" in sample:\n",
    "    samples_255_dict[\"GC\" + str(sample_id)] = metadata['255'].iloc[i]['Sample Name']\n",
    "\n",
    "  elif \"F\" in sample:\n",
    "    samples_255_dict[\"F\" + str(sample_id)] = metadata['255'].iloc[i]['Sample Name']\n",
    "  else:\n",
    "    continue\n",
    "\n",
    "for sample in data['immunoMICRO-PECAM']['Sample_Name']:\n",
    "  if sample.startswith(\"G\"):\n",
    "    sample_id=sample.split(\"_\")[0]\n",
    "    samples_pecam.append(str(sample_id))\n",
    "\n",
    "  elif sample.startswith(\"F\"):\n",
    "    sample_id=sample.split(\"_\")[0]\n",
    "    samples_pecam.append(str(sample_id))\n",
    "  else:\n",
    "    continue\n",
    "\n",
    "print('rna-seq samples: ', samples_255_dict.keys())\n",
    "print('pecam samples: ', samples_pecam)\n",
    "# intersect 255 samples with immunoMICRO pecam samples\n",
    "samples_both=list(set(samples_255_dict.keys()) & set(samples_pecam))\n",
    "print('both: ', samples_both)\n",
    "# subset 255 and pecam samples from intersection\n",
    "gsm_samples = list()\n",
    "for sample in samples_both:\n",
    "  gsm_samples.append(samples_255_dict[sample])\n",
    "print('gsm: ', gsm_samples)"
   ]
  },
  {
   "cell_type": "code",
   "execution_count": null,
   "metadata": {
    "id": "Ep-ICcxNl5ZS"
   },
   "outputs": [],
   "source": [
    "# now subset the RNA-seq data (255) with with the gsm sample names in gsm_samples\n",
    "df_255_568 = data['255-normalized'][['Unnamed: 0'] + gsm_samples]\n",
    "print(df_255_568.columns)"
   ]
  },
  {
   "cell_type": "code",
   "execution_count": null,
   "metadata": {
    "id": "cXEsp4mZl6PP"
   },
   "outputs": [],
   "source": [
    "# create numpy array X of rna-seq values.  This will represent our independent variables X.\n",
    "X = list()\n",
    "for sample in df_255_568.columns[1:]:\n",
    "  X.append(list(df_255_568[sample]))\n",
    "X = m.np.array(X)\n",
    "print('X = ', X)"
   ]
  },
  {
   "cell_type": "code",
   "execution_count": null,
   "metadata": {
    "id": "C0KTnUJHl9Yf"
   },
   "outputs": [],
   "source": [
    "# create numpy array y of immuno PECAM values.  This will represent our dependent variables y.\n",
    "y = list()\n",
    "for i in range(len(data['immunoMICRO-PECAM'])):\n",
    "  pecam_val=data['immunoMICRO-PECAM'].iloc[i]['Average']\n",
    "  y.append(pecam_val)\n",
    "y = m.np.array(y)\n",
    "print('y = ', y)"
   ]
  },
  {
   "cell_type": "code",
   "execution_count": null,
   "metadata": {
    "id": "LqaMiWF9nq9S"
   },
   "outputs": [],
   "source": [
    "# Now that we have X and y, use linear regression to predict immuno pecam (y) from the gene expression X.\n",
    "reg = m.LinearRegression().fit(X, y)\n",
    "print('score: ', reg.score(X, y))\n",
    "print('coefs: ', reg.coef_)\n",
    "print('intercept: ', reg.intercept_)"
   ]
  },
  {
   "cell_type": "code",
   "execution_count": null,
   "metadata": {
    "id": "2Uu-5NOkuxc8"
   },
   "outputs": [],
   "source": [
    "# Use the model \"reg\" that we just built to predict the y values from the X values.\n",
    "# then compare the true values y to the predict values y_pred\n",
    "y_pred = reg.predict(X)\n",
    "pred = m.pd.DataFrame({'True_value': y, 'Predicted': y_pred})\n",
    "pred"
   ]
  },
  {
   "cell_type": "code",
   "execution_count": null,
   "metadata": {
    "id": "S5lHNLe-oGo4"
   },
   "outputs": [],
   "source": [
    "# get performance of regression\n",
    "\n",
    "# r2 score\n",
    "r2=m.r2_score(y, y_pred, multioutput='variance_weighted')\n",
    "print('r2 score: ', r2)\n",
    "\n",
    "# mean absolute error\n",
    "mae = m.mean_absolute_error(y, y_pred)\n",
    "print('mae: ', mae)\n",
    "\n",
    "# mean squared error\n",
    "mse = m.mean_squared_error(y, y_pred)\n",
    "print('mse: ', mse)"
   ]
  },
  {
   "cell_type": "markdown",
   "metadata": {
    "id": "-MS-O6NXotXH"
   },
   "source": [
    "Wow!  An r2 score of 1.0 is a perfect score!  The mean absolute error is tiny, and the mean squared error is even tinier!  It's very likely that our model is overfit.  We will use regularization later in this notebook to try to correct for this."
   ]
  },
  {
   "cell_type": "code",
   "execution_count": null,
   "metadata": {
    "id": "mTGo4v9IoJsb"
   },
   "outputs": [],
   "source": [
    "# find important features\n",
    "genes_coefs_dict = dict()\n",
    "genes_list = list(df_255_568['Unnamed: 0'])\n",
    "coefs_list = list(reg.coef_)\n",
    "for i in range(len(genes_list)):\n",
    "  genes_coefs_dict[genes_list[i]] = coefs_list[i]\n",
    "\n",
    "genes_coefs_sorted_dict = {k: v for k, v in sorted(genes_coefs_dict.items(), key=lambda item: item[1], reverse=True)}\n",
    "\n",
    "top10_genes = list(m.islice(genes_coefs_sorted_dict, 10))\n",
    "print(top10_genes)\n"
   ]
  },
  {
   "cell_type": "code",
   "execution_count": null,
   "metadata": {
    "id": "1xd7d_ryPoKY"
   },
   "outputs": [],
   "source": [
    "# print the gene symbol (name) associated with each gene id in the top 10 most important genes from our linear regression model\n",
    "gene_symbols = m.get_symbol_from_id(top10_genes)\n",
    "print(gene_symbols)"
   ]
  },
  {
   "cell_type": "markdown",
   "metadata": {
    "id": "sbIieS_CP9oK"
   },
   "source": [
    "We can  paste the list of these genes into a tool called [MSigDB](https://www.gsea-msigdb.org/gsea/msigdb/index.jsp)  - the molecular signatures database - to see which biological pathways and molecular functions are affected by this particular subset of  genes.  For this particular set of genes , here is a subset of the [gene ontologies](https://en.wikipedia.org/wiki/Gene_Ontology) that MSigDB found as significantly associated.  Note that your top 10 list may be different than the one specified in this paragraph.  \n",
    "\n",
    "| Description | FDR q-value |\n",
    "| --- | --- |\n",
    "| Abnormal full-field electroretinogram| 1.53E-05 |\n",
    "| Abnormal posterior eye segment morphology | 2.22E-05 |\n",
    "| Abnormality of retinal pigmentation | 2.46E-05 |\n",
    "| The sequence of reactions within a cell required to convert absorbed photons from visible light into a molecular signal| 2.8E-05 |\n",
    "| Visual impairment | 9.58E-05 |\n"
   ]
  },
  {
   "cell_type": "markdown",
   "metadata": {
    "id": "qsDCjq8zWKPb"
   },
   "source": [
    "**QUESTIONS**\n",
    "\n",
    "1. How many samples were used to build this linear regression model?\n",
    "\n",
    "2.  What data type are the inputs X and y to the regression model -- numpy arrays or pandas dataframes?\n",
    "\n",
    "3. Based on the biological pathways that MSigDB found as enriched by the top most important genes in the regression model, do the our results suggest there is a relationship between the gene expression and the phenotypes observed?"
   ]
  },
  {
   "cell_type": "markdown",
   "metadata": {
    "id": "hMXsX51RWNDM"
   },
   "source": [
    "**Double click here to enter your answers to the questions above.**\n",
    "\n",
    "1.\n",
    "\n",
    "2.\n",
    "\n",
    "3."
   ]
  },
  {
   "cell_type": "markdown",
   "metadata": {
    "id": "ybWoasnGuEqA"
   },
   "source": [
    "# Use ridge regression for L2 regularization\n",
    "\n",
    "[Ridge regression](https://www.youtube.com/watch?v=Xm2C_gTAl8c&ab_channel=StatQuestwithJoshStarmer) is a form of regression that adds a lambda multiple of the square of the slope of the regression line to the sum of the squares of the residuals as an extra term to minimize (optimize) the objective function.  The lambda term is a configurable hyperparameter that ranges from 0 (no regularization penalty) to an arbitrarily large number (maximum regularization penalty).  The larger the value of lambda, the smaller the value of the slope the model will find to minimize the total sum.\n",
    "\n",
    "Where ridge regression uses the square of the slope or L2-norm, [lasso regression](https://www.youtube.com/watch?v=NGf0voTMlcs&ab_channel=StatQuestwithJoshStarmer) uses the absolute value of the slope or L1-norm."
   ]
  },
  {
   "cell_type": "code",
   "execution_count": null,
   "metadata": {
    "id": "1jlvOJT4uxnS"
   },
   "outputs": [],
   "source": [
    "# create numpy array X of rna-seq values.  This will represent our independent variables X.\n",
    "X = list()\n",
    "for sample in df_255_568.columns[1:]:\n",
    "  X.append(list(df_255_568[sample]))\n",
    "X = m.np.array(X)\n",
    "print('X = ', X)"
   ]
  },
  {
   "cell_type": "code",
   "execution_count": null,
   "metadata": {
    "id": "nssFVWl8uzPK"
   },
   "outputs": [],
   "source": [
    "# create numpy array y of immuno PECAM values.  This will represent our dependent variables y.\n",
    "y = list()\n",
    "for i in range(len(data['immunoMICRO-PECAM'])):\n",
    "  pecam_val=data['immunoMICRO-PECAM'].iloc[i]['Average']\n",
    "  y.append(pecam_val)\n",
    "y = m.np.array(y)\n",
    "print('y = ', y)"
   ]
  },
  {
   "cell_type": "code",
   "execution_count": null,
   "metadata": {
    "id": "2a5eDn-DuNkv"
   },
   "outputs": [],
   "source": [
    "# use ridge regression to predict the PECAM values from the gene expressiond data and use 10000 as a (very large) regularization parameter\n",
    "reg = m.Ridge(alpha=10000.0)\n",
    "reg.fit(X, y)\n"
   ]
  },
  {
   "cell_type": "code",
   "execution_count": null,
   "metadata": {
    "id": "Jq_nKtPsuhAr"
   },
   "outputs": [],
   "source": [
    "# get y_pred and compare against the actual values y\n",
    "y_pred = reg.predict(X)\n",
    "pred = m.pd.DataFrame({'True_value': y, 'Predicted': y_pred})\n",
    "pred"
   ]
  },
  {
   "cell_type": "markdown",
   "metadata": {
    "id": "HPfZY0jRpfAP"
   },
   "source": [
    "Wow again, or still!  While the predicted values are not exactly the actual values, they are very close, even though we used a large regression parameter.  What is likely happening here is that because we have so many genes, it's easy for the model to find a linear combination of those values to predict the y values.  One solution to this problem is to reduce the number of genes we use in the model which we will not do in this exercise."
   ]
  },
  {
   "cell_type": "code",
   "execution_count": null,
   "metadata": {
    "id": "7IyuIlQjuZEz"
   },
   "outputs": [],
   "source": [
    "# get performance of regression\n",
    "\n",
    "# r2 score\n",
    "r2=m.r2_score(y, y_pred, multioutput='variance_weighted')\n",
    "print('r2 score: ', r2)\n",
    "\n",
    "# mean absolute error\n",
    "mae = m.mean_absolute_error(y, y_pred)\n",
    "print('mae: ', mae)\n",
    "\n",
    "# mean squared error\n",
    "mse = m.mean_squared_error(y, y_pred)\n",
    "print('mse: ', mse)"
   ]
  },
  {
   "cell_type": "markdown",
   "metadata": {
    "id": "GT23X5NVuC8w"
   },
   "source": [
    "Those performance metrics are not quite as good as we got without regularization, but they're still nearly perfect."
   ]
  },
  {
   "cell_type": "code",
   "execution_count": null,
   "metadata": {
    "id": "SR5diVV0utt5"
   },
   "outputs": [],
   "source": [
    "# find important features\n",
    "genes_coefs_dict = dict()\n",
    "genes_list = list(df_255_568['Unnamed: 0'])\n",
    "coefs_list = list(reg.coef_)\n",
    "for i in range(len(genes_list)):\n",
    "  genes_coefs_dict[genes_list[i]] = coefs_list[i]\n",
    "\n",
    "genes_coefs_sorted_dict = {k: v for k, v in sorted(genes_coefs_dict.items(), key=lambda item: item[1], reverse=True)}\n",
    "\n",
    "top10_genes = list(m.islice(genes_coefs_sorted_dict, 10))\n",
    "print(top10_genes)"
   ]
  },
  {
   "cell_type": "code",
   "execution_count": null,
   "metadata": {
    "id": "Ffvn3KKAvNUd"
   },
   "outputs": [],
   "source": [
    "# print the gene symbol (name) associated with each gene id in the top 10 most important genes from our linear regression model\n",
    "gene_symbols = m.get_symbol_from_id(top10_genes)\n",
    "print(gene_symbols)"
   ]
  },
  {
   "cell_type": "markdown",
   "metadata": {
    "id": "oxHE8_TDqMr1"
   },
   "source": [
    "If we plug these 10 genes into the MSigDB database, we find a number of pathways that are responsible for muscle fiber atrophy, abnormal muscle fiber morphology, and myopathy, all of which are consistent with our phenotype that indicates a complex cellular response that may alter retina structure and BRB integrity following long-term spaceflight."
   ]
  },
  {
   "cell_type": "markdown",
   "metadata": {
    "id": "4lVEzwdIuZam"
   },
   "source": [
    "**QUESTIONS**\n",
    "\n",
    "1. Did regularization penalize the regression model very much?\n",
    "\n",
    "2.  What data type are the inputs X and y to the ridge regression model -- numpy arrays or pandas dataframes?\n",
    "\n",
    "3. If we wanted to find a less overfit regression model, and since regularization doesn't seem to help, what other options do we have?"
   ]
  },
  {
   "cell_type": "markdown",
   "metadata": {
    "id": "ZlZXJiiLw0q7"
   },
   "source": [
    "# BONUS: Use linear regression to detect heteroskedasticity\n",
    "\n",
    "In this section, we will explore the shape of the distribution of gene expression based on its [means](https://en.wikipedia.org/wiki/Arithmetic_mean) and [variances](https://en.wikipedia.org/wiki/Variance).   When all the [random variables](https://en.wikipedia.org/wiki/Random_variable) of a model have the same finite variance, we say that the data are [homoskedastic](https://en.wikipedia.org/wiki/Homoscedasticity_and_heteroscedasticity).  When the variance changes between random variables, we say that the data are [heteroskedastic](https://en.wikipedia.org/wiki/Homoscedasticity_and_heteroscedasticity).\n",
    "\n",
    "The linear regression algorithm, under the hood, uses the method of [ordinary least squares](https://en.wikipedia.org/wiki/Ordinary_least_squares) (OLS) to fit the regression line.  OLS assumes the error terms are homoskedastic, and when that assumption is violated, the error of the linear regression model may not be accurate.  What could give rise to heteroskedastic error terms is heteroskedastic data.  So we explore the data for this property."
   ]
  },
  {
   "cell_type": "code",
   "execution_count": null,
   "metadata": {
    "id": "8fafFqTaw7Tn"
   },
   "outputs": [],
   "source": [
    "# calculate log2 mean and log2 variance of each gene expression\n",
    "means_list = list(data['255-normalized'].drop(columns=['Unnamed: 0']).mean(axis=1))\n",
    "vars_list = list(data['255-normalized'].drop(columns=['Unnamed: 0']).var(axis=1))\n",
    "\n",
    "log2_means = list()\n",
    "log2_vars = list()\n",
    "\n",
    "for mean in means_list:\n",
    "  log2_means.append(m.np.log2(1 + mean))\n",
    "\n",
    "for v in vars_list:\n",
    "  log2_vars.append(m.np.log2(1 + v))"
   ]
  },
  {
   "cell_type": "code",
   "execution_count": null,
   "metadata": {
    "id": "kXeSwoxry0PL"
   },
   "outputs": [],
   "source": [
    "# plot log2 var x log2 mean\n",
    "fig, ax = m.plt.subplots(figsize=(10,10))\n",
    "ax.set_xlabel('mean', fontsize=18)\n",
    "ax.set_ylabel('variance', fontsize=18)\n",
    "m.plt.scatter(x=log2_means, y=log2_vars, marker='o', color='black', s=10)\n",
    "m.plt.show()"
   ]
  },
  {
   "cell_type": "code",
   "execution_count": null,
   "metadata": {
    "id": "wihe25wK0yp1"
   },
   "outputs": [],
   "source": [
    "# fit regression line and add to plot\n",
    "X = list()\n",
    "for l2m in log2_means:\n",
    "  X.append([l2m])\n",
    "\n",
    "X = m.np.array(X)\n",
    "y = m.np.array(log2_vars)\n",
    "reg_line = m.LinearRegression().fit(X, y)\n",
    "print('score: ', reg_line.score(X, y))\n",
    "print('coefs: ', reg_line.coef_)\n",
    "print('intercept: ', reg_line.intercept_)\n",
    "\n",
    "y_pred=list()\n",
    "for x in X:\n",
    "  y_pred.append(reg_line.predict(x.reshape(1, -1))[0])\n",
    "\n",
    "# now add regression line plot\n",
    "fig, ax = m.plt.subplots(figsize=(10,10))\n",
    "ax.set_xlabel('mean', fontsize=18)\n",
    "ax.set_ylabel('variance', fontsize=18)\n",
    "m.plt.scatter(x=log2_means, y=log2_vars, marker='o', color='black', s=10)\n",
    "m.plt.scatter(x=log2_means, y=y_pred, marker='x', color='red', s=1)\n",
    "m.plt.show()"
   ]
  },
  {
   "cell_type": "code",
   "execution_count": null,
   "metadata": {
    "id": "9Y8nXSNPCIjd"
   },
   "outputs": [],
   "source": [
    "# use GLM to plot trend line\n",
    "tweedie = m.TweedieRegressor(power=1, alpha=0.5, link='log')\n",
    "tweedie.fit(X, y)\n",
    "y_pred=list()\n",
    "for x in X:\n",
    "  y_pred.append(tweedie.predict(x.reshape(1, -1))[0])\n",
    "\n",
    "fig, ax = m.plt.subplots(figsize=(10,10))\n",
    "ax.set_xlabel('mean', fontsize=18)\n",
    "ax.set_ylabel('variance', fontsize=18)\n",
    "m.plt.scatter(x=log2_means, y=log2_vars, marker='o', color='black', s=10)\n",
    "m.plt.scatter(x=log2_means, y=y_pred, marker='x', color='red', s=1)\n",
    "m.plt.show()"
   ]
  },
  {
   "cell_type": "markdown",
   "metadata": {
    "id": "ynYt7ebhaAIN"
   },
   "source": [
    "**QUESTIONS**\n",
    "\n",
    "1. Does the variance change as a function of the mean?\n",
    "\n",
    "2. Which seems like a better fit -- a line or a curve?\n",
    "\n",
    "3. Does linear regression only fit lines, not curves?"
   ]
  },
  {
   "cell_type": "markdown",
   "metadata": {
    "id": "y8KnWhcLaD-h"
   },
   "source": [
    "**Double click here to enter your answers to the questions above.**\n",
    "\n",
    "1.\n",
    "\n",
    "2.\n",
    "\n",
    "3."
   ]
  },
  {
   "cell_type": "markdown",
   "metadata": {
    "id": "_N7Jru7mJ2cP"
   },
   "source": [
    "# BONUS: Use linear regression to predict the expression of one gene based on the expression of other genes.\n",
    "\n",
    "In this exercise, we will pick one gene to be the target or response variable, and use the remaining genes to predict the value of that gene.  Because genes are parts of genetic networks and pathways (groups of genes that operate together), this exercise could reveal a pathway that is responsible for the difference between how ground control and spaceflight mice respond to their conditions.\n",
    "\n",
    "The gene we will pick is the one with the highest variance across all samples."
   ]
  },
  {
   "cell_type": "code",
   "execution_count": null,
   "metadata": {
    "id": "_-QxbFoaY69r"
   },
   "outputs": [],
   "source": [
    "# get a subset of the genes which are significantly differentially expressed between ground control and spaceflight mice\n",
    "df_subset = m.filter_by_dgea(data['255-normalized'], metadata['255'],  pval=0.05, l2fc=0)\n",
    "df_subset.reset_index(inplace=True)"
   ]
  },
  {
   "cell_type": "code",
   "execution_count": null,
   "metadata": {
    "id": "G-tAGMByd7a9"
   },
   "outputs": [],
   "source": [
    "# find gene with highest variance\n",
    "vars=list(df_subset.drop(columns=['Unnamed: 0']).var(axis=1))\n",
    "index_max_var = vars.index(max(vars))\n",
    "max_var_gene = df_subset.iloc[index_max_var]['Unnamed: 0']\n",
    "print('max variance in gene ID: ', max_var_gene)\n",
    "\n",
    "# convert gene ID to gene symbol\n",
    "target_gene=[max_var_gene]\n",
    "gene_symbol = m.get_symbol_from_id(target_gene)\n",
    "print('max variance in gene symbol: ', gene_symbol)"
   ]
  },
  {
   "cell_type": "code",
   "execution_count": null,
   "metadata": {
    "id": "5MkgadGClBqh"
   },
   "outputs": [],
   "source": [
    "df_subset.head()"
   ]
  },
  {
   "cell_type": "markdown",
   "metadata": {
    "id": "N2W5oWvWs-1Y"
   },
   "source": [
    "You can determine the function of the `Rbp3` gene by searching that gene symbol at [NCBI](https://www.ncbi.nlm.nih.gov/gene/19661):  The `Rbp3` gene is predicted to be active in cone matrix sheath. It is expressed in eye; retina; retina nuclear layer; and retina outer nuclear layer. Human ortholog(s) of this gene are implicated in [retinitis pigmentosa](https://www.nei.nih.gov/learn-about-eye-health/eye-conditions-and-diseases/retinitis-pigmentosa)."
   ]
  },
  {
   "cell_type": "code",
   "execution_count": null,
   "metadata": {
    "id": "7nc4kj5vPn7g"
   },
   "outputs": [],
   "source": [
    "# let's standardize the data\n",
    "scaler = m.StandardScaler()\n",
    "scaled_array = scaler.fit_transform(df_subset.drop(columns=['Unnamed: 0']))\n",
    "\n",
    "y = scaled_array[index_max_var]\n",
    "X = scaled_array[0:index_max_var].T\n",
    "\n",
    "X_train, X_test, y_train, y_test = m.train_test_split(X, y, test_size=0.2, random_state=0)"
   ]
  },
  {
   "cell_type": "code",
   "execution_count": null,
   "metadata": {
    "id": "lG3vbgCkVhxT"
   },
   "outputs": [],
   "source": [
    "# now let's build a regression model\n",
    "model = m.LinearRegression()\n",
    "model.fit(X_train, y_train)\n"
   ]
  },
  {
   "cell_type": "code",
   "execution_count": null,
   "metadata": {
    "id": "WuCSy0uBZF3m"
   },
   "outputs": [],
   "source": [
    "# calculate the predictions y_pred based on the X_test subset\n",
    "y_pred = model.predict(X_test)\n",
    "pred = m.pd.DataFrame({'True_value': y_test, 'Predicted': y_pred})\n",
    "pred"
   ]
  },
  {
   "cell_type": "code",
   "execution_count": null,
   "metadata": {
    "id": "HjV9UN1Fx8dt"
   },
   "outputs": [],
   "source": [
    "# print the performance metrics of the regression model\n",
    "print('Mean Absolute Error:', m.metrics.mean_absolute_error(y_test, y_pred))\n",
    "print('Mean Squared Error:', m.metrics.mean_squared_error(y_test, y_pred))\n",
    "print('Root Mean Squared Error:', m.np.sqrt(m.metrics.mean_squared_error(y_test, y_pred)))\n",
    "print('coefficient of determination:', model.score(X_test, y_test))"
   ]
  },
  {
   "cell_type": "code",
   "execution_count": null,
   "metadata": {
    "id": "FWNU1LF1KD9V"
   },
   "outputs": [],
   "source": [
    "# calculate the predictions y_pred_train based on the X_train subset\n",
    "y_pred_train = model.predict(X_train)\n",
    "pred_train = m.pd.DataFrame({'True_value': y_train, 'Predicted': y_pred_train})\n",
    "pred_train"
   ]
  },
  {
   "cell_type": "code",
   "execution_count": null,
   "metadata": {
    "id": "pZNzXRojZPJX"
   },
   "outputs": [],
   "source": [
    "# we can also display the predicted vs true values graphically\n",
    "pred1 = pred.head(25)\n",
    "pred1.plot(kind='bar',figsize=(16,10))\n",
    "m.plt.grid(which='major', linestyle='-', linewidth='0.5', color='green')\n",
    "m.plt.grid(which='minor', linestyle=':', linewidth='0.5', color='black')\n",
    "m.plt.show()"
   ]
  },
  {
   "cell_type": "code",
   "execution_count": null,
   "metadata": {
    "id": "VCalrEuB4YBh"
   },
   "outputs": [],
   "source": [
    "# find important features (top 10 largest coefficients of the regression model)\n",
    "y_pred_train = model.predict(X_train)\n",
    "\n",
    "genes_coefs_dict = dict()\n",
    "genes_list = list(df_subset['Unnamed: 0'])[0:index_max_var]\n",
    "coefs_list = list(model.coef_)\n",
    "for i in range(len(genes_list)):\n",
    "  genes_coefs_dict[genes_list[i]] = coefs_list[i]\n",
    "\n",
    "genes_coefs_sorted_dict = {k: v for k, v in sorted(genes_coefs_dict.items(), key=lambda item: item[1], reverse=True)}\n",
    "\n",
    "top10_genes = list(m.islice(genes_coefs_sorted_dict, 10))\n",
    "print(top10_genes)"
   ]
  },
  {
   "cell_type": "code",
   "execution_count": null,
   "metadata": {
    "id": "A0ksH4Cj5aIi"
   },
   "outputs": [],
   "source": [
    "# print the gene symbol (name) associated with each gene id in the top 10 most important genes from our linear regression model\n",
    "gene_symbols = m.get_symbol_from_id(top10_genes)\n",
    "print(gene_symbols)"
   ]
  },
  {
   "cell_type": "markdown",
   "metadata": {
    "id": "oYWZiA4EzOmA"
   },
   "source": [
    "When plugging these 10 genes along with the `Rbp3` gene into MSigDB, the most significantly enriched pathway is \"Abnormality of the curvature of the cornea\", which is again consistent with our observed phenotype.  The genes from our top 10 genes implicated in this pathway include `Guca1b`, `Prpf8`, `Stxbp`, and `Rbp3`."
   ]
  }
 ],
 "metadata": {
  "colab": {
   "collapsed_sections": [
    "W_cXRde853Lu",
    "fnYpG2X_j7Yn",
    "sXqrSn7r7njv",
    "7Lzbvd3RbuQC",
    "3PWsXVsRlvlV",
    "ybWoasnGuEqA",
    "ZlZXJiiLw0q7",
    "_N7Jru7mJ2cP"
   ],
   "provenance": [
    {
     "file_id": "1EUJfaBXT3StYQxbSg34MsJSMMMvbrozt",
     "timestamp": 1712869057110
    },
    {
     "file_id": "1p5NyMMcigacgo4iZOkHQB2Qh5bp3UMwA",
     "timestamp": 1712443937887
    },
    {
     "file_id": "1DqMPoy4q4AQLtB3wqC9r20G7FidguAMh",
     "timestamp": 1711300812146
    },
    {
     "file_id": "1jb2odfVhZjH6_6hPrXLafCyHaEYkZyJu",
     "timestamp": 1706241588769
    },
    {
     "file_id": "1bUDcgWr6vSQLioLfWtMIA15xpdKYZuUN",
     "timestamp": 1706036000814
    }
   ],
   "toc_visible": true
  },
  "kernelspec": {
   "display_name": "Python 3",
   "name": "python3"
  },
  "language_info": {
   "codemirror_mode": {
    "name": "ipython",
    "version": 3
   },
   "file_extension": ".py",
   "mimetype": "text/x-python",
   "name": "python",
   "nbconvert_exporter": "python",
   "pygments_lexer": "ipython3",
   "version": "3.12.3"
  }
 },
 "nbformat": 4,
 "nbformat_minor": 0
}