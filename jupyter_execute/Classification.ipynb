{
 "cells": [
  {
   "cell_type": "markdown",
   "metadata": {
    "id": "PtKbaXzoYN4I"
   },
   "source": [
    "# **Mission of the classification notebook**\n",
    "\n",
    "Picture yourself as a data scientist sitting with executives from SpaceX who have received reports that several of their astronauts are complaining of vision impairment.  In order to do a full investigation, their medical team decided to use minimally-invasive [intraocular fine needle aspiration](https://pubmed.ncbi.nlm.nih.gov/8233394/) to take biopsies from the astronauts and their ground-control counterparts.  Using this tissue, they were able to perform immunostaining microscopy as well as RNA sequencing.  They were also able to obtain intraocular pressure measurements from both the astronauts and their ground-control counterparts.  \n",
    "\n",
    "Your goal is to determine if there are [biological pathways](https://en.wikipedia.org/wiki/Biological_pathway) that are responding to conditions in space, because if so, there may be a molecular target that can be used to diagnose, monitor, and/or treat this condition.  But first you must determine if there's any association at all between the RNA-seq gene expression data and the measurements obtained from their medical team.  Your mission is to evaluate the use of random forest and single-layer perceptron classification algorithms to determine if the genes expressed in the retinal tissue are predictive of the phenotypic responses that were observed.  You are also encouraged to try the [logistic regression algorithm](https://en.wikipedia.org/wiki/Logistic_regression) for the same.\n",
    "\n"
   ]
  },
  {
   "cell_type": "markdown",
   "metadata": {
    "id": "W_cXRde853Lu"
   },
   "source": [
    "# Read in the methods\n",
    "\n",
    "Recall that we have put all the custom python methods in a separate notebook which you copied to your Google drive.  We need to read those methods into this notebook so that we can use them here.  You will get prompted to select the gmail address to use to permit access to your google drive for this notebook.\n",
    "\n",
    "Note that we will import the methods in the notebook as \"m\", so all subsequent references to methods in that notebook will be prefixed with \"m.\".\n",
    "\n",
    "**IMPORTANT**: Make sure you put a copy of the methods.ipynb in your google drive by following [these instructions](https://docs.google.com/document/d/1V9a3Z5YKT2Pbef4fgPAwB83bHX-p-rPBRRwo7w5Bi9k/edit?usp=sharing)."
   ]
  },
  {
   "cell_type": "code",
   "execution_count": 1,
   "metadata": {
    "colab": {
     "base_uri": "https://localhost:8080/"
    },
    "executionInfo": {
     "elapsed": 34066,
     "status": "ok",
     "timestamp": 1712958135642,
     "user": {
      "displayName": "Richard Barker",
      "userId": "08066349230655107502"
     },
     "user_tz": 300
    },
    "id": "-uEZzf_C66PO",
    "outputId": "7c1b52bc-384a-4f8b-c449-22a29eeb8e65"
   },
   "outputs": [
    {
     "name": "stdout",
     "output_type": "stream",
     "text": [
      "Collecting import_ipynb\r\n"
     ]
    },
    {
     "name": "stdout",
     "output_type": "stream",
     "text": [
      "  Downloading import_ipynb-0.1.4-py3-none-any.whl.metadata (2.3 kB)\r\n",
      "Requirement already satisfied: IPython in /home/gitpod/.pyenv/versions/3.12.3/lib/python3.12/site-packages (from import_ipynb) (8.23.0)\r\n",
      "Requirement already satisfied: nbformat in /home/gitpod/.pyenv/versions/3.12.3/lib/python3.12/site-packages (from import_ipynb) (5.10.4)\r\n"
     ]
    },
    {
     "name": "stdout",
     "output_type": "stream",
     "text": [
      "Requirement already satisfied: decorator in /home/gitpod/.pyenv/versions/3.12.3/lib/python3.12/site-packages (from IPython->import_ipynb) (5.1.1)\r\n",
      "Requirement already satisfied: jedi>=0.16 in /home/gitpod/.pyenv/versions/3.12.3/lib/python3.12/site-packages (from IPython->import_ipynb) (0.19.1)\r\n"
     ]
    },
    {
     "name": "stdout",
     "output_type": "stream",
     "text": [
      "Requirement already satisfied: matplotlib-inline in /home/gitpod/.pyenv/versions/3.12.3/lib/python3.12/site-packages (from IPython->import_ipynb) (0.1.6)\r\n",
      "Requirement already satisfied: prompt-toolkit<3.1.0,>=3.0.41 in /home/gitpod/.pyenv/versions/3.12.3/lib/python3.12/site-packages (from IPython->import_ipynb) (3.0.43)\r\n",
      "Requirement already satisfied: pygments>=2.4.0 in /home/gitpod/.pyenv/versions/3.12.3/lib/python3.12/site-packages (from IPython->import_ipynb) (2.17.2)\r\n",
      "Requirement already satisfied: stack-data in /home/gitpod/.pyenv/versions/3.12.3/lib/python3.12/site-packages (from IPython->import_ipynb) (0.6.3)\r\n",
      "Requirement already satisfied: traitlets>=5.13.0 in /home/gitpod/.pyenv/versions/3.12.3/lib/python3.12/site-packages (from IPython->import_ipynb) (5.14.2)\r\n",
      "Requirement already satisfied: pexpect>4.3 in /home/gitpod/.pyenv/versions/3.12.3/lib/python3.12/site-packages (from IPython->import_ipynb) (4.9.0)\r\n",
      "Requirement already satisfied: fastjsonschema>=2.15 in /home/gitpod/.pyenv/versions/3.12.3/lib/python3.12/site-packages (from nbformat->import_ipynb) (2.19.1)\r\n",
      "Requirement already satisfied: jsonschema>=2.6 in /home/gitpod/.pyenv/versions/3.12.3/lib/python3.12/site-packages (from nbformat->import_ipynb) (4.21.1)\r\n",
      "Requirement already satisfied: jupyter-core!=5.0.*,>=4.12 in /home/gitpod/.pyenv/versions/3.12.3/lib/python3.12/site-packages (from nbformat->import_ipynb) (5.7.2)\r\n"
     ]
    },
    {
     "name": "stdout",
     "output_type": "stream",
     "text": [
      "Requirement already satisfied: parso<0.9.0,>=0.8.3 in /home/gitpod/.pyenv/versions/3.12.3/lib/python3.12/site-packages (from jedi>=0.16->IPython->import_ipynb) (0.8.4)\r\n",
      "Requirement already satisfied: attrs>=22.2.0 in /home/gitpod/.pyenv/versions/3.12.3/lib/python3.12/site-packages (from jsonschema>=2.6->nbformat->import_ipynb) (23.2.0)\r\n",
      "Requirement already satisfied: jsonschema-specifications>=2023.03.6 in /home/gitpod/.pyenv/versions/3.12.3/lib/python3.12/site-packages (from jsonschema>=2.6->nbformat->import_ipynb) (2023.12.1)\r\n",
      "Requirement already satisfied: referencing>=0.28.4 in /home/gitpod/.pyenv/versions/3.12.3/lib/python3.12/site-packages (from jsonschema>=2.6->nbformat->import_ipynb) (0.34.0)\r\n",
      "Requirement already satisfied: rpds-py>=0.7.1 in /home/gitpod/.pyenv/versions/3.12.3/lib/python3.12/site-packages (from jsonschema>=2.6->nbformat->import_ipynb) (0.18.0)\r\n"
     ]
    },
    {
     "name": "stdout",
     "output_type": "stream",
     "text": [
      "Requirement already satisfied: platformdirs>=2.5 in /home/gitpod/.pyenv/versions/3.12.3/lib/python3.12/site-packages (from jupyter-core!=5.0.*,>=4.12->nbformat->import_ipynb) (4.2.0)\r\n",
      "Requirement already satisfied: ptyprocess>=0.5 in /home/gitpod/.pyenv/versions/3.12.3/lib/python3.12/site-packages (from pexpect>4.3->IPython->import_ipynb) (0.7.0)\r\n",
      "Requirement already satisfied: wcwidth in /home/gitpod/.pyenv/versions/3.12.3/lib/python3.12/site-packages (from prompt-toolkit<3.1.0,>=3.0.41->IPython->import_ipynb) (0.2.13)\r\n"
     ]
    },
    {
     "name": "stdout",
     "output_type": "stream",
     "text": [
      "Requirement already satisfied: executing>=1.2.0 in /home/gitpod/.pyenv/versions/3.12.3/lib/python3.12/site-packages (from stack-data->IPython->import_ipynb) (2.0.1)\r\n",
      "Requirement already satisfied: asttokens>=2.1.0 in /home/gitpod/.pyenv/versions/3.12.3/lib/python3.12/site-packages (from stack-data->IPython->import_ipynb) (2.4.1)\r\n",
      "Requirement already satisfied: pure-eval in /home/gitpod/.pyenv/versions/3.12.3/lib/python3.12/site-packages (from stack-data->IPython->import_ipynb) (0.2.2)\r\n",
      "Requirement already satisfied: six>=1.12.0 in /home/gitpod/.pyenv/versions/3.12.3/lib/python3.12/site-packages (from asttokens>=2.1.0->stack-data->IPython->import_ipynb) (1.16.0)\r\n"
     ]
    },
    {
     "name": "stdout",
     "output_type": "stream",
     "text": [
      "Downloading import_ipynb-0.1.4-py3-none-any.whl (4.1 kB)\r\n"
     ]
    },
    {
     "name": "stdout",
     "output_type": "stream",
     "text": [
      "Installing collected packages: import_ipynb\r\n"
     ]
    },
    {
     "name": "stdout",
     "output_type": "stream",
     "text": [
      "Successfully installed import_ipynb-0.1.4\r\n"
     ]
    }
   ],
   "source": [
    "# install and import the python module for importing a notebook\n",
    "!pip install import_ipynb\n",
    "import import_ipynb"
   ]
  },
  {
   "cell_type": "code",
   "execution_count": 2,
   "metadata": {
    "colab": {
     "background_save": true,
     "base_uri": "https://localhost:8080/"
    },
    "id": "9zlbpTykfYa2"
   },
   "outputs": [
    {
     "ename": "ModuleNotFoundError",
     "evalue": "No module named 'google'",
     "output_type": "error",
     "traceback": [
      "\u001b[0;31m---------------------------------------------------------------------------\u001b[0m",
      "\u001b[0;31mModuleNotFoundError\u001b[0m                       Traceback (most recent call last)",
      "Cell \u001b[0;32mIn[2], line 2\u001b[0m\n\u001b[1;32m      1\u001b[0m \u001b[38;5;66;03m# mount your google drive to this notebook\u001b[39;00m\n\u001b[0;32m----> 2\u001b[0m \u001b[38;5;28;01mfrom\u001b[39;00m \u001b[38;5;21;01mgoogle\u001b[39;00m\u001b[38;5;21;01m.\u001b[39;00m\u001b[38;5;21;01mcolab\u001b[39;00m \u001b[38;5;28;01mimport\u001b[39;00m drive\n\u001b[1;32m      3\u001b[0m drive\u001b[38;5;241m.\u001b[39mflush_and_unmount()\n\u001b[1;32m      4\u001b[0m drive\u001b[38;5;241m.\u001b[39mmount(\u001b[38;5;124m\"\u001b[39m\u001b[38;5;124mmnt\u001b[39m\u001b[38;5;124m\"\u001b[39m, force_remount\u001b[38;5;241m=\u001b[39m\u001b[38;5;28;01mTrue\u001b[39;00m)\n",
      "\u001b[0;31mModuleNotFoundError\u001b[0m: No module named 'google'"
     ]
    }
   ],
   "source": [
    "# mount your google drive to this notebook\n",
    "from google.colab import drive\n",
    "drive.flush_and_unmount()\n",
    "drive.mount(\"mnt\", force_remount=True)"
   ]
  },
  {
   "cell_type": "code",
   "execution_count": null,
   "metadata": {
    "colab": {
     "background_save": true
    },
    "id": "X8F5FyQ47xaq"
   },
   "outputs": [],
   "source": [
    "# import the \"Copy of methods.ipynb\" from your google drive into this notebook\n",
    "m = __import__(\"mnt/MyDrive/Colab Notebooks/Copy of methods\")"
   ]
  },
  {
   "cell_type": "markdown",
   "metadata": {
    "id": "7V5GOooiPOam"
   },
   "source": [
    "# read in the data\n",
    "\n",
    "After reading in the methods, we need to read in the data from the NASA OSDR space biology data repository.  In this notebook, we will  be using the immunostaining microscopy PECAM data from OSD-568, the RNA-seq data from OSD-255, and the tonometry data from OSD-583.\n",
    "\n",
    "After reading in the data from OSDR, we will reduce the dimensions of the RNA-seq data to include only those genes whose [coefficient of variation](https://en.wikipedia.org/wiki/Coefficient_of_variation) is greater than a threshold. This is a form of [dimensionality reduction](https://en.wikipedia.org/wiki/Dimensionality_reduction) that will remove some noise from the gene expression so our classification algorithms can focus on the signal.  "
   ]
  },
  {
   "cell_type": "code",
   "execution_count": null,
   "metadata": {
    "id": "ue4aWcjW3Ahv"
   },
   "outputs": [],
   "source": [
    "# define dictionaries for data and metadata\n",
    "data=dict()\n",
    "metadata=dict()"
   ]
  },
  {
   "cell_type": "code",
   "execution_count": null,
   "metadata": {
    "id": "6N8RVfgFN_wf"
   },
   "outputs": [],
   "source": [
    "# read in metadata\n",
    "metadata['255'] = m.read_meta_data('255')\n",
    "metadata['568'] = m.read_meta_data('568')\n",
    "metadata['583'] = m.read_meta_data('583')"
   ]
  },
  {
   "cell_type": "code",
   "execution_count": null,
   "metadata": {
    "id": "8WL7aYMj0v7N"
   },
   "outputs": [],
   "source": [
    "# read in tonometry transformed data from OSD-583\n",
    "data['iop'] = m.read_phenotype_data('583', 'LSDS-16_tonometry_maoTRANSFORMED')\n",
    "print('num samples: ', str(len(list(data['iop']['Sample Name']))))\n",
    "print('samples: ', list(data['iop']['Sample Name']))\n",
    "data['iop'].head()"
   ]
  },
  {
   "cell_type": "code",
   "execution_count": null,
   "metadata": {
    "id": "oUZa7u_YbX_4"
   },
   "outputs": [],
   "source": [
    "# read in the immunostaining PECAM microscopy data from OSD-568\n",
    "data['immunoMICRO-PECAM'] = m.read_phenotype_data('568', 'LSDS-5_immunostaining_microscopy_PECAMtr_TRANSFORMED')\n",
    "print('num records: ', len(data['immunoMICRO-PECAM']))\n",
    "data['immunoMICRO-PECAM'].head()"
   ]
  },
  {
   "cell_type": "code",
   "execution_count": null,
   "metadata": {
    "id": "ZffWrkFvErlN"
   },
   "outputs": [],
   "source": [
    "# use m.read_rnaseq_data() to read in the normalized transcriptomic counts from OSD-255\n",
    "data['255-normalized'] = m.read_rnaseq_data('255_rna_seq_Normalized_Counts')\n",
    "data['255-normalized'].head()"
   ]
  },
  {
   "cell_type": "code",
   "execution_count": null,
   "metadata": {
    "id": "NU_8K5-3X7_b"
   },
   "outputs": [],
   "source": [
    "# filter genes to those significantly differentially expressed between ground control and space flight\n",
    "rna_seq = m.filter_by_dgea(data['255-normalized'], metadata['255'],  pval=0.05, l2fc=0)\n",
    "print('rna_seq data shape: ', rna_seq.shape)"
   ]
  },
  {
   "cell_type": "markdown",
   "metadata": {
    "id": "VgHjw8soBPTT"
   },
   "source": [
    "**QUESTIONS**\n",
    "\n",
    "1. How many genes in the RNA-seq dataset were there before filtering on the coefficient of variation? After filtering?\n",
    "\n",
    "2. How many samples have IOP measurements? PECAM measurements?\n",
    "\n",
    "3. What is the name of the column in the PECAM data that we will be using as a phenotype measurement?"
   ]
  },
  {
   "cell_type": "markdown",
   "metadata": {
    "id": "48QixnD8fjG7"
   },
   "source": [
    "# Predict intraocular pressure (IOP) from RNA-seq (gene expression) data\n",
    "\n",
    "Not all the samples with IOP measurements had their RNA sequenced.  We will need to first subset the IOP data to match those samples with RNA-seq data."
   ]
  },
  {
   "cell_type": "markdown",
   "metadata": {
    "id": "hyGbrmKFqEfu"
   },
   "source": [
    "## Prepare the data for the algorithms"
   ]
  },
  {
   "cell_type": "code",
   "execution_count": null,
   "metadata": {
    "id": "ujGex5bPHqRF"
   },
   "outputs": [],
   "source": [
    "# create a dataframe called iop_subset - a subset of data['iop'] - which uses only \"Retina_Ground\" and \"Retina_Flight\" samples\n",
    "samples=list()\n",
    "for sample in rna_seq.columns[1:]:\n",
    "  samples.append(metadata['255'][metadata['255']['Sample Name']==sample]['Source Name'].values[0])\n",
    "samples_short=list()\n",
    "for sample in samples:\n",
    "  num = \"\"\n",
    "  for c in sample:\n",
    "    if c.isdigit():\n",
    "      num += str(c)\n",
    "  if 'G' in sample:\n",
    "    samples_short.append(\"GC\" + num)\n",
    "  elif 'F' in sample:\n",
    "    samples_short.append(\"F\" + num)\n",
    "iop_subset = data['iop'][data['iop']['Source Name'].isin(samples_short)]\n",
    "iop_subset.head()"
   ]
  },
  {
   "cell_type": "code",
   "execution_count": null,
   "metadata": {
    "id": "QpDtYimf29h8"
   },
   "outputs": [],
   "source": [
    "# change the names in the rna_seq dataframe to match those in the iop_subset dataframe\n",
    "rna_seq.columns = ['Unnamed: 0'] + list(iop_subset['Source Name'])"
   ]
  },
  {
   "cell_type": "code",
   "execution_count": null,
   "metadata": {
    "id": "ZLOFSg9der6y"
   },
   "outputs": [],
   "source": [
    "# create numpy array y of IOP values (average of the Avg_Left and Avg_Right) which will be used as the target (response) in our model.\n",
    "y = list()\n",
    "for i in range(len(iop_subset)):\n",
    "  iop_val=(iop_subset.iloc[i]['Avg_Left'] + iop_subset.iloc[i]['Avg_Right'])/2\n",
    "  y.append(iop_val)\n",
    "y = m.np.array(y)\n",
    "y_classes = list()\n",
    "for i in y:\n",
    "  if i > y.mean():\n",
    "    y_classes.append(1)\n",
    "  else:\n",
    "    y_classes.append(0)\n",
    "\n",
    "y = y_classes"
   ]
  },
  {
   "cell_type": "code",
   "execution_count": null,
   "metadata": {
    "id": "mtTnSsn4qF5s"
   },
   "outputs": [],
   "source": [
    "# create numpy array X of rna-seq values\n",
    "X = m.transpose_df(rna_seq, 'Unnamed: 0', 'sample').drop(columns=['sample'])"
   ]
  },
  {
   "cell_type": "code",
   "execution_count": null,
   "metadata": {
    "id": "yL06B6Bjxp07"
   },
   "outputs": [],
   "source": [
    "# split up data between training and testing\n",
    "X_train, X_test, y_train, y_test = m.train_test_split(X, y, test_size=0.2, random_state=0)"
   ]
  },
  {
   "cell_type": "code",
   "execution_count": null,
   "metadata": {
    "id": "RXppDhyMHwtD"
   },
   "outputs": [],
   "source": [
    "# show the dimensions of the training and testing data\n",
    "print('X train: ', X_train.shape)\n",
    "print('y train: ', len(y_train))\n",
    "print('X test: ', X_test.shape)\n",
    "print('y test: ', len(y_test))"
   ]
  },
  {
   "cell_type": "markdown",
   "metadata": {
    "id": "I3lyOU5wbbdz"
   },
   "source": [
    "**QUESTIONS**\n",
    "\n",
    "1. How many samples are used for training?\n",
    "\n",
    "2. How many samples are used for testing?\n",
    "\n",
    "3. Based on the number of samples used for testing, what are the possible values for the testing accuracy?"
   ]
  },
  {
   "cell_type": "markdown",
   "metadata": {
    "id": "sXqrSn7r7njv"
   },
   "source": [
    "## Build a random forest model to predict IOP from gene expression"
   ]
  },
  {
   "cell_type": "code",
   "execution_count": null,
   "metadata": {
    "id": "cI5mNR4Xqpjf"
   },
   "outputs": [],
   "source": [
    "# run random forest classification on X, y\n",
    "\n",
    "clf = m.RandomForestClassifier(max_depth=8, random_state=23)\n",
    "clf.fit(X_train, y_train)\n",
    "\n",
    "y_train_pred = clf.predict(X_train)\n",
    "train_acc = m.accuracy_score(y_train, y_train_pred)\n",
    "print(\"train accuracy:\", train_acc)\n",
    "\n",
    "y_pred = clf.predict(X_test)\n",
    "test_acc = m.accuracy_score(y_test, y_pred)\n",
    "print(\"test accuracy:\", test_acc)"
   ]
  },
  {
   "cell_type": "code",
   "execution_count": null,
   "metadata": {
    "id": "vKRvRi4JDdsS"
   },
   "outputs": [],
   "source": [
    "# visualize the random forest\n",
    "num_trees=10\n",
    "for i in range(num_trees):\n",
    "    tree = clf.estimators_[i]\n",
    "    dot_data = m.export_graphviz(tree,\n",
    "                               feature_names=X_train.columns,\n",
    "                               filled=True,\n",
    "                               impurity=False,\n",
    "                               proportion=True)\n",
    "    graph = m.graphviz.Source(dot_data)\n",
    "    display(graph)"
   ]
  },
  {
   "cell_type": "code",
   "execution_count": null,
   "metadata": {
    "id": "7q5JaOUVgZsg"
   },
   "outputs": [],
   "source": [
    "# now create a confusion matrix\n",
    "from sklearn.metrics import confusion_matrix\n",
    "y_pred = clf.predict(X_test)\n",
    "confusion_matrix(y_test, y_pred)"
   ]
  },
  {
   "cell_type": "markdown",
   "metadata": {
    "id": "rhhM9QJvayyZ"
   },
   "source": [
    "**QUESTIONS**\n",
    "\n",
    "1. What is the training accuracy of the random forest model? Test accuracy?\n",
    "\n",
    "2. Which genes are used in the 5 decision trees of the random forest model?\n",
    "\n",
    "3. According to the confusion matrix, how many low IOP samples were correctly classified?  correct high IOP?  how many low IOP samples were confused with high IOP samples?"
   ]
  },
  {
   "cell_type": "markdown",
   "metadata": {
    "id": "6Ytk7E-Rk5Jc"
   },
   "source": [
    "## Build a single-layer perceptron model that predicts IOP from gene expression\n"
   ]
  },
  {
   "cell_type": "code",
   "execution_count": null,
   "metadata": {
    "id": "IfcY_m_Uk-Z7"
   },
   "outputs": [],
   "source": [
    "# run random forest classification on X, y\n",
    "\n",
    "from sklearn.linear_model import Perceptron\n",
    "clf = Perceptron(tol=1e-3, random_state=0)\n",
    "clf.fit(X_train, y_train)\n",
    "\n",
    "y_train_pred = clf.predict(X_train)\n",
    "train_acc = m.accuracy_score(y_train, y_train_pred)\n",
    "print(\"train accuracy:\", train_acc)\n",
    "\n",
    "y_pred = clf.predict(X_test)\n",
    "test_acc = m.accuracy_score(y_test, y_pred)\n",
    "print(\"test accuracy:\", test_acc)\n",
    "\n",
    "print('overall score: ', clf.score(X, y))\n"
   ]
  },
  {
   "cell_type": "markdown",
   "metadata": {
    "id": "n9PGigL6qP-w"
   },
   "source": [
    "**QUESTIONS**\n",
    "\n",
    "1. What is the training accuracy of the SLP model?\n",
    "\n",
    "2. What is the test accuracy of the SLP model?\n",
    "\n",
    "3. What might explain the discrepancy between the training and testing accuracy?"
   ]
  },
  {
   "cell_type": "markdown",
   "metadata": {
    "id": "GG90bHw2cP_h"
   },
   "source": [
    "## BONUS: Build a logistic regression model that predicts IOP from gene expression"
   ]
  },
  {
   "cell_type": "code",
   "execution_count": null,
   "metadata": {
    "id": "cHlOMEwi05fH"
   },
   "outputs": [],
   "source": [
    "# now run logistic regression classification on X, y\n",
    "\n",
    "clf = m.LogisticRegression(random_state=23)\n",
    "clf.fit(X_train, y_train)\n",
    "\n",
    "y_train_pred = clf.predict(X_train)\n",
    "train_acc = m.accuracy_score(y_train, y_train_pred)\n",
    "print(\"train accuracy:\", train_acc)\n",
    "\n",
    "y_pred = clf.predict(X_test)\n",
    "test_acc = m.accuracy_score(y_test, y_pred)\n",
    "print(\"test accuracy:\", test_acc)\n"
   ]
  },
  {
   "cell_type": "markdown",
   "metadata": {
    "id": "XX0dbR0RqvqZ"
   },
   "source": [
    "**QUESTIONS**\n",
    "\n",
    "1. What is the training accuracy of the logistic regression model?\n",
    "\n",
    "2. What is the test accuracy of the logistic regression model?\n",
    "\n",
    "3. Which model has a better test accuracy for predicting IOP from gene expression -- the random forest model, the SLP model, or the logistic regression model?"
   ]
  },
  {
   "cell_type": "markdown",
   "metadata": {
    "id": "qw374GMxbz_G"
   },
   "source": [
    "# Predict immunostaining PECAM microscopy from RNA-seq (gene expression)\n",
    "\n",
    "Not all the samples with PECAM measurements had their RNA sequenced.  We will need to first intersect the PECAM data with samples from RNA-seq data."
   ]
  },
  {
   "cell_type": "markdown",
   "metadata": {
    "id": "s3X9tqs3pNrE"
   },
   "source": [
    "## Prepare the data for the algorithms"
   ]
  },
  {
   "cell_type": "code",
   "execution_count": null,
   "metadata": {
    "id": "2yL-eJ374d4g"
   },
   "outputs": [],
   "source": [
    "# filter genes to those significantly differentially expressed between ground control and space flight\n",
    "rna_seq = m.filter_by_dgea(data['255-normalized'], metadata['255'],  pval=0.05, l2fc=0)"
   ]
  },
  {
   "cell_type": "code",
   "execution_count": null,
   "metadata": {
    "id": "dgJBGbDpiFAC"
   },
   "outputs": [],
   "source": [
    "# get source names from 255 and sample names in immunoMICRO pecam and intersect the lists and subset the df's\n",
    "samples_255_dict = dict()\n",
    "samples_pecam = list()\n",
    "for i in range(len(metadata['255'])):\n",
    "  sample = metadata['255'].iloc[i]['Source Name']\n",
    "  num = \"\"\n",
    "  for c in sample:\n",
    "    if c.isdigit():\n",
    "      num += str(c)\n",
    "  if \"G\" in sample:\n",
    "    samples_255_dict[\"GC\" + num] = metadata['255'].iloc[i]['Sample Name']\n",
    "\n",
    "  elif \"F\" in sample:\n",
    "    samples_255_dict[\"F\" + num] = metadata['255'].iloc[i]['Sample Name']\n",
    "  else:\n",
    "    continue\n",
    "\n",
    "for sample in data['immunoMICRO-PECAM']['Sample_Name']:\n",
    "  num = \"\"\n",
    "  for c in sample:\n",
    "    if c.isdigit():\n",
    "      num += str(c)\n",
    "  if \"G\" in sample:\n",
    "    samples_pecam.append(\"GC\" + num)\n",
    "  elif \"F\" in sample:\n",
    "    samples_pecam.append(\"F\" + num)\n",
    "  else:\n",
    "    print('neither ground nor space: ',  sample)\n",
    "    continue\n",
    "\n",
    "print('255 samples: ', samples_255_dict.keys())\n",
    "print('pecam samples: ', samples_pecam)\n",
    "# intersect 255 samples with immunoMICRO pecam samples\n",
    "samples_both=list(set(samples_255_dict.keys()) & set(samples_pecam))\n",
    "print('both: ', samples_both)\n",
    "# subset 255 and pecam samples from intersection\n",
    "gsm_samples = list()\n",
    "for sample in samples_both:\n",
    "  gsm_samples.append(samples_255_dict[sample])\n",
    "print('gsm: ', gsm_samples)"
   ]
  },
  {
   "cell_type": "code",
   "execution_count": null,
   "metadata": {
    "id": "4ZiyqYyFld2Q"
   },
   "outputs": [],
   "source": [
    "# now subset the rna_seq dataframe with samples from the gsm_samples list\n",
    "X = rna_seq[['Unnamed: 0'] + gsm_samples]\n",
    "print(X.columns)"
   ]
  },
  {
   "cell_type": "code",
   "execution_count": null,
   "metadata": {
    "id": "VjzD17uPijuX"
   },
   "outputs": [],
   "source": [
    "# subset the pecam data frame with samples from the both list\n",
    "samples_pecam"
   ]
  },
  {
   "cell_type": "code",
   "execution_count": null,
   "metadata": {
    "id": "pImOqkY5b813"
   },
   "outputs": [],
   "source": [
    "# create numpy array Y of immuno PECAM values\n",
    "y = list()\n",
    "for i in range(len(data['immunoMICRO-PECAM'])):\n",
    "  pecam_val=data['immunoMICRO-PECAM'].iloc[i]['Average']\n",
    "  print('sample: ', data['immunoMICRO-PECAM'].iloc[i]['Sample_Name'])\n",
    "  y.append(pecam_val)\n",
    "\n",
    "y = m.np.array(y)\n",
    "y_classes = list()\n",
    "for p in y:\n",
    "  if p > y.mean():\n",
    "    y_classes.append(1)\n",
    "  else:\n",
    "    y_classes.append(0)\n",
    "\n",
    "y = y_classes\n",
    "print('y = ', y)"
   ]
  },
  {
   "cell_type": "code",
   "execution_count": null,
   "metadata": {
    "id": "ctM-T5x7-5xu"
   },
   "outputs": [],
   "source": [
    "# create numpy array X of rna-seq values\n",
    "X = m.transpose_df(X, 'Unnamed: 0', 'sample').drop(columns=['sample'])"
   ]
  },
  {
   "cell_type": "code",
   "execution_count": null,
   "metadata": {
    "id": "vozP6KVTgrvx"
   },
   "outputs": [],
   "source": [
    "# split up data into training and testing subsets\n",
    "X_train, X_test, y_train, y_test = m.train_test_split(X, y, test_size=0.2, random_state=0)"
   ]
  },
  {
   "cell_type": "code",
   "execution_count": null,
   "metadata": {
    "id": "wvQAnaRrC_E_"
   },
   "outputs": [],
   "source": [
    "# show the dimensions of the training and testing data\n",
    "print('X train: ', X_train.shape)\n",
    "print('y train: ', len(y_train))\n",
    "print('X test: ', X_test.shape)\n",
    "print('y test: ', len(y_test))"
   ]
  },
  {
   "cell_type": "markdown",
   "metadata": {
    "id": "wKEswbbuEXaJ"
   },
   "source": [
    "**QUESTIONS**\n",
    "\n",
    "1. How many samples are used for training the model?\n",
    "\n",
    "2. How many samples are used for testing the model?\n",
    "\n",
    "3. Based on the number of samples for testing, what are the possible accuracy scores?"
   ]
  },
  {
   "cell_type": "markdown",
   "metadata": {
    "id": "r-fopycvh4G7"
   },
   "source": [
    "## Build a random forest model to predict PECAM microscopy from gene expression"
   ]
  },
  {
   "cell_type": "code",
   "execution_count": null,
   "metadata": {
    "id": "XiyVtaRqghyf"
   },
   "outputs": [],
   "source": [
    "# now run classification on X, y\n",
    "max_depth=4\n",
    "clf = m.RandomForestClassifier(max_depth=max_depth, random_state=23)\n",
    "clf.fit(X_train, y_train)\n",
    "\n",
    "y_train_pred = clf.predict(X_train)\n",
    "train_acc = m.accuracy_score(y_train, y_train_pred)\n",
    "print(\"train accuracy:\", train_acc)\n",
    "\n",
    "y_pred = clf.predict(X_test)\n",
    "accuracy = m.accuracy_score(y_test, y_pred)\n",
    "print(\"test accuracy:\", accuracy)"
   ]
  },
  {
   "cell_type": "code",
   "execution_count": null,
   "metadata": {
    "id": "uhtq8RJRg86Z"
   },
   "outputs": [],
   "source": [
    "# visualize forest / feature importance\n",
    "num_trees=10\n",
    "for i in range(num_trees):\n",
    "    tree = clf.estimators_[i]\n",
    "    dot_data = m.export_graphviz(tree,\n",
    "                               feature_names=X_train.columns,\n",
    "                               filled=True,\n",
    "                               impurity=False,\n",
    "                               proportion=True)\n",
    "    graph = m.graphviz.Source(dot_data)\n",
    "    display(graph)"
   ]
  },
  {
   "cell_type": "markdown",
   "metadata": {
    "id": "lQsoK-vkdPwS"
   },
   "source": [
    "**QUESTIONS**\n",
    "\n",
    "1. What is training accuracy of the random forest model?\n",
    "\n",
    "2. What is the test accuracy of the random forest model?\n",
    "\n",
    "3. Which genes are used in the decision trees of the random forest?"
   ]
  },
  {
   "cell_type": "markdown",
   "metadata": {
    "id": "eLpdB7tZ_AC4"
   },
   "source": [
    "## BONUS: Build a logistic regression model to predict PECAM microscopy from gene expression"
   ]
  },
  {
   "cell_type": "code",
   "execution_count": null,
   "metadata": {
    "id": "5EuRSufV_I_k"
   },
   "outputs": [],
   "source": [
    "# now run classification on X, y\n",
    "\n",
    "clf = m.LogisticRegression(random_state=23)\n",
    "clf.fit(X_train, y_train)\n",
    "\n",
    "y_train_pred = clf.predict(X_train)\n",
    "train_acc = m.accuracy_score(y_train, y_train_pred)\n",
    "print(\"train accuracy:\", train_acc)\n",
    "\n",
    "y_pred = clf.predict(X_test)\n",
    "accuracy = m.accuracy_score(y_test, y_pred)\n",
    "print(\"test accuracy:\", accuracy)"
   ]
  },
  {
   "cell_type": "markdown",
   "metadata": {
    "id": "lRCjHafzdhea"
   },
   "source": [
    "**QUESTIONS**\n",
    "\n",
    "1. What is the training accuracy of the logistic regression model?\n",
    "\n",
    "2. What is the test accuracy of the logistic regression model?\n",
    "\n",
    "3. Which model has a better test accuracy for predicting PECAM microscopy from gene expression -- the random forest model, the SLP model, or the logistic regression model?"
   ]
  }
 ],
 "metadata": {
  "colab": {
   "collapsed_sections": [
    "7V5GOooiPOam",
    "48QixnD8fjG7",
    "hyGbrmKFqEfu",
    "sXqrSn7r7njv",
    "6Ytk7E-Rk5Jc",
    "qw374GMxbz_G"
   ],
   "name": "",
   "provenance": [
    {
     "file_id": "18FO8atqLdm5FCq_4hXobPQgogfzxDt_L",
     "timestamp": 1712869040423
    },
    {
     "file_id": "18xrRN2RXhYUlD_5LHAYKPmvIqV04BCwK",
     "timestamp": 1712444259714
    },
    {
     "file_id": "15TIB8PRAGeK6KzXYTBMuvrtJsggFLIdL",
     "timestamp": 1711300923480
    },
    {
     "file_id": "1GHxtB5mfjTpRb9Is9Upcs4D3qPqYNlrr",
     "timestamp": 1706556238829
    },
    {
     "file_id": "1jb2odfVhZjH6_6hPrXLafCyHaEYkZyJu",
     "timestamp": 1706241588769
    },
    {
     "file_id": "1bUDcgWr6vSQLioLfWtMIA15xpdKYZuUN",
     "timestamp": 1706036000814
    }
   ],
   "toc_visible": true,
   "version": ""
  },
  "kernelspec": {
   "display_name": "Python 3",
   "name": "python3"
  },
  "language_info": {
   "codemirror_mode": {
    "name": "ipython",
    "version": 3
   },
   "file_extension": ".py",
   "mimetype": "text/x-python",
   "name": "python",
   "nbconvert_exporter": "python",
   "pygments_lexer": "ipython3",
   "version": "3.12.3"
  }
 },
 "nbformat": 4,
 "nbformat_minor": 0
}