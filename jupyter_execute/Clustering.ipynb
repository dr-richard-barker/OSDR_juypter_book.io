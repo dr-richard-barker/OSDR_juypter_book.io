{
 "cells": [
  {
   "cell_type": "markdown",
   "metadata": {
    "id": "QG3X-tGIpkMA"
   },
   "source": [
    "# **Mission of clustering notebook**\n",
    "\n",
    "You are a member of a bioinformatics team investigating the [effect of spaceflight on astronaut health](https://en.wikipedia.org/wiki/Effect_of_spaceflight_on_the_human_body).  Your team is trying to find the [biological pathways](https://en.wikipedia.org/wiki/Biological_pathway) that respond to exposure of adverse conditions in space such as [microgravity](https://www.nasa.gov/centers-and-facilities/glenn/what-is-microgravity/) and [radiation](https://www.nasa.gov/directorates/esdmd/hhp/space-radiation/).  Ultimately your team will need phenotype data as labels to train your supervised learning models, but for now, all you have is the gene expression data in the form of [RNA-seq](https://en.wikipedia.org/wiki/RNA-Seq).  \n",
    "\n",
    "Your mission is to use unsupervised machine learning - [clustering](https://en.wikipedia.org/wiki/Cluster_analysis) - to determine if the astronaut samples and their ground control counterparts have clearly distinguishable gene expression profiles.  For if they do, then there is a chance that a supervised learning method can predict responses to spaceflight using different combinations and weights of gene expression from the RNA-seq data.\n",
    "\n",
    "In this notebook, you will use k-means, PCA, and a heatmap to reach your conclusions."
   ]
  },
  {
   "cell_type": "markdown",
   "metadata": {
    "id": "vQlf-NM5D61W"
   },
   "source": [
    "# Read in the methods\n",
    "\n",
    "Recall that we have put all the custom python methods in a separate notebook which you copied to your Google drive.  We need to read those methods into this notebook so that we can use them here.  You will get prompted to select the gmail address to use to permit access to your google drive for this notebook.\n",
    "\n",
    "Note that we will import the methods in the notebook as \"m\", so all subsequent references to methods in that notebook will be prefixed with \"m.\"."
   ]
  },
  {
   "cell_type": "code",
   "execution_count": 1,
   "metadata": {
    "id": "hCg-4en9D_U2"
   },
   "outputs": [
    {
     "name": "stdout",
     "output_type": "stream",
     "text": [
      "Requirement already satisfied: import_ipynb in /workspace/.pyenv_mirror/user/current/lib/python3.12/site-packages (0.1.4)\r\n",
      "Requirement already satisfied: IPython in /home/gitpod/.pyenv/versions/3.12.3/lib/python3.12/site-packages (from import_ipynb) (8.23.0)\r\n",
      "Requirement already satisfied: nbformat in /home/gitpod/.pyenv/versions/3.12.3/lib/python3.12/site-packages (from import_ipynb) (5.10.4)\r\n"
     ]
    },
    {
     "name": "stdout",
     "output_type": "stream",
     "text": [
      "Requirement already satisfied: decorator in /home/gitpod/.pyenv/versions/3.12.3/lib/python3.12/site-packages (from IPython->import_ipynb) (5.1.1)\r\n",
      "Requirement already satisfied: jedi>=0.16 in /home/gitpod/.pyenv/versions/3.12.3/lib/python3.12/site-packages (from IPython->import_ipynb) (0.19.1)\r\n"
     ]
    },
    {
     "name": "stdout",
     "output_type": "stream",
     "text": [
      "Requirement already satisfied: matplotlib-inline in /home/gitpod/.pyenv/versions/3.12.3/lib/python3.12/site-packages (from IPython->import_ipynb) (0.1.6)\r\n",
      "Requirement already satisfied: prompt-toolkit<3.1.0,>=3.0.41 in /home/gitpod/.pyenv/versions/3.12.3/lib/python3.12/site-packages (from IPython->import_ipynb) (3.0.43)\r\n",
      "Requirement already satisfied: pygments>=2.4.0 in /home/gitpod/.pyenv/versions/3.12.3/lib/python3.12/site-packages (from IPython->import_ipynb) (2.17.2)\r\n",
      "Requirement already satisfied: stack-data in /home/gitpod/.pyenv/versions/3.12.3/lib/python3.12/site-packages (from IPython->import_ipynb) (0.6.3)\r\n",
      "Requirement already satisfied: traitlets>=5.13.0 in /home/gitpod/.pyenv/versions/3.12.3/lib/python3.12/site-packages (from IPython->import_ipynb) (5.14.2)\r\n",
      "Requirement already satisfied: pexpect>4.3 in /home/gitpod/.pyenv/versions/3.12.3/lib/python3.12/site-packages (from IPython->import_ipynb) (4.9.0)\r\n",
      "Requirement already satisfied: fastjsonschema>=2.15 in /home/gitpod/.pyenv/versions/3.12.3/lib/python3.12/site-packages (from nbformat->import_ipynb) (2.19.1)\r\n",
      "Requirement already satisfied: jsonschema>=2.6 in /home/gitpod/.pyenv/versions/3.12.3/lib/python3.12/site-packages (from nbformat->import_ipynb) (4.21.1)\r\n",
      "Requirement already satisfied: jupyter-core!=5.0.*,>=4.12 in /home/gitpod/.pyenv/versions/3.12.3/lib/python3.12/site-packages (from nbformat->import_ipynb) (5.7.2)\r\n"
     ]
    },
    {
     "name": "stdout",
     "output_type": "stream",
     "text": [
      "Requirement already satisfied: parso<0.9.0,>=0.8.3 in /home/gitpod/.pyenv/versions/3.12.3/lib/python3.12/site-packages (from jedi>=0.16->IPython->import_ipynb) (0.8.4)\r\n"
     ]
    },
    {
     "name": "stdout",
     "output_type": "stream",
     "text": [
      "Requirement already satisfied: attrs>=22.2.0 in /home/gitpod/.pyenv/versions/3.12.3/lib/python3.12/site-packages (from jsonschema>=2.6->nbformat->import_ipynb) (23.2.0)\r\n",
      "Requirement already satisfied: jsonschema-specifications>=2023.03.6 in /home/gitpod/.pyenv/versions/3.12.3/lib/python3.12/site-packages (from jsonschema>=2.6->nbformat->import_ipynb) (2023.12.1)\r\n",
      "Requirement already satisfied: referencing>=0.28.4 in /home/gitpod/.pyenv/versions/3.12.3/lib/python3.12/site-packages (from jsonschema>=2.6->nbformat->import_ipynb) (0.34.0)\r\n",
      "Requirement already satisfied: rpds-py>=0.7.1 in /home/gitpod/.pyenv/versions/3.12.3/lib/python3.12/site-packages (from jsonschema>=2.6->nbformat->import_ipynb) (0.18.0)\r\n",
      "Requirement already satisfied: platformdirs>=2.5 in /home/gitpod/.pyenv/versions/3.12.3/lib/python3.12/site-packages (from jupyter-core!=5.0.*,>=4.12->nbformat->import_ipynb) (4.2.0)\r\n",
      "Requirement already satisfied: ptyprocess>=0.5 in /home/gitpod/.pyenv/versions/3.12.3/lib/python3.12/site-packages (from pexpect>4.3->IPython->import_ipynb) (0.7.0)\r\n",
      "Requirement already satisfied: wcwidth in /home/gitpod/.pyenv/versions/3.12.3/lib/python3.12/site-packages (from prompt-toolkit<3.1.0,>=3.0.41->IPython->import_ipynb) (0.2.13)\r\n"
     ]
    },
    {
     "name": "stdout",
     "output_type": "stream",
     "text": [
      "Requirement already satisfied: executing>=1.2.0 in /home/gitpod/.pyenv/versions/3.12.3/lib/python3.12/site-packages (from stack-data->IPython->import_ipynb) (2.0.1)\r\n",
      "Requirement already satisfied: asttokens>=2.1.0 in /home/gitpod/.pyenv/versions/3.12.3/lib/python3.12/site-packages (from stack-data->IPython->import_ipynb) (2.4.1)\r\n",
      "Requirement already satisfied: pure-eval in /home/gitpod/.pyenv/versions/3.12.3/lib/python3.12/site-packages (from stack-data->IPython->import_ipynb) (0.2.2)\r\n",
      "Requirement already satisfied: six>=1.12.0 in /home/gitpod/.pyenv/versions/3.12.3/lib/python3.12/site-packages (from asttokens>=2.1.0->stack-data->IPython->import_ipynb) (1.16.0)\r\n"
     ]
    }
   ],
   "source": [
    "# install and import the python module for importing a notebook\n",
    "!pip install import_ipynb\n",
    "import import_ipynb"
   ]
  },
  {
   "cell_type": "code",
   "execution_count": 2,
   "metadata": {
    "id": "QWwLdzUfHLzL"
   },
   "outputs": [
    {
     "ename": "ModuleNotFoundError",
     "evalue": "No module named 'google'",
     "output_type": "error",
     "traceback": [
      "\u001b[0;31m---------------------------------------------------------------------------\u001b[0m",
      "\u001b[0;31mModuleNotFoundError\u001b[0m                       Traceback (most recent call last)",
      "Cell \u001b[0;32mIn[2], line 2\u001b[0m\n\u001b[1;32m      1\u001b[0m \u001b[38;5;66;03m# mount your google drive to this notebook\u001b[39;00m\n\u001b[0;32m----> 2\u001b[0m \u001b[38;5;28;01mfrom\u001b[39;00m \u001b[38;5;21;01mgoogle\u001b[39;00m\u001b[38;5;21;01m.\u001b[39;00m\u001b[38;5;21;01mcolab\u001b[39;00m \u001b[38;5;28;01mimport\u001b[39;00m drive\n\u001b[1;32m      3\u001b[0m drive\u001b[38;5;241m.\u001b[39mflush_and_unmount()\n\u001b[1;32m      4\u001b[0m drive\u001b[38;5;241m.\u001b[39mmount(\u001b[38;5;124m\"\u001b[39m\u001b[38;5;124mmnt\u001b[39m\u001b[38;5;124m\"\u001b[39m, force_remount\u001b[38;5;241m=\u001b[39m\u001b[38;5;28;01mTrue\u001b[39;00m)\n",
      "\u001b[0;31mModuleNotFoundError\u001b[0m: No module named 'google'"
     ]
    }
   ],
   "source": [
    "# mount your google drive to this notebook\n",
    "from google.colab import drive\n",
    "drive.flush_and_unmount()\n",
    "drive.mount(\"mnt\", force_remount=True)"
   ]
  },
  {
   "cell_type": "code",
   "execution_count": null,
   "metadata": {
    "id": "krpbr4EYFvBq"
   },
   "outputs": [],
   "source": [
    "# import the \"Copy of methods.ipynb\" from your google drive into this notebook (this will take a while -- mabye 5 minutes?)\n",
    "m = __import__(\"mnt/MyDrive/Colab Notebooks/Copy of methods\")"
   ]
  },
  {
   "cell_type": "markdown",
   "metadata": {
    "id": "nQ11gmfct4lo"
   },
   "source": [
    "# read in data and metadata\n",
    "\n",
    "The data that we will be using is [normalized](https://en.wikipedia.org/wiki/Normalization_(statistics)) RNA-seq data which was generated from retinal tissue.  The counts of genes per sample are represented in a table and have been normalized, which means they've been changed to account for differences in how the RNA-seq experiment played out.  For example, some transcripts may have been copied multiple times in the experiment (called [sequencing depth](https://www.biostars.org/p/282708/)) while others may not have been as deeply copied.  Moreover, because some genes are much longer than others, longer genes will have more transcript fragments and appear to be more highly expressed than shorter genes.  These differences will change the results of our analysis because we are looking for differences in gene expression (i.e. counts) between genes and between samples.\n",
    " Normalization is a statistical process of correcting for these differences, and there are many methods available.  The goal of normalization is to make the gene expression profiles more comparable across samples, allowing for accurate comparisons and statistical analysis."
   ]
  },
  {
   "cell_type": "code",
   "execution_count": null,
   "metadata": {
    "id": "zOZ6lCGXt7ht"
   },
   "outputs": [],
   "source": [
    "# read in the RNA-seq data from OSD-255\n",
    "data=dict()\n",
    "metadata=dict()\n",
    "data['255-normalized'] = m.read_rnaseq_data('255_rna_seq_Normalized_Counts')\n",
    "metadata['255'] = m.read_meta_data('255')"
   ]
  },
  {
   "cell_type": "code",
   "execution_count": null,
   "metadata": {
    "id": "tAHib1PETJyj"
   },
   "outputs": [],
   "source": [
    "# display the dimensions of the RNA-seq data set and the associated metadata\n",
    "print('data shape: ', data['255-normalized'].shape)\n",
    "print('metadata shape: ', metadata['255'].shape)"
   ]
  },
  {
   "cell_type": "markdown",
   "metadata": {
    "id": "i6dqhtzx6Cjh"
   },
   "source": [
    "# Use the K-means algorithm to cluster the RNA-seq data"
   ]
  },
  {
   "cell_type": "code",
   "execution_count": null,
   "metadata": {
    "id": "-05yekNgRMVn"
   },
   "outputs": [],
   "source": [
    "# create a copy of the normalized RNA-seq data from OSD-255\n",
    "df = data['255-normalized']"
   ]
  },
  {
   "cell_type": "code",
   "execution_count": null,
   "metadata": {
    "id": "LLuwnCyh0mNv"
   },
   "outputs": [],
   "source": [
    "# filter out nans and remove genes with CV < 1.5\n",
    "print('before filter: ', df.shape)\n",
    "df = m.filter_data(df, dropnans=True, dropprotein=None, droplowcvs=0)\n",
    "print('after filter: ', df.shape)"
   ]
  },
  {
   "cell_type": "code",
   "execution_count": null,
   "metadata": {
    "id": "xH6v_Y_AiTAZ"
   },
   "outputs": [],
   "source": [
    "# run the my_kmeans method with k=2\n",
    "m.my_kmeans(df, metadata, k=2)"
   ]
  },
  {
   "cell_type": "code",
   "execution_count": null,
   "metadata": {
    "id": "WLw0UiQLivEG"
   },
   "outputs": [],
   "source": [
    "m.find_k_elbow(df)"
   ]
  },
  {
   "cell_type": "code",
   "execution_count": null,
   "metadata": {
    "id": "Y09tifRTr0Wj"
   },
   "outputs": [],
   "source": [
    "# now build kmeans with k=elbow\n",
    "m.my_kmeans(df, metadata, k=3)"
   ]
  },
  {
   "cell_type": "code",
   "execution_count": null,
   "metadata": {
    "id": "GiFPLbRJvfCB"
   },
   "outputs": [],
   "source": [
    "# it seems like GSM3932697 / Retina_Flight_17 and GSM3932706 / Retina_Flight_18 are getting confused\n",
    "# try removing them and rerunning WCCS\n",
    "for sample in df.columns[1:]:\n",
    "  print(sample)\n",
    "  if sample == 'GSM3932697' or sample == 'GSM3932706':\n",
    "    df = df.drop(columns=[sample], inplace=False)\n",
    "m.my_kmeans(df, metadata, k=3)"
   ]
  },
  {
   "cell_type": "markdown",
   "metadata": {
    "id": "PLfPT1E5gY7N"
   },
   "source": [
    "It looks like the gene expression of all the ground control samples clusters uniquely into group 0.   This validates our suspicion that GSM3932697 and GSM3932706 are likely outliers, but it's difficult to tell by just looking at cluster membership. What we need is a visual way to view how the samples cluster and separate between ground control and spaceflight.  For that we turn to PCA clustering."
   ]
  },
  {
   "cell_type": "markdown",
   "metadata": {
    "id": "UfjUdNMGaoTw"
   },
   "source": [
    "**QUESTIONS**\n",
    "\n",
    "1. Using the histogram of CVs, about how many genes have a CV of 0.5 or less?  \n",
    "\n",
    "2. After removing the 2 outliers GSM3932697 and GSM3932706 and re-running k-means, there seems to be one more outlier.  Which sample is it?\n",
    "\n",
    "3. Given these results, would you say that spaceflight and ground control samples have distinct gene expression profiles?"
   ]
  },
  {
   "cell_type": "markdown",
   "metadata": {
    "id": "2iv1T5CwRsGi"
   },
   "source": [
    "**Double click here to enter your answers to the questions above.**\n",
    "\n",
    "1.\n",
    "\n",
    "2.\n",
    "\n",
    "3."
   ]
  },
  {
   "cell_type": "markdown",
   "metadata": {
    "id": "ffLp_aCH6PMS"
   },
   "source": [
    "# Use PCA to cluster and plot the RNA-seq data\n",
    "\n",
    "Let's use the PCA clustering technique so we can visualize the data in 2-dimensions to see how spaceflight and ground control samples cluster and separate."
   ]
  },
  {
   "cell_type": "code",
   "execution_count": null,
   "metadata": {
    "id": "j8Pobw-D2QJ4"
   },
   "outputs": [],
   "source": [
    "# initialize df\n",
    "df = data['255-normalized']\n"
   ]
  },
  {
   "cell_type": "code",
   "execution_count": null,
   "metadata": {
    "id": "a3x8eJTIdS-3"
   },
   "outputs": [],
   "source": [
    "# transpose the dataframe in preparation for PCA\n",
    "print('shape before transpose: ', df.shape)\n",
    "X = df.drop(columns=['Unnamed: 0']).to_numpy().T\n",
    "print('shape after transpose: ', X.shape)\n"
   ]
  },
  {
   "cell_type": "code",
   "execution_count": null,
   "metadata": {
    "id": "qJWkkrMo6RQY"
   },
   "outputs": [],
   "source": [
    "# create an array y that represents whether the sample is ground control or spaceflight\n",
    "y = m.np.array(list(metadata['255']['Factor Value[Spaceflight]']))\n",
    "target_names=m.np.array(['Ground Control', 'Space Flight'])\n",
    "\n",
    "# run PCA to reduce dimensions from 23,419 to 2!\n",
    "pca = m.PCA(n_components=2)\n",
    "X_r = pca.fit_transform(X)\n",
    "\n",
    "# Percentage of variance explained for each components\n",
    "print(\n",
    "    \"explained variance ratio (first two components): %s\"\n",
    "    % str(pca.explained_variance_ratio_)\n",
    ")\n",
    "\n",
    "# plot the pca plot\n",
    "m.plt.figure()\n",
    "colors = [\"navy\", \"turquoise\"]\n",
    "lw = 2\n",
    "for color, i, target_name in zip(colors, ['Ground Control', 'Space Flight'], target_names):\n",
    "    m.plt.scatter(X_r[y == i, 0], X_r[y == i, 1], color=color, alpha=0.8, lw=lw, label=target_name)\n",
    "m.plt.legend(loc=\"best\", shadow=False, scatterpoints=1)\n",
    "m.plt.title(\"PCA of OSD-255 dataset\")\n",
    "\n",
    "# show the last 3 digits of the sample name\n",
    "samples = list(df.columns)[1:]\n",
    "for i, txt in enumerate(samples):\n",
    "    m.plt.annotate(txt[-3:], (X_r[i][0], X_r[i][1]))\n",
    "m.plt.show()\n"
   ]
  },
  {
   "cell_type": "markdown",
   "metadata": {
    "id": "vtmWb4_N8BWf"
   },
   "source": [
    "We might choose to eliminate those outliers from both spaceflight and ground control for downstream analysis.  But we are already low on data, so removing data points is expensive.  And actually, we're not using the PCA plot for modeling the data and making predictions so there's no real concept of accuracy or performance.  Instead, we're using it to get a visual representation of the distribution of the data.  Now  we see how the ground control and space flight samples cluster together except for a few outliers."
   ]
  },
  {
   "cell_type": "markdown",
   "metadata": {
    "id": "TxHINVq7dwmW"
   },
   "source": [
    "**QUESTIONS**\n",
    "\n",
    "1. Which samples are the outlier space flight samples?\n",
    "\n",
    "2. Which samples are the outlier ground control samples?\n",
    "\n",
    "3. Do these PCA clusters corroborate what we found using K-means in terms of data separation and outliers?"
   ]
  },
  {
   "cell_type": "markdown",
   "metadata": {
    "id": "1XhxYdmNRyK0"
   },
   "source": [
    "**Double click here to enter your answers to the questions above.**\n",
    "\n",
    "1.\n",
    "\n",
    "2.\n",
    "\n",
    "3."
   ]
  },
  {
   "cell_type": "markdown",
   "metadata": {
    "id": "-Jl57xnAEj4m"
   },
   "source": [
    "# Use the DESeq2 implementation of PCA\n",
    "\n",
    "[DESeq2](https://www.bioconductor.org/packages/release/bioc/vignettes/DESeq2/inst/doc/DESeq2.html) is a software implementation that performs [differential gene expression analysis](https://en.wikipedia.org/wiki/Gene_expression_profiling) to identify which genes are differentially expressed (highly up-regulated or down-regulated) relative to other genes in the expression profile.  This tool is used to identify which genes may be responsible for a particular phenotype.  \n",
    "\n",
    "In addition to performing differential gene expression analysis, DESeq2 also has an implementation of PCA.  This section of the notebook explores using it to compare against the `pydeseq2` implementation results."
   ]
  },
  {
   "cell_type": "code",
   "execution_count": null,
   "metadata": {
    "id": "kmgGq0JVlRBz"
   },
   "outputs": [],
   "source": [
    "# read in data\n",
    "df = data['255-normalized']"
   ]
  },
  {
   "cell_type": "code",
   "execution_count": null,
   "metadata": {
    "id": "uvPhI7j6TjUx"
   },
   "outputs": [],
   "source": [
    "dfT = df.T\n",
    "dfT.columns=dfT.iloc[0]\n",
    "dfT=dfT.iloc[1:]\n",
    "dfT.columns.name=None\n",
    "dfT = dfT.reset_index().rename(columns={\"index\":\"sample\"})\n"
   ]
  },
  {
   "cell_type": "code",
   "execution_count": null,
   "metadata": {
    "id": "nk4QoV4HlJfB"
   },
   "outputs": [],
   "source": [
    "dfT.shape"
   ]
  },
  {
   "cell_type": "code",
   "execution_count": null,
   "metadata": {
    "id": "BxEIiRQeTthJ"
   },
   "outputs": [],
   "source": [
    "condition_dict=dict()\n",
    "for sample in list(dfT['sample']):\n",
    "    val=metadata['255'][metadata['255']['Sample Name']==sample]['Factor Value[Spaceflight]'].values[0]\n",
    "    if val == 'Ground Control':\n",
    "        condition_dict[sample] = 0\n",
    "    else:\n",
    "        condition_dict[sample] = 1\n",
    "dfT[\"condition\"] = dfT[\"sample\"].map(condition_dict)\n",
    "conditions=dfT[['sample', 'condition']]"
   ]
  },
  {
   "cell_type": "code",
   "execution_count": null,
   "metadata": {
    "id": "i2tq4YmrTzzu"
   },
   "outputs": [],
   "source": [
    "counts=dfT.drop(columns=['sample', 'condition']).reset_index(drop=True)\n",
    "counts.applymap(m.np.isreal)\n",
    "counts=counts.astype(int)\n"
   ]
  },
  {
   "cell_type": "code",
   "execution_count": null,
   "metadata": {
    "id": "F2Y3b60sT7Vg"
   },
   "outputs": [],
   "source": [
    "dds=m.DeseqDataSet(counts=counts, metadata=conditions, design_factors=\"condition\")\n",
    "dds.deseq2()"
   ]
  },
  {
   "cell_type": "code",
   "execution_count": null,
   "metadata": {
    "id": "YB4tKJTDUCym"
   },
   "outputs": [],
   "source": [
    "m.sc.tl.pca(dds)\n",
    "m.sc.pl.pca(dds, color='condition', size=200)"
   ]
  },
  {
   "cell_type": "markdown",
   "metadata": {
    "id": "ULEe4O4yC-Fn"
   },
   "source": [
    "**QUESTIONS**\n",
    "\n",
    "1. What is the shape of the dataframe used as input to count the gene expression?  \n",
    "\n",
    "2. How and why is this different than the shape of the original RNA-seq dataframe?\n",
    "\n",
    "3. Do the 2 PCA plots agree in their distribution in 2 dimensions?"
   ]
  },
  {
   "cell_type": "markdown",
   "metadata": {
    "id": "e_y1hzFPR1sm"
   },
   "source": [
    "**Double click here to enter your answers to the questions above.**\n",
    "\n",
    "1.\n",
    "\n",
    "2.\n",
    "\n",
    "3."
   ]
  },
  {
   "cell_type": "markdown",
   "metadata": {
    "id": "5izcCSuFu-yc"
   },
   "source": [
    "# Use Gaussian mixture model to cluster the RNA-seq data\n"
   ]
  },
  {
   "cell_type": "code",
   "execution_count": null,
   "metadata": {
    "id": "Jb8FlBAXvBzq"
   },
   "outputs": [],
   "source": [
    "# read in data\n",
    "df = data['255-normalized']"
   ]
  },
  {
   "cell_type": "code",
   "execution_count": null,
   "metadata": {
    "id": "FbhNG5GWSfvd"
   },
   "outputs": [],
   "source": [
    "# filter data\n",
    "print('shape before filter: ', df.shape)\n",
    "df = m.filter_data(df, dropnans=False, dropprotein=None, droplowcvs=1.5)\n",
    "print('shape after filter: ', df.shape)"
   ]
  },
  {
   "cell_type": "code",
   "execution_count": null,
   "metadata": {
    "id": "VRX8JGFDxCdl"
   },
   "outputs": [],
   "source": [
    "# build gmm with 3 distributions (this may take several minutes with lots of data)\n",
    "gmm = m.my_gmm(df, metadata, 3)"
   ]
  },
  {
   "cell_type": "markdown",
   "metadata": {
    "id": "4nHl22DTR2g8"
   },
   "source": [
    "**QUESTIONS**\n",
    "\n",
    "1. How many genes were dropped from the dataframe after dropping 1.5 or lower CVs?  What do you think the effect will be on the quality of the clustering after dropping so many genes from the data set?\n",
    "\n",
    "2. Does the GMM algorithm require that you specify the number of clusters up-front, or does the algorithm find the ideal number for you?\n",
    "\n",
    "3. Do the GMM cluster results resemble those of k-means?  Why or why not?"
   ]
  },
  {
   "cell_type": "markdown",
   "metadata": {
    "id": "kRIQ5L8jR3zC"
   },
   "source": [
    "**Double click here to enter your answers to the questions above.**\n",
    "\n",
    "1.\n",
    "\n",
    "2.\n",
    "\n",
    "3."
   ]
  },
  {
   "cell_type": "markdown",
   "metadata": {
    "id": "RefMlqKWmx7M"
   },
   "source": [
    "# Plot the RNA-seq gene expression data in a heatmap"
   ]
  },
  {
   "cell_type": "code",
   "execution_count": null,
   "metadata": {
    "id": "6DL84PvXoGUq"
   },
   "outputs": [],
   "source": [
    "# read in data\n",
    "df = data['255-normalized']\n",
    "\n",
    "# filter data\n",
    "print('shape before filter: ', df.shape)\n",
    "df = m.filter_data(df, dropnans=True, dropprotein='non-coding', droplowcvs=1.5)\n",
    "print('shape after filter: ', df.shape)\n",
    "\n",
    "# transpose the dataframe\n",
    "dfT = df.T\n",
    "dfT.columns=dfT.iloc[0]\n",
    "dfT=dfT.iloc[1:]\n",
    "dfT.columns.name=None\n",
    "dfT = dfT.reset_index().rename(columns={\"index\":\"sample\"})\n",
    "\n",
    "\n",
    "# assign a \"condition\" to each sample as either 1 (space flight) or 0 (ground control)\n",
    "condition_dict=dict()\n",
    "for sample in list(dfT['sample']):\n",
    "    val=metadata['255'][metadata['255']['Sample Name']==sample]['Factor Value[Spaceflight]'].values[0]\n",
    "    if val == 'Ground Control':\n",
    "        condition_dict[sample] = 0\n",
    "    else:\n",
    "        condition_dict[sample] = 1\n",
    "dfT[\"condition\"] = dfT[\"sample\"].map(condition_dict)\n",
    "conditions=dfT[['sample', 'condition']]\n",
    "\n",
    "\n",
    "# turn counts into integer values (normalized data is type float)\n",
    "counts=dfT.drop(columns=['sample', 'condition']).reset_index(drop=True)\n",
    "#counts.applymap(m.np.isreal)\n",
    "counts=counts.astype(int)\n",
    "\n",
    "# run a DESeq2 experiment that finds differential gene expression between the 2 conditions\n",
    "# note we are not doing differential gene expression analysis but need to run this to get a PCA plot\n",
    "dds=m.DeseqDataSet(counts=counts, metadata=conditions, design_factors=\"condition\")\n",
    "dds.deseq2()\n",
    "\n"
   ]
  },
  {
   "cell_type": "code",
   "execution_count": null,
   "metadata": {
    "id": "fwT3r4mcV0xj"
   },
   "outputs": [],
   "source": [
    "dds.layers['log1p'] = m.np.log1p(dds.layers['normed_counts'])"
   ]
  },
  {
   "cell_type": "code",
   "execution_count": null,
   "metadata": {
    "id": "GxW1tAcfD6E0"
   },
   "outputs": [],
   "source": [
    "grapher = m.pd.DataFrame(dds.layers['log1p'].T, index=dds.var_names, columns=list(conditions['sample']))\n",
    "grapher.head()"
   ]
  },
  {
   "cell_type": "code",
   "execution_count": null,
   "metadata": {
    "id": "Ha8LJovmXUUP"
   },
   "outputs": [],
   "source": [
    "m.sns.clustermap(grapher, z_score=0, cmap='RdYlBu_r')"
   ]
  },
  {
   "cell_type": "markdown",
   "metadata": {
    "id": "BpBftHe2SfFg"
   },
   "source": [
    "**QUESTIONS**\n",
    "\n",
    "1.  On which axis do the 16 samples appear, vertical or horizontal?  the genes?\n",
    "\n",
    "2.  Which 2 samples are least similar to sample GSM3932702?  How did you choose them?\n",
    "\n",
    "3.  Which gene and sample have the hottest expression?  The coldest?"
   ]
  },
  {
   "cell_type": "markdown",
   "metadata": {
    "id": "8l88pNUkR67g"
   },
   "source": [
    "**Double click here to enter your answers to the questions above.**\n",
    "\n",
    "1.\n",
    "\n",
    "2.\n",
    "\n",
    "3."
   ]
  }
 ],
 "metadata": {
  "colab": {
   "collapsed_sections": [
    "vQlf-NM5D61W",
    "nQ11gmfct4lo",
    "i6dqhtzx6Cjh",
    "ffLp_aCH6PMS",
    "-Jl57xnAEj4m",
    "5izcCSuFu-yc",
    "RefMlqKWmx7M"
   ],
   "provenance": [
    {
     "file_id": "1CO8zw4g6g8I2YT7Et0R0mY4cWpeMg-v3",
     "timestamp": 1712869027043
    },
    {
     "file_id": "1bUDcgWr6vSQLioLfWtMIA15xpdKYZuUN",
     "timestamp": 1706036000814
    }
   ],
   "toc_visible": true
  },
  "kernelspec": {
   "display_name": "Python 3",
   "name": "python3"
  },
  "language_info": {
   "codemirror_mode": {
    "name": "ipython",
    "version": 3
   },
   "file_extension": ".py",
   "mimetype": "text/x-python",
   "name": "python",
   "nbconvert_exporter": "python",
   "pygments_lexer": "ipython3",
   "version": "3.12.3"
  }
 },
 "nbformat": 4,
 "nbformat_minor": 0
}