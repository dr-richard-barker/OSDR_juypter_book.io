{
 "cells": [
  {
   "cell_type": "markdown",
   "metadata": {
    "id": "R3lyq8ckbCZ9"
   },
   "source": [
    "# Working with Tabular Data in Python\n",
    "\n",
    "Welcome to the \"Working with Tabular Data in Python\" notebook!\n",
    "\n",
    "In this notebook, you will learn how to use [pandas](https://pandas.pydata.org/) and [NumPy](https://numpy.org/), two Python libraries for working with data tables full of numerical data.\n",
    "\n",
    "By the end of this notebook, you'll be comfortable:\n",
    "\n",
    "* Loading data from files with pandas\n",
    "\n",
    "* Selecting and filtering specific parts of your data\n",
    "\n",
    "* Performing calculations on your data using NumPy\n",
    "\n",
    "* Resolving NaNs and outliers\n",
    "\n",
    "* Performing normalization and standardization\n",
    "\n",
    "***Before starting this notebook, make a local copy in your Google Drive by selecting File > Save a Copy in Drive.***\n",
    "\n",
    "----"
   ]
  },
  {
   "cell_type": "markdown",
   "metadata": {
    "id": "hzJ49yfkdc03"
   },
   "source": [
    "## Loading Data with Pandas\n",
    "\n",
    "Many scientific data tables are stored in the comma-separated-value format (CSV). These tables are easily read using the Python library `pandas`.\n",
    "\n",
    "* Rows and Columns: Think of the file like a big table with rows and columns. Each row represents a single entry.\n",
    "\n",
    "* Comma Separated: The values in each row are separated by commas.\n",
    "\n",
    "* Headers (Optional): The first row can act like a header, giving names to each column.\n",
    "\n",
    "Here's an example of a simple CSV file for a movie collection:\n",
    "\n",
    ">`Title,Genre,Year`\n",
    "\n",
    ">`The Shawshank Redemption,Drama,1994`\n",
    "\n",
    ">`The Godfather,Crime,1972`\n",
    "\n",
    ">`The Dark Knight,Action,2008`\n",
    "\n",
    "In this example, each row represents a movie. The first row is the header with titles for each column (\"Title\", \"Genre\", \"Year\"). The commas separate the values in each row, like \",Drama,1994\" for \"The Shawshank Redemption\".\n",
    "\n",
    "CSV files are great because they're simple and almost any computer program can understand them. This makes it easy to share and work with data between different tools.  They're like a universal language for tables!\n",
    "\n",
    "**Let's load a CSV file of scientific RNA sequencing data from the [NASA Open Science Data Repository (OSDR)](https://osdr.nasa.gov/bio/).** This data was collected from the retinas of mice that were flown on the [Rodent Research 9 (RR9)](https://www.nasa.gov/ames/space-biosciences/rodent-research-9-spacex-12/) mission to the International Space Station. As a reminder, the RR9 mission flew several NASA experiments to the International Space Station in order to assess the effects of microgravity on different biological systems.\n",
    "\n",
    "We will use the OSDR API to access the file programmatically. More information on the OSDR API can be found [here](https://genelab.nasa.gov/genelabAPIs)."
   ]
  },
  {
   "cell_type": "code",
   "execution_count": 1,
   "metadata": {
    "colab": {
     "base_uri": "https://localhost:8080/",
     "height": 226
    },
    "executionInfo": {
     "elapsed": 3852,
     "status": "ok",
     "timestamp": 1713097195431,
     "user": {
      "displayName": "Richard Barker",
      "userId": "08066349230655107502"
     },
     "user_tz": 300
    },
    "id": "_kPxKBuZdc07",
    "outputId": "bc9c962a-e10a-45d0-9272-ec3f5f3b6376"
   },
   "outputs": [
    {
     "data": {
      "text/html": [
       "<div>\n",
       "<style scoped>\n",
       "    .dataframe tbody tr th:only-of-type {\n",
       "        vertical-align: middle;\n",
       "    }\n",
       "\n",
       "    .dataframe tbody tr th {\n",
       "        vertical-align: top;\n",
       "    }\n",
       "\n",
       "    .dataframe thead th {\n",
       "        text-align: right;\n",
       "    }\n",
       "</style>\n",
       "<table border=\"1\" class=\"dataframe\">\n",
       "  <thead>\n",
       "    <tr style=\"text-align: right;\">\n",
       "      <th></th>\n",
       "      <th>GSM3932693</th>\n",
       "      <th>GSM3932694</th>\n",
       "      <th>GSM3932695</th>\n",
       "      <th>GSM3932696</th>\n",
       "      <th>GSM3932697</th>\n",
       "      <th>GSM3932698</th>\n",
       "      <th>GSM3932699</th>\n",
       "      <th>GSM3932700</th>\n",
       "      <th>GSM3932701</th>\n",
       "      <th>GSM3932702</th>\n",
       "      <th>GSM3932703</th>\n",
       "      <th>GSM3932704</th>\n",
       "      <th>GSM3932705</th>\n",
       "      <th>GSM3932706</th>\n",
       "      <th>GSM3932707</th>\n",
       "      <th>GSM3932708</th>\n",
       "    </tr>\n",
       "  </thead>\n",
       "  <tbody>\n",
       "    <tr>\n",
       "      <th>ENSMUSG00000000001</th>\n",
       "      <td>265.491507</td>\n",
       "      <td>272.529585</td>\n",
       "      <td>264.891134</td>\n",
       "      <td>245.804042</td>\n",
       "      <td>205.478969</td>\n",
       "      <td>244.866957</td>\n",
       "      <td>250.587443</td>\n",
       "      <td>232.249604</td>\n",
       "      <td>241.739792</td>\n",
       "      <td>240.866309</td>\n",
       "      <td>278.344274</td>\n",
       "      <td>266.781019</td>\n",
       "      <td>238.447580</td>\n",
       "      <td>239.632932</td>\n",
       "      <td>242.777557</td>\n",
       "      <td>257.121918</td>\n",
       "    </tr>\n",
       "    <tr>\n",
       "      <th>ENSMUSG00000000028</th>\n",
       "      <td>22.737528</td>\n",
       "      <td>36.058646</td>\n",
       "      <td>30.659868</td>\n",
       "      <td>33.307123</td>\n",
       "      <td>11.896920</td>\n",
       "      <td>27.231801</td>\n",
       "      <td>21.727401</td>\n",
       "      <td>30.940275</td>\n",
       "      <td>34.840848</td>\n",
       "      <td>36.468997</td>\n",
       "      <td>29.993641</td>\n",
       "      <td>28.377921</td>\n",
       "      <td>19.433721</td>\n",
       "      <td>18.704883</td>\n",
       "      <td>26.226110</td>\n",
       "      <td>47.521611</td>\n",
       "    </tr>\n",
       "    <tr>\n",
       "      <th>ENSMUSG00000000031</th>\n",
       "      <td>5.574720</td>\n",
       "      <td>1.925595</td>\n",
       "      <td>2.899933</td>\n",
       "      <td>21.047427</td>\n",
       "      <td>0.000000</td>\n",
       "      <td>3.063051</td>\n",
       "      <td>7.105655</td>\n",
       "      <td>6.710188</td>\n",
       "      <td>3.266199</td>\n",
       "      <td>6.700680</td>\n",
       "      <td>1.852027</td>\n",
       "      <td>1.308210</td>\n",
       "      <td>2.248341</td>\n",
       "      <td>5.816845</td>\n",
       "      <td>2.041330</td>\n",
       "      <td>1.478741</td>\n",
       "    </tr>\n",
       "    <tr>\n",
       "      <th>ENSMUSG00000000037</th>\n",
       "      <td>14.601777</td>\n",
       "      <td>17.493816</td>\n",
       "      <td>16.577920</td>\n",
       "      <td>32.447456</td>\n",
       "      <td>12.940934</td>\n",
       "      <td>13.678983</td>\n",
       "      <td>9.358027</td>\n",
       "      <td>15.476949</td>\n",
       "      <td>25.085866</td>\n",
       "      <td>13.506677</td>\n",
       "      <td>24.809501</td>\n",
       "      <td>13.731740</td>\n",
       "      <td>21.564524</td>\n",
       "      <td>17.626982</td>\n",
       "      <td>28.873796</td>\n",
       "      <td>13.556234</td>\n",
       "    </tr>\n",
       "    <tr>\n",
       "      <th>ENSMUSG00000000049</th>\n",
       "      <td>3.107115</td>\n",
       "      <td>2.176549</td>\n",
       "      <td>0.642689</td>\n",
       "      <td>4.486992</td>\n",
       "      <td>0.895108</td>\n",
       "      <td>3.846941</td>\n",
       "      <td>2.640744</td>\n",
       "      <td>0.000000</td>\n",
       "      <td>0.000000</td>\n",
       "      <td>1.243833</td>\n",
       "      <td>0.000000</td>\n",
       "      <td>0.000000</td>\n",
       "      <td>1.676701</td>\n",
       "      <td>1.345919</td>\n",
       "      <td>0.769123</td>\n",
       "      <td>0.684388</td>\n",
       "    </tr>\n",
       "  </tbody>\n",
       "</table>\n",
       "</div>"
      ],
      "text/plain": [
       "                    GSM3932693  GSM3932694  GSM3932695  GSM3932696  \\\n",
       "ENSMUSG00000000001  265.491507  272.529585  264.891134  245.804042   \n",
       "ENSMUSG00000000028   22.737528   36.058646   30.659868   33.307123   \n",
       "ENSMUSG00000000031    5.574720    1.925595    2.899933   21.047427   \n",
       "ENSMUSG00000000037   14.601777   17.493816   16.577920   32.447456   \n",
       "ENSMUSG00000000049    3.107115    2.176549    0.642689    4.486992   \n",
       "\n",
       "                    GSM3932697  GSM3932698  GSM3932699  GSM3932700  \\\n",
       "ENSMUSG00000000001  205.478969  244.866957  250.587443  232.249604   \n",
       "ENSMUSG00000000028   11.896920   27.231801   21.727401   30.940275   \n",
       "ENSMUSG00000000031    0.000000    3.063051    7.105655    6.710188   \n",
       "ENSMUSG00000000037   12.940934   13.678983    9.358027   15.476949   \n",
       "ENSMUSG00000000049    0.895108    3.846941    2.640744    0.000000   \n",
       "\n",
       "                    GSM3932701  GSM3932702  GSM3932703  GSM3932704  \\\n",
       "ENSMUSG00000000001  241.739792  240.866309  278.344274  266.781019   \n",
       "ENSMUSG00000000028   34.840848   36.468997   29.993641   28.377921   \n",
       "ENSMUSG00000000031    3.266199    6.700680    1.852027    1.308210   \n",
       "ENSMUSG00000000037   25.085866   13.506677   24.809501   13.731740   \n",
       "ENSMUSG00000000049    0.000000    1.243833    0.000000    0.000000   \n",
       "\n",
       "                    GSM3932705  GSM3932706  GSM3932707  GSM3932708  \n",
       "ENSMUSG00000000001  238.447580  239.632932  242.777557  257.121918  \n",
       "ENSMUSG00000000028   19.433721   18.704883   26.226110   47.521611  \n",
       "ENSMUSG00000000031    2.248341    5.816845    2.041330    1.478741  \n",
       "ENSMUSG00000000037   21.564524   17.626982   28.873796   13.556234  \n",
       "ENSMUSG00000000049    1.676701    1.345919    0.769123    0.684388  "
      ]
     },
     "execution_count": 1,
     "metadata": {},
     "output_type": "execute_result"
    }
   ],
   "source": [
    "import pandas as pd\n",
    "\n",
    "# Read in the RNA sequencing CSV file into a pandas DataFrame\n",
    "df = pd.read_csv('https://osdr.nasa.gov/geode-py/ws/studies/OSD-255/download?source=datamanager&file=GLDS-255_rna_seq_Normalized_Counts.csv', index_col=0)\n",
    "\n",
    "# Print the first 5 rows of the DataFrame\n",
    "df.head()"
   ]
  },
  {
   "cell_type": "markdown",
   "metadata": {
    "id": "el9H1WITdc08"
   },
   "source": [
    "The code above imports the `pandas` library and uses the `read_csv` function to read the data from the specified CSV file path. It then stores the data in a pandas DataFrame, which is a tabular data structure with labeled columns. Finally, it prints the first 5 rows of the DataFrame using the `head()` method.\n",
    "\n",
    "In this CSV file, each column represents data from a different mouse, and each row represents a gene. Each entry in the table represents the expression level of a specific gene in a certain mouse.\n"
   ]
  },
  {
   "cell_type": "markdown",
   "metadata": {
    "id": "o4N6yh1HNgHg"
   },
   "source": [
    "**CHALLENGE QUESTION:** One of the genes has zero expression in 4 samples. Which gene is it?"
   ]
  },
  {
   "cell_type": "markdown",
   "metadata": {
    "id": "1WDEshf3NqWO"
   },
   "source": [
    "**Double click here to enter your answer below.**\n",
    "\n",
    "Answer:"
   ]
  },
  {
   "cell_type": "markdown",
   "metadata": {
    "id": "bKoygmOxNjH1"
   },
   "source": [
    "\n",
    "---\n",
    "\n",
    "## Exploring a DataFrame\n",
    "\n",
    "Below, we will use a few basic methods to explore the data.\n",
    "\n",
    "First, the `info()` function generates a summary of a pandas DataFrame. This summary includes various informative aspects of the data stored in the DataFrame.\n",
    "\n",
    "* Non-null count: This shows the number of non-null (not missing) values in each column.\n",
    "* Data types of each column: It lists the data type of each column in the DataFrame (e.g., integer, float, object). In our data, float64 represents the following:  \n",
    "  * float: The column stores decimal numbers.\n",
    "  * 64: The number of bits used to store each value in the column. In this case, 64 bits provide a high degree of precision for decimal numbers."
   ]
  },
  {
   "cell_type": "code",
   "execution_count": 2,
   "metadata": {
    "colab": {
     "base_uri": "https://localhost:8080/"
    },
    "executionInfo": {
     "elapsed": 152,
     "status": "ok",
     "timestamp": 1713097200169,
     "user": {
      "displayName": "Richard Barker",
      "userId": "08066349230655107502"
     },
     "user_tz": 300
    },
    "id": "-QlSyj_Pdc08",
    "outputId": "14ca2b1e-101f-4827-a1cc-e5fd660e1f28"
   },
   "outputs": [
    {
     "name": "stdout",
     "output_type": "stream",
     "text": [
      "<class 'pandas.core.frame.DataFrame'>\n",
      "Index: 23419 entries, ENSMUSG00000000001 to ENSMUSG00002076983\n",
      "Data columns (total 16 columns):\n",
      " #   Column      Non-Null Count  Dtype  \n",
      "---  ------      --------------  -----  \n",
      " 0   GSM3932693  23419 non-null  float64\n",
      " 1   GSM3932694  23419 non-null  float64\n",
      " 2   GSM3932695  23419 non-null  float64\n",
      " 3   GSM3932696  23419 non-null  float64\n",
      " 4   GSM3932697  23419 non-null  float64\n",
      " 5   GSM3932698  23419 non-null  float64\n",
      " 6   GSM3932699  23419 non-null  float64\n",
      " 7   GSM3932700  23419 non-null  float64\n",
      " 8   GSM3932701  23419 non-null  float64\n",
      " 9   GSM3932702  23419 non-null  float64\n",
      " 10  GSM3932703  23419 non-null  float64\n",
      " 11  GSM3932704  23419 non-null  float64\n",
      " 12  GSM3932705  23419 non-null  float64\n",
      " 13  GSM3932706  23419 non-null  float64\n",
      " 14  GSM3932707  23419 non-null  float64\n",
      " 15  GSM3932708  23419 non-null  float64\n",
      "dtypes: float64(16)\n",
      "memory usage: 3.0+ MB\n"
     ]
    }
   ],
   "source": [
    "# Get information about the DataFrame\n",
    "df.info()"
   ]
  },
  {
   "cell_type": "markdown",
   "metadata": {
    "id": "FJdJSyBaayEd"
   },
   "source": [
    "**CHALLENGE QUESTION:** How many genes total are measured for each sample? (Hint: look at the \"Non-Null Count\" column.)"
   ]
  },
  {
   "cell_type": "markdown",
   "metadata": {
    "id": "s4EqFjZgOJ5s"
   },
   "source": [
    "**Double click here to enter your answer below.**\n",
    "\n",
    "Answer:"
   ]
  },
  {
   "cell_type": "markdown",
   "metadata": {
    "id": "fu6oSGcVON3O"
   },
   "source": [
    "----\n",
    "\n",
    "Next, the `df.describe()` provides a summary table of the central tendency (mean and median) and spread (standard deviation) of the numerical data in your DataFrame. This can be helpful for understanding the distribution of your data and identifying potential outliers.\n",
    "\n",
    "* Count: This shows the number of non-null (not missing) values in each column.\n",
    "* Mean: This represents the average value of the numerical data in the column.\n",
    "* Std (standard deviation): This indicates how spread out the data is from the mean value in the column. A higher standard deviation suggests more variation in the data.\n",
    "*Min (minimum): This shows the smallest value present in the column.\n",
    "*25% (first quartile): This represents the value where 25% of the data falls below it and 75% falls above it in the column (essentially the median of the lower half of the data).\n",
    "* 50% (median): This is the middle value of the data when the column is sorted numerically. It represents the value that separates the lower and upper halves of the data.\n",
    "*75% (third quartile): This represents the value where 75% of the data falls below it and 25% falls above it in the column (essentially the median of the upper half of the data).\n",
    "*Max (maximum): This shows the largest value present in the column.\n",
    "\n"
   ]
  },
  {
   "cell_type": "code",
   "execution_count": 3,
   "metadata": {
    "colab": {
     "base_uri": "https://localhost:8080/",
     "height": 320
    },
    "executionInfo": {
     "elapsed": 512,
     "status": "ok",
     "timestamp": 1713097206699,
     "user": {
      "displayName": "Richard Barker",
      "userId": "08066349230655107502"
     },
     "user_tz": 300
    },
    "id": "E3ZTsSkIWWqs",
    "outputId": "91f9edea-d0bd-4522-c815-6de963ec161b"
   },
   "outputs": [
    {
     "data": {
      "text/html": [
       "<div>\n",
       "<style scoped>\n",
       "    .dataframe tbody tr th:only-of-type {\n",
       "        vertical-align: middle;\n",
       "    }\n",
       "\n",
       "    .dataframe tbody tr th {\n",
       "        vertical-align: top;\n",
       "    }\n",
       "\n",
       "    .dataframe thead th {\n",
       "        text-align: right;\n",
       "    }\n",
       "</style>\n",
       "<table border=\"1\" class=\"dataframe\">\n",
       "  <thead>\n",
       "    <tr style=\"text-align: right;\">\n",
       "      <th></th>\n",
       "      <th>GSM3932693</th>\n",
       "      <th>GSM3932694</th>\n",
       "      <th>GSM3932695</th>\n",
       "      <th>GSM3932696</th>\n",
       "      <th>GSM3932697</th>\n",
       "      <th>GSM3932698</th>\n",
       "      <th>GSM3932699</th>\n",
       "      <th>GSM3932700</th>\n",
       "      <th>GSM3932701</th>\n",
       "      <th>GSM3932702</th>\n",
       "      <th>GSM3932703</th>\n",
       "      <th>GSM3932704</th>\n",
       "      <th>GSM3932705</th>\n",
       "      <th>GSM3932706</th>\n",
       "      <th>GSM3932707</th>\n",
       "      <th>GSM3932708</th>\n",
       "    </tr>\n",
       "  </thead>\n",
       "  <tbody>\n",
       "    <tr>\n",
       "      <th>count</th>\n",
       "      <td>23419.000000</td>\n",
       "      <td>23419.000000</td>\n",
       "      <td>23419.000000</td>\n",
       "      <td>23419.000000</td>\n",
       "      <td>23419.000000</td>\n",
       "      <td>23419.000000</td>\n",
       "      <td>23419.000000</td>\n",
       "      <td>23419.000000</td>\n",
       "      <td>23419.000000</td>\n",
       "      <td>23419.000000</td>\n",
       "      <td>23419.000000</td>\n",
       "      <td>23419.000000</td>\n",
       "      <td>23419.000000</td>\n",
       "      <td>23419.000000</td>\n",
       "      <td>23419.000000</td>\n",
       "      <td>23419.000000</td>\n",
       "    </tr>\n",
       "    <tr>\n",
       "      <th>mean</th>\n",
       "      <td>512.726276</td>\n",
       "      <td>513.605503</td>\n",
       "      <td>512.227744</td>\n",
       "      <td>505.151464</td>\n",
       "      <td>511.341816</td>\n",
       "      <td>505.354348</td>\n",
       "      <td>515.216720</td>\n",
       "      <td>507.159108</td>\n",
       "      <td>502.935334</td>\n",
       "      <td>501.027174</td>\n",
       "      <td>504.417485</td>\n",
       "      <td>495.792299</td>\n",
       "      <td>515.620253</td>\n",
       "      <td>511.034582</td>\n",
       "      <td>495.971955</td>\n",
       "      <td>530.097184</td>\n",
       "    </tr>\n",
       "    <tr>\n",
       "      <th>std</th>\n",
       "      <td>6645.738077</td>\n",
       "      <td>6359.846063</td>\n",
       "      <td>6565.152404</td>\n",
       "      <td>6533.558532</td>\n",
       "      <td>5833.765758</td>\n",
       "      <td>6621.133118</td>\n",
       "      <td>6845.784958</td>\n",
       "      <td>7015.375606</td>\n",
       "      <td>6036.836634</td>\n",
       "      <td>5639.879241</td>\n",
       "      <td>6000.294802</td>\n",
       "      <td>5830.642219</td>\n",
       "      <td>8202.647284</td>\n",
       "      <td>6538.832473</td>\n",
       "      <td>5708.932273</td>\n",
       "      <td>6721.335537</td>\n",
       "    </tr>\n",
       "    <tr>\n",
       "      <th>min</th>\n",
       "      <td>0.000000</td>\n",
       "      <td>0.000000</td>\n",
       "      <td>0.000000</td>\n",
       "      <td>0.000000</td>\n",
       "      <td>0.000000</td>\n",
       "      <td>0.000000</td>\n",
       "      <td>0.000000</td>\n",
       "      <td>0.000000</td>\n",
       "      <td>0.000000</td>\n",
       "      <td>0.000000</td>\n",
       "      <td>0.000000</td>\n",
       "      <td>0.000000</td>\n",
       "      <td>0.000000</td>\n",
       "      <td>0.000000</td>\n",
       "      <td>0.000000</td>\n",
       "      <td>0.000000</td>\n",
       "    </tr>\n",
       "    <tr>\n",
       "      <th>25%</th>\n",
       "      <td>4.699563</td>\n",
       "      <td>5.048580</td>\n",
       "      <td>4.192133</td>\n",
       "      <td>5.254688</td>\n",
       "      <td>4.670302</td>\n",
       "      <td>5.017633</td>\n",
       "      <td>4.305536</td>\n",
       "      <td>5.055508</td>\n",
       "      <td>4.994721</td>\n",
       "      <td>5.645321</td>\n",
       "      <td>4.748178</td>\n",
       "      <td>5.530256</td>\n",
       "      <td>5.345533</td>\n",
       "      <td>4.388863</td>\n",
       "      <td>5.016007</td>\n",
       "      <td>4.463735</td>\n",
       "    </tr>\n",
       "    <tr>\n",
       "      <th>50%</th>\n",
       "      <td>53.360684</td>\n",
       "      <td>60.744720</td>\n",
       "      <td>54.518688</td>\n",
       "      <td>60.475645</td>\n",
       "      <td>54.192978</td>\n",
       "      <td>55.422527</td>\n",
       "      <td>53.481923</td>\n",
       "      <td>58.573261</td>\n",
       "      <td>54.943407</td>\n",
       "      <td>61.707703</td>\n",
       "      <td>56.087749</td>\n",
       "      <td>56.810383</td>\n",
       "      <td>58.344083</td>\n",
       "      <td>55.151272</td>\n",
       "      <td>56.179740</td>\n",
       "      <td>55.408958</td>\n",
       "    </tr>\n",
       "    <tr>\n",
       "      <th>75%</th>\n",
       "      <td>330.955645</td>\n",
       "      <td>339.404120</td>\n",
       "      <td>332.633804</td>\n",
       "      <td>336.375425</td>\n",
       "      <td>330.729391</td>\n",
       "      <td>328.699611</td>\n",
       "      <td>333.251764</td>\n",
       "      <td>333.817185</td>\n",
       "      <td>331.048019</td>\n",
       "      <td>330.250317</td>\n",
       "      <td>331.580264</td>\n",
       "      <td>332.084725</td>\n",
       "      <td>327.340564</td>\n",
       "      <td>334.698276</td>\n",
       "      <td>330.558455</td>\n",
       "      <td>334.807313</td>\n",
       "    </tr>\n",
       "    <tr>\n",
       "      <th>max</th>\n",
       "      <td>635249.906785</td>\n",
       "      <td>599072.886767</td>\n",
       "      <td>608190.964522</td>\n",
       "      <td>617755.182030</td>\n",
       "      <td>524055.405690</td>\n",
       "      <td>635418.576947</td>\n",
       "      <td>654920.576524</td>\n",
       "      <td>680114.742215</td>\n",
       "      <td>538243.870338</td>\n",
       "      <td>499022.116456</td>\n",
       "      <td>545447.299604</td>\n",
       "      <td>526328.573490</td>\n",
       "      <td>817690.021357</td>\n",
       "      <td>609601.293711</td>\n",
       "      <td>503250.238443</td>\n",
       "      <td>580769.929410</td>\n",
       "    </tr>\n",
       "  </tbody>\n",
       "</table>\n",
       "</div>"
      ],
      "text/plain": [
       "          GSM3932693     GSM3932694     GSM3932695     GSM3932696  \\\n",
       "count   23419.000000   23419.000000   23419.000000   23419.000000   \n",
       "mean      512.726276     513.605503     512.227744     505.151464   \n",
       "std      6645.738077    6359.846063    6565.152404    6533.558532   \n",
       "min         0.000000       0.000000       0.000000       0.000000   \n",
       "25%         4.699563       5.048580       4.192133       5.254688   \n",
       "50%        53.360684      60.744720      54.518688      60.475645   \n",
       "75%       330.955645     339.404120     332.633804     336.375425   \n",
       "max    635249.906785  599072.886767  608190.964522  617755.182030   \n",
       "\n",
       "          GSM3932697     GSM3932698     GSM3932699     GSM3932700  \\\n",
       "count   23419.000000   23419.000000   23419.000000   23419.000000   \n",
       "mean      511.341816     505.354348     515.216720     507.159108   \n",
       "std      5833.765758    6621.133118    6845.784958    7015.375606   \n",
       "min         0.000000       0.000000       0.000000       0.000000   \n",
       "25%         4.670302       5.017633       4.305536       5.055508   \n",
       "50%        54.192978      55.422527      53.481923      58.573261   \n",
       "75%       330.729391     328.699611     333.251764     333.817185   \n",
       "max    524055.405690  635418.576947  654920.576524  680114.742215   \n",
       "\n",
       "          GSM3932701     GSM3932702     GSM3932703     GSM3932704  \\\n",
       "count   23419.000000   23419.000000   23419.000000   23419.000000   \n",
       "mean      502.935334     501.027174     504.417485     495.792299   \n",
       "std      6036.836634    5639.879241    6000.294802    5830.642219   \n",
       "min         0.000000       0.000000       0.000000       0.000000   \n",
       "25%         4.994721       5.645321       4.748178       5.530256   \n",
       "50%        54.943407      61.707703      56.087749      56.810383   \n",
       "75%       331.048019     330.250317     331.580264     332.084725   \n",
       "max    538243.870338  499022.116456  545447.299604  526328.573490   \n",
       "\n",
       "          GSM3932705     GSM3932706     GSM3932707     GSM3932708  \n",
       "count   23419.000000   23419.000000   23419.000000   23419.000000  \n",
       "mean      515.620253     511.034582     495.971955     530.097184  \n",
       "std      8202.647284    6538.832473    5708.932273    6721.335537  \n",
       "min         0.000000       0.000000       0.000000       0.000000  \n",
       "25%         5.345533       4.388863       5.016007       4.463735  \n",
       "50%        58.344083      55.151272      56.179740      55.408958  \n",
       "75%       327.340564     334.698276     330.558455     334.807313  \n",
       "max    817690.021357  609601.293711  503250.238443  580769.929410  "
      ]
     },
     "execution_count": 3,
     "metadata": {},
     "output_type": "execute_result"
    }
   ],
   "source": [
    "# Show some summary statistics of the numerical columns\n",
    "df.describe()"
   ]
  },
  {
   "cell_type": "markdown",
   "metadata": {
    "id": "EpbxH0BrOhot"
   },
   "source": [
    "Next, we can select specific columns to examine them more closely. In the code below, we use the square bracket notation: `df[[\"GSM3932693\", \"GSM3932694\"]]` to select specific columns from the DataFrame df. We provide a list of column names enclosed in square brackets []."
   ]
  },
  {
   "cell_type": "code",
   "execution_count": 4,
   "metadata": {
    "colab": {
     "base_uri": "https://localhost:8080/",
     "height": 423
    },
    "executionInfo": {
     "elapsed": 166,
     "status": "ok",
     "timestamp": 1713097210319,
     "user": {
      "displayName": "Richard Barker",
      "userId": "08066349230655107502"
     },
     "user_tz": 300
    },
    "id": "4n9VXTg3Wcd1",
    "outputId": "2f3f701d-58dd-47f4-ce11-46551525984a"
   },
   "outputs": [
    {
     "data": {
      "text/html": [
       "<div>\n",
       "<style scoped>\n",
       "    .dataframe tbody tr th:only-of-type {\n",
       "        vertical-align: middle;\n",
       "    }\n",
       "\n",
       "    .dataframe tbody tr th {\n",
       "        vertical-align: top;\n",
       "    }\n",
       "\n",
       "    .dataframe thead th {\n",
       "        text-align: right;\n",
       "    }\n",
       "</style>\n",
       "<table border=\"1\" class=\"dataframe\">\n",
       "  <thead>\n",
       "    <tr style=\"text-align: right;\">\n",
       "      <th></th>\n",
       "      <th>GSM3932693</th>\n",
       "      <th>GSM3932694</th>\n",
       "    </tr>\n",
       "  </thead>\n",
       "  <tbody>\n",
       "    <tr>\n",
       "      <th>ENSMUSG00000000001</th>\n",
       "      <td>265.491507</td>\n",
       "      <td>272.529585</td>\n",
       "    </tr>\n",
       "    <tr>\n",
       "      <th>ENSMUSG00000000028</th>\n",
       "      <td>22.737528</td>\n",
       "      <td>36.058646</td>\n",
       "    </tr>\n",
       "    <tr>\n",
       "      <th>ENSMUSG00000000031</th>\n",
       "      <td>5.574720</td>\n",
       "      <td>1.925595</td>\n",
       "    </tr>\n",
       "    <tr>\n",
       "      <th>ENSMUSG00000000037</th>\n",
       "      <td>14.601777</td>\n",
       "      <td>17.493816</td>\n",
       "    </tr>\n",
       "    <tr>\n",
       "      <th>ENSMUSG00000000049</th>\n",
       "      <td>3.107115</td>\n",
       "      <td>2.176549</td>\n",
       "    </tr>\n",
       "    <tr>\n",
       "      <th>...</th>\n",
       "      <td>...</td>\n",
       "      <td>...</td>\n",
       "    </tr>\n",
       "    <tr>\n",
       "      <th>ENSMUSG00002076937</th>\n",
       "      <td>1.183749</td>\n",
       "      <td>0.947785</td>\n",
       "    </tr>\n",
       "    <tr>\n",
       "      <th>ENSMUSG00002076945</th>\n",
       "      <td>0.000000</td>\n",
       "      <td>0.000000</td>\n",
       "    </tr>\n",
       "    <tr>\n",
       "      <th>ENSMUSG00002076971</th>\n",
       "      <td>0.000000</td>\n",
       "      <td>0.000000</td>\n",
       "    </tr>\n",
       "    <tr>\n",
       "      <th>ENSMUSG00002076982</th>\n",
       "      <td>0.000000</td>\n",
       "      <td>2.851473</td>\n",
       "    </tr>\n",
       "    <tr>\n",
       "      <th>ENSMUSG00002076983</th>\n",
       "      <td>0.000000</td>\n",
       "      <td>1.892959</td>\n",
       "    </tr>\n",
       "  </tbody>\n",
       "</table>\n",
       "<p>23419 rows × 2 columns</p>\n",
       "</div>"
      ],
      "text/plain": [
       "                    GSM3932693  GSM3932694\n",
       "ENSMUSG00000000001  265.491507  272.529585\n",
       "ENSMUSG00000000028   22.737528   36.058646\n",
       "ENSMUSG00000000031    5.574720    1.925595\n",
       "ENSMUSG00000000037   14.601777   17.493816\n",
       "ENSMUSG00000000049    3.107115    2.176549\n",
       "...                        ...         ...\n",
       "ENSMUSG00002076937    1.183749    0.947785\n",
       "ENSMUSG00002076945    0.000000    0.000000\n",
       "ENSMUSG00002076971    0.000000    0.000000\n",
       "ENSMUSG00002076982    0.000000    2.851473\n",
       "ENSMUSG00002076983    0.000000    1.892959\n",
       "\n",
       "[23419 rows x 2 columns]"
      ]
     },
     "execution_count": 4,
     "metadata": {},
     "output_type": "execute_result"
    }
   ],
   "source": [
    "# Select specific columns\n",
    "selected_columns = df[[\"GSM3932693\", \"GSM3932694\"]]\n",
    "selected_columns"
   ]
  },
  {
   "cell_type": "markdown",
   "metadata": {
    "id": "SAE4xTBwb-OY"
   },
   "source": [
    "Finally, we can filter our data based on certain conditions. The code below generates a new DataFrame, that contains only rows from the original DataFrame df that meet a specific condition (gene expression in a gene for sample \"GSM3932693\" has to be greater than 10)."
   ]
  },
  {
   "cell_type": "code",
   "execution_count": 5,
   "metadata": {
    "colab": {
     "base_uri": "https://localhost:8080/",
     "height": 443
    },
    "executionInfo": {
     "elapsed": 380,
     "status": "ok",
     "timestamp": 1713097213921,
     "user": {
      "displayName": "Richard Barker",
      "userId": "08066349230655107502"
     },
     "user_tz": 300
    },
    "id": "jypESLnNWfJR",
    "outputId": "e94c9971-5734-438a-8634-5ea1bcd66b01"
   },
   "outputs": [
    {
     "data": {
      "text/html": [
       "<div>\n",
       "<style scoped>\n",
       "    .dataframe tbody tr th:only-of-type {\n",
       "        vertical-align: middle;\n",
       "    }\n",
       "\n",
       "    .dataframe tbody tr th {\n",
       "        vertical-align: top;\n",
       "    }\n",
       "\n",
       "    .dataframe thead th {\n",
       "        text-align: right;\n",
       "    }\n",
       "</style>\n",
       "<table border=\"1\" class=\"dataframe\">\n",
       "  <thead>\n",
       "    <tr style=\"text-align: right;\">\n",
       "      <th></th>\n",
       "      <th>GSM3932693</th>\n",
       "      <th>GSM3932694</th>\n",
       "      <th>GSM3932695</th>\n",
       "      <th>GSM3932696</th>\n",
       "      <th>GSM3932697</th>\n",
       "      <th>GSM3932698</th>\n",
       "      <th>GSM3932699</th>\n",
       "      <th>GSM3932700</th>\n",
       "      <th>GSM3932701</th>\n",
       "      <th>GSM3932702</th>\n",
       "      <th>GSM3932703</th>\n",
       "      <th>GSM3932704</th>\n",
       "      <th>GSM3932705</th>\n",
       "      <th>GSM3932706</th>\n",
       "      <th>GSM3932707</th>\n",
       "      <th>GSM3932708</th>\n",
       "    </tr>\n",
       "  </thead>\n",
       "  <tbody>\n",
       "    <tr>\n",
       "      <th>ENSMUSG00000000001</th>\n",
       "      <td>265.491507</td>\n",
       "      <td>272.529585</td>\n",
       "      <td>264.891134</td>\n",
       "      <td>245.804042</td>\n",
       "      <td>205.478969</td>\n",
       "      <td>244.866957</td>\n",
       "      <td>250.587443</td>\n",
       "      <td>232.249604</td>\n",
       "      <td>241.739792</td>\n",
       "      <td>240.866309</td>\n",
       "      <td>278.344274</td>\n",
       "      <td>266.781019</td>\n",
       "      <td>238.447580</td>\n",
       "      <td>239.632932</td>\n",
       "      <td>242.777557</td>\n",
       "      <td>257.121918</td>\n",
       "    </tr>\n",
       "    <tr>\n",
       "      <th>ENSMUSG00000000028</th>\n",
       "      <td>22.737528</td>\n",
       "      <td>36.058646</td>\n",
       "      <td>30.659868</td>\n",
       "      <td>33.307123</td>\n",
       "      <td>11.896920</td>\n",
       "      <td>27.231801</td>\n",
       "      <td>21.727401</td>\n",
       "      <td>30.940275</td>\n",
       "      <td>34.840848</td>\n",
       "      <td>36.468997</td>\n",
       "      <td>29.993641</td>\n",
       "      <td>28.377921</td>\n",
       "      <td>19.433721</td>\n",
       "      <td>18.704883</td>\n",
       "      <td>26.226110</td>\n",
       "      <td>47.521611</td>\n",
       "    </tr>\n",
       "    <tr>\n",
       "      <th>ENSMUSG00000000037</th>\n",
       "      <td>14.601777</td>\n",
       "      <td>17.493816</td>\n",
       "      <td>16.577920</td>\n",
       "      <td>32.447456</td>\n",
       "      <td>12.940934</td>\n",
       "      <td>13.678983</td>\n",
       "      <td>9.358027</td>\n",
       "      <td>15.476949</td>\n",
       "      <td>25.085866</td>\n",
       "      <td>13.506677</td>\n",
       "      <td>24.809501</td>\n",
       "      <td>13.731740</td>\n",
       "      <td>21.564524</td>\n",
       "      <td>17.626982</td>\n",
       "      <td>28.873796</td>\n",
       "      <td>13.556234</td>\n",
       "    </tr>\n",
       "    <tr>\n",
       "      <th>ENSMUSG00000000056</th>\n",
       "      <td>515.459595</td>\n",
       "      <td>592.436448</td>\n",
       "      <td>615.456516</td>\n",
       "      <td>686.300687</td>\n",
       "      <td>660.315482</td>\n",
       "      <td>606.704710</td>\n",
       "      <td>546.473555</td>\n",
       "      <td>545.417477</td>\n",
       "      <td>571.442378</td>\n",
       "      <td>566.765332</td>\n",
       "      <td>604.474471</td>\n",
       "      <td>689.032279</td>\n",
       "      <td>646.185864</td>\n",
       "      <td>580.118632</td>\n",
       "      <td>579.057616</td>\n",
       "      <td>653.648743</td>\n",
       "    </tr>\n",
       "    <tr>\n",
       "      <th>ENSMUSG00000000058</th>\n",
       "      <td>272.539645</td>\n",
       "      <td>246.737055</td>\n",
       "      <td>301.406847</td>\n",
       "      <td>286.700927</td>\n",
       "      <td>250.318530</td>\n",
       "      <td>255.510322</td>\n",
       "      <td>294.820270</td>\n",
       "      <td>252.343288</td>\n",
       "      <td>280.848313</td>\n",
       "      <td>250.123066</td>\n",
       "      <td>269.050949</td>\n",
       "      <td>284.018558</td>\n",
       "      <td>346.487825</td>\n",
       "      <td>314.049490</td>\n",
       "      <td>297.723163</td>\n",
       "      <td>269.504851</td>\n",
       "    </tr>\n",
       "    <tr>\n",
       "      <th>...</th>\n",
       "      <td>...</td>\n",
       "      <td>...</td>\n",
       "      <td>...</td>\n",
       "      <td>...</td>\n",
       "      <td>...</td>\n",
       "      <td>...</td>\n",
       "      <td>...</td>\n",
       "      <td>...</td>\n",
       "      <td>...</td>\n",
       "      <td>...</td>\n",
       "      <td>...</td>\n",
       "      <td>...</td>\n",
       "      <td>...</td>\n",
       "      <td>...</td>\n",
       "      <td>...</td>\n",
       "      <td>...</td>\n",
       "    </tr>\n",
       "    <tr>\n",
       "      <th>ENSMUSG00002076377</th>\n",
       "      <td>16.773675</td>\n",
       "      <td>38.955269</td>\n",
       "      <td>24.366373</td>\n",
       "      <td>14.640131</td>\n",
       "      <td>17.553290</td>\n",
       "      <td>6.004350</td>\n",
       "      <td>2.571689</td>\n",
       "      <td>16.077483</td>\n",
       "      <td>17.184144</td>\n",
       "      <td>23.395687</td>\n",
       "      <td>0.000000</td>\n",
       "      <td>12.142413</td>\n",
       "      <td>5.041779</td>\n",
       "      <td>9.628330</td>\n",
       "      <td>9.995297</td>\n",
       "      <td>11.388137</td>\n",
       "    </tr>\n",
       "    <tr>\n",
       "      <th>ENSMUSG00002076556</th>\n",
       "      <td>11.765878</td>\n",
       "      <td>12.305713</td>\n",
       "      <td>14.253173</td>\n",
       "      <td>0.000000</td>\n",
       "      <td>3.503146</td>\n",
       "      <td>23.076542</td>\n",
       "      <td>8.608132</td>\n",
       "      <td>10.347916</td>\n",
       "      <td>11.998477</td>\n",
       "      <td>3.761913</td>\n",
       "      <td>0.000000</td>\n",
       "      <td>22.134535</td>\n",
       "      <td>7.606223</td>\n",
       "      <td>0.000000</td>\n",
       "      <td>2.005837</td>\n",
       "      <td>0.000000</td>\n",
       "    </tr>\n",
       "    <tr>\n",
       "      <th>ENSMUSG00002076601</th>\n",
       "      <td>129.377953</td>\n",
       "      <td>131.566572</td>\n",
       "      <td>163.485172</td>\n",
       "      <td>174.605838</td>\n",
       "      <td>131.946104</td>\n",
       "      <td>108.365002</td>\n",
       "      <td>123.967427</td>\n",
       "      <td>134.508533</td>\n",
       "      <td>217.924827</td>\n",
       "      <td>109.106290</td>\n",
       "      <td>160.976576</td>\n",
       "      <td>182.619336</td>\n",
       "      <td>129.320649</td>\n",
       "      <td>138.664686</td>\n",
       "      <td>141.421076</td>\n",
       "      <td>521.661986</td>\n",
       "    </tr>\n",
       "    <tr>\n",
       "      <th>ENSMUSG00002076766</th>\n",
       "      <td>21.143821</td>\n",
       "      <td>23.656727</td>\n",
       "      <td>20.118139</td>\n",
       "      <td>23.409853</td>\n",
       "      <td>22.182196</td>\n",
       "      <td>21.074832</td>\n",
       "      <td>33.584441</td>\n",
       "      <td>15.984450</td>\n",
       "      <td>18.978746</td>\n",
       "      <td>23.522565</td>\n",
       "      <td>33.535375</td>\n",
       "      <td>29.888637</td>\n",
       "      <td>19.025509</td>\n",
       "      <td>34.233628</td>\n",
       "      <td>25.080663</td>\n",
       "      <td>34.821041</td>\n",
       "    </tr>\n",
       "    <tr>\n",
       "      <th>ENSMUSG00002076896</th>\n",
       "      <td>326.155928</td>\n",
       "      <td>309.583659</td>\n",
       "      <td>347.976084</td>\n",
       "      <td>367.758448</td>\n",
       "      <td>357.352723</td>\n",
       "      <td>299.963333</td>\n",
       "      <td>299.511919</td>\n",
       "      <td>276.632141</td>\n",
       "      <td>351.112194</td>\n",
       "      <td>266.101332</td>\n",
       "      <td>368.917887</td>\n",
       "      <td>419.405110</td>\n",
       "      <td>434.720064</td>\n",
       "      <td>340.464789</td>\n",
       "      <td>346.961953</td>\n",
       "      <td>357.200181</td>\n",
       "    </tr>\n",
       "  </tbody>\n",
       "</table>\n",
       "<p>15640 rows × 16 columns</p>\n",
       "</div>"
      ],
      "text/plain": [
       "                    GSM3932693  GSM3932694  GSM3932695  GSM3932696  \\\n",
       "ENSMUSG00000000001  265.491507  272.529585  264.891134  245.804042   \n",
       "ENSMUSG00000000028   22.737528   36.058646   30.659868   33.307123   \n",
       "ENSMUSG00000000037   14.601777   17.493816   16.577920   32.447456   \n",
       "ENSMUSG00000000056  515.459595  592.436448  615.456516  686.300687   \n",
       "ENSMUSG00000000058  272.539645  246.737055  301.406847  286.700927   \n",
       "...                        ...         ...         ...         ...   \n",
       "ENSMUSG00002076377   16.773675   38.955269   24.366373   14.640131   \n",
       "ENSMUSG00002076556   11.765878   12.305713   14.253173    0.000000   \n",
       "ENSMUSG00002076601  129.377953  131.566572  163.485172  174.605838   \n",
       "ENSMUSG00002076766   21.143821   23.656727   20.118139   23.409853   \n",
       "ENSMUSG00002076896  326.155928  309.583659  347.976084  367.758448   \n",
       "\n",
       "                    GSM3932697  GSM3932698  GSM3932699  GSM3932700  \\\n",
       "ENSMUSG00000000001  205.478969  244.866957  250.587443  232.249604   \n",
       "ENSMUSG00000000028   11.896920   27.231801   21.727401   30.940275   \n",
       "ENSMUSG00000000037   12.940934   13.678983    9.358027   15.476949   \n",
       "ENSMUSG00000000056  660.315482  606.704710  546.473555  545.417477   \n",
       "ENSMUSG00000000058  250.318530  255.510322  294.820270  252.343288   \n",
       "...                        ...         ...         ...         ...   \n",
       "ENSMUSG00002076377   17.553290    6.004350    2.571689   16.077483   \n",
       "ENSMUSG00002076556    3.503146   23.076542    8.608132   10.347916   \n",
       "ENSMUSG00002076601  131.946104  108.365002  123.967427  134.508533   \n",
       "ENSMUSG00002076766   22.182196   21.074832   33.584441   15.984450   \n",
       "ENSMUSG00002076896  357.352723  299.963333  299.511919  276.632141   \n",
       "\n",
       "                    GSM3932701  GSM3932702  GSM3932703  GSM3932704  \\\n",
       "ENSMUSG00000000001  241.739792  240.866309  278.344274  266.781019   \n",
       "ENSMUSG00000000028   34.840848   36.468997   29.993641   28.377921   \n",
       "ENSMUSG00000000037   25.085866   13.506677   24.809501   13.731740   \n",
       "ENSMUSG00000000056  571.442378  566.765332  604.474471  689.032279   \n",
       "ENSMUSG00000000058  280.848313  250.123066  269.050949  284.018558   \n",
       "...                        ...         ...         ...         ...   \n",
       "ENSMUSG00002076377   17.184144   23.395687    0.000000   12.142413   \n",
       "ENSMUSG00002076556   11.998477    3.761913    0.000000   22.134535   \n",
       "ENSMUSG00002076601  217.924827  109.106290  160.976576  182.619336   \n",
       "ENSMUSG00002076766   18.978746   23.522565   33.535375   29.888637   \n",
       "ENSMUSG00002076896  351.112194  266.101332  368.917887  419.405110   \n",
       "\n",
       "                    GSM3932705  GSM3932706  GSM3932707  GSM3932708  \n",
       "ENSMUSG00000000001  238.447580  239.632932  242.777557  257.121918  \n",
       "ENSMUSG00000000028   19.433721   18.704883   26.226110   47.521611  \n",
       "ENSMUSG00000000037   21.564524   17.626982   28.873796   13.556234  \n",
       "ENSMUSG00000000056  646.185864  580.118632  579.057616  653.648743  \n",
       "ENSMUSG00000000058  346.487825  314.049490  297.723163  269.504851  \n",
       "...                        ...         ...         ...         ...  \n",
       "ENSMUSG00002076377    5.041779    9.628330    9.995297   11.388137  \n",
       "ENSMUSG00002076556    7.606223    0.000000    2.005837    0.000000  \n",
       "ENSMUSG00002076601  129.320649  138.664686  141.421076  521.661986  \n",
       "ENSMUSG00002076766   19.025509   34.233628   25.080663   34.821041  \n",
       "ENSMUSG00002076896  434.720064  340.464789  346.961953  357.200181  \n",
       "\n",
       "[15640 rows x 16 columns]"
      ]
     },
     "execution_count": 5,
     "metadata": {},
     "output_type": "execute_result"
    }
   ],
   "source": [
    "# Filter rows based on conditions\n",
    "filtered_df = df[df[\"GSM3932693\"] > 10]\n",
    "filtered_df"
   ]
  },
  {
   "cell_type": "markdown",
   "metadata": {
    "id": "p-ysNkmrO15N"
   },
   "source": [
    "**CHALLENGE QUESTION:** How many genes are left in the filtered DataFrame? (Hint: look at the dimensions reported below the table.)"
   ]
  },
  {
   "cell_type": "markdown",
   "metadata": {
    "id": "30HCSpyoO15N"
   },
   "source": [
    "**Double click here to enter your answer below.**\n",
    "\n",
    "Answer:"
   ]
  },
  {
   "cell_type": "markdown",
   "metadata": {
    "id": "h4nMF6v1cVp6"
   },
   "source": [
    "---\n",
    "\n",
    "## Numerical Operations in NumPy\n",
    "\n",
    "Now, we will use the NumPy library to demonstrate a few useful numerical operations that can be performed on a DataFrame.\n",
    "\n",
    "First, we can caltulate the mean (average) expression level for each gene across all samples. In the code below, we use the NumPy function `.mean()` to calculate the mean of each gene (`axis=1` refers to rows)."
   ]
  },
  {
   "cell_type": "code",
   "execution_count": 6,
   "metadata": {
    "colab": {
     "base_uri": "https://localhost:8080/"
    },
    "executionInfo": {
     "elapsed": 156,
     "status": "ok",
     "timestamp": 1713097217624,
     "user": {
      "displayName": "Richard Barker",
      "userId": "08066349230655107502"
     },
     "user_tz": 300
    },
    "id": "l7Qv8JShdc09",
    "outputId": "a1dfd821-4564-4178-df07-7de9a3c5f6a0"
   },
   "outputs": [
    {
     "data": {
      "text/plain": [
       "('Mean Expression:',\n",
       " ENSMUSG00000000001    249.225664\n",
       " ENSMUSG00000000028     28.507956\n",
       " ENSMUSG00000000031      4.564934\n",
       " ENSMUSG00000000037     18.208199\n",
       " ENSMUSG00000000049      1.469756\n",
       " ENSMUSG00000000056    603.705612\n",
       " ENSMUSG00000000058    279.511444\n",
       " ENSMUSG00000000078    316.335795\n",
       " ENSMUSG00000000085    625.826657\n",
       " ENSMUSG00000000088    895.618176\n",
       " dtype: float64)"
      ]
     },
     "execution_count": 6,
     "metadata": {},
     "output_type": "execute_result"
    }
   ],
   "source": [
    "import numpy as np\n",
    "\n",
    "# Calculate mean expression for each gene (print the first 10 genes)\n",
    "mean_expression = np.mean(df, axis=1)\n",
    "\"Mean Expression:\", mean_expression[0:10]"
   ]
  },
  {
   "cell_type": "markdown",
   "metadata": {
    "id": "JeJshTVGPlLZ"
   },
   "source": [
    "**CHALLENGE QUESTION:** Which gene has the highest mean expression across all samples? Which gene has the lowest?"
   ]
  },
  {
   "cell_type": "markdown",
   "metadata": {
    "id": "V-OAua6jPlLa"
   },
   "source": [
    "**Double click here to enter your answer below.**\n",
    "\n",
    "Answer:"
   ]
  },
  {
   "cell_type": "markdown",
   "metadata": {
    "id": "_AzLGTXtPqT3"
   },
   "source": [
    "----\n",
    "Similarly, we can use the NumPy function `.std()` to calculate the [standard deviation](https://en.wikipedia.org/wiki/Standard_deviation) of each gene."
   ]
  },
  {
   "cell_type": "code",
   "execution_count": 7,
   "metadata": {
    "colab": {
     "base_uri": "https://localhost:8080/"
    },
    "executionInfo": {
     "elapsed": 179,
     "status": "ok",
     "timestamp": 1713097224111,
     "user": {
      "displayName": "Richard Barker",
      "userId": "08066349230655107502"
     },
     "user_tz": 300
    },
    "id": "mh-y85TPfoAN",
    "outputId": "6414290c-8c7d-4af4-ae31-43bfd97635d0"
   },
   "outputs": [
    {
     "data": {
      "text/plain": [
       "('Standard Deviation:',\n",
       " ENSMUSG00000000001    17.467282\n",
       " ENSMUSG00000000028     8.285139\n",
       " ENSMUSG00000000031     4.767229\n",
       " ENSMUSG00000000037     6.289848\n",
       " ENSMUSG00000000049     1.373370\n",
       " ENSMUSG00000000056    49.944069\n",
       " ENSMUSG00000000058    26.410608\n",
       " ENSMUSG00000000078    36.351816\n",
       " ENSMUSG00000000085    80.567502\n",
       " ENSMUSG00000000088    63.691284\n",
       " dtype: float64)"
      ]
     },
     "execution_count": 7,
     "metadata": {},
     "output_type": "execute_result"
    }
   ],
   "source": [
    "# Calculate standard deviation for each gene\n",
    "std_dev = np.std(df, axis=1)\n",
    "\"Standard Deviation:\", std_dev[0:10]"
   ]
  },
  {
   "cell_type": "markdown",
   "metadata": {
    "id": "e9v7uW63P3CL"
   },
   "source": [
    "Next, we can identify which genes have the highest average expression across all samples. This is a useful way of identifying unusual trends in a dataset.\n",
    "\n",
    "The code below finds the top 3 most highly expressed genes based on their average expression across samples.\n",
    "* `df.mean(axis=1)` calculates the average expression level for each sample *(`axis=1` refers to rows).\n",
    "* `.sort_values(ascending=False)` sorts the genes by their average expression in descending order (highest first).\n",
    "* `.head(3).index.tolist()` selects the top 3 entries and converts the index (gene names) to a list."
   ]
  },
  {
   "cell_type": "code",
   "execution_count": 8,
   "metadata": {
    "colab": {
     "base_uri": "https://localhost:8080/"
    },
    "executionInfo": {
     "elapsed": 202,
     "status": "ok",
     "timestamp": 1713097226995,
     "user": {
      "displayName": "Richard Barker",
      "userId": "08066349230655107502"
     },
     "user_tz": 300
    },
    "id": "e28JswgqJslc",
    "outputId": "1131609a-4d8a-4f34-9ddb-e4a06fb0a292"
   },
   "outputs": [
    {
     "name": "stdout",
     "output_type": "stream",
     "text": [
      "Top 3 Expressed Genes: ['ENSMUSG00000118866', 'ENSMUSG00000118841', 'ENSMUSG00000030324']\n"
     ]
    }
   ],
   "source": [
    "# Find top 3 most highly expressed genes (average expression)\n",
    "top_genes = df.mean(axis=1).sort_values(ascending=False).head(3).index.tolist()\n",
    "print(\"Top 3 Expressed Genes:\", top_genes)"
   ]
  },
  {
   "cell_type": "markdown",
   "metadata": {
    "id": "V4Dtp0EYMmvw"
   },
   "source": [
    "## Missing Value Handling (NaNs)\n",
    "\n",
    "Next, we will generate a sample DataFrame with some missing values (NaNs - \"not a number\") in order to demonstrate a few useful data preparation techniques."
   ]
  },
  {
   "cell_type": "code",
   "execution_count": 9,
   "metadata": {
    "colab": {
     "base_uri": "https://localhost:8080/",
     "height": 237
    },
    "executionInfo": {
     "elapsed": 157,
     "status": "ok",
     "timestamp": 1713097229123,
     "user": {
      "displayName": "Richard Barker",
      "userId": "08066349230655107502"
     },
     "user_tz": 300
    },
    "id": "IrLmOfHjMmvw",
    "outputId": "3c4b19b1-4004-49c1-f2a9-4425d3d6241b"
   },
   "outputs": [
    {
     "data": {
      "text/html": [
       "<div>\n",
       "<style scoped>\n",
       "    .dataframe tbody tr th:only-of-type {\n",
       "        vertical-align: middle;\n",
       "    }\n",
       "\n",
       "    .dataframe tbody tr th {\n",
       "        vertical-align: top;\n",
       "    }\n",
       "\n",
       "    .dataframe thead th {\n",
       "        text-align: right;\n",
       "    }\n",
       "</style>\n",
       "<table border=\"1\" class=\"dataframe\">\n",
       "  <thead>\n",
       "    <tr style=\"text-align: right;\">\n",
       "      <th></th>\n",
       "      <th>Age</th>\n",
       "      <th>Salary</th>\n",
       "      <th>Experience</th>\n",
       "    </tr>\n",
       "  </thead>\n",
       "  <tbody>\n",
       "    <tr>\n",
       "      <th>0</th>\n",
       "      <td>25.0</td>\n",
       "      <td>50000</td>\n",
       "      <td>2.0</td>\n",
       "    </tr>\n",
       "    <tr>\n",
       "      <th>1</th>\n",
       "      <td>30.0</td>\n",
       "      <td>70000</td>\n",
       "      <td>5.0</td>\n",
       "    </tr>\n",
       "    <tr>\n",
       "      <th>2</th>\n",
       "      <td>22.0</td>\n",
       "      <td>45000</td>\n",
       "      <td>1.0</td>\n",
       "    </tr>\n",
       "    <tr>\n",
       "      <th>3</th>\n",
       "      <td>40.0</td>\n",
       "      <td>80000</td>\n",
       "      <td>8.0</td>\n",
       "    </tr>\n",
       "    <tr>\n",
       "      <th>4</th>\n",
       "      <td>35.0</td>\n",
       "      <td>60000</td>\n",
       "      <td>4.0</td>\n",
       "    </tr>\n",
       "    <tr>\n",
       "      <th>5</th>\n",
       "      <td>NaN</td>\n",
       "      <td>120000</td>\n",
       "      <td>NaN</td>\n",
       "    </tr>\n",
       "  </tbody>\n",
       "</table>\n",
       "</div>"
      ],
      "text/plain": [
       "    Age  Salary  Experience\n",
       "0  25.0   50000         2.0\n",
       "1  30.0   70000         5.0\n",
       "2  22.0   45000         1.0\n",
       "3  40.0   80000         8.0\n",
       "4  35.0   60000         4.0\n",
       "5   NaN  120000         NaN"
      ]
     },
     "execution_count": 9,
     "metadata": {},
     "output_type": "execute_result"
    }
   ],
   "source": [
    "# Create a sample DataFrame with missing values\n",
    "data = {'Age': [25, 30, 22, 40, 35, np.nan],\n",
    "        'Salary': [50000, 70000, 45000, 80000, 60000, 120000],\n",
    "        'Experience': [2, 5, 1, 8, 4, None]}\n",
    "df = pd.DataFrame(data)\n",
    "df"
   ]
  },
  {
   "cell_type": "markdown",
   "metadata": {
    "id": "SXfPQRY5Mmvx"
   },
   "source": [
    "We will now check how many missing values (NaNs) exist in each column of the DataFrame, using the `.isnull()` function:"
   ]
  },
  {
   "cell_type": "code",
   "execution_count": 10,
   "metadata": {
    "colab": {
     "base_uri": "https://localhost:8080/"
    },
    "executionInfo": {
     "elapsed": 148,
     "status": "ok",
     "timestamp": 1713097230879,
     "user": {
      "displayName": "Richard Barker",
      "userId": "08066349230655107502"
     },
     "user_tz": 300
    },
    "id": "xk-gr-klMmvx",
    "outputId": "272fbb03-2869-4fad-85e8-729d30686d3a"
   },
   "outputs": [
    {
     "name": "stdout",
     "output_type": "stream",
     "text": [
      "Age           1\n",
      "Salary        0\n",
      "Experience    1\n",
      "dtype: int64\n"
     ]
    }
   ],
   "source": [
    "# Check for missing values (NaNs)\n",
    "print(df.isnull().sum())  # Check how many missing values in each column"
   ]
  },
  {
   "cell_type": "markdown",
   "metadata": {
    "id": "1qe3Rcz4Mmvx"
   },
   "source": [
    "If your data has missing values (NaNs), that can be a problem for downstream analysis such as machine learning. Two common approaches for dealing with missing values are to fill them with specific values such as the mean or median of the other values, or to drop rows or columns that contain missing values.\n",
    "\n",
    "**Option 1: Filling with specific values (e.g., mean or median):**\n",
    "\n",
    "In the code below, we fill the missing values in the \"Age\" column with the mean of the other age values. We then fill the missing values in the \"Experience\" column with the median of the other experience values. We print out the new DataFrame to ensure that there are no NaNs left."
   ]
  },
  {
   "cell_type": "code",
   "execution_count": 11,
   "metadata": {
    "colab": {
     "base_uri": "https://localhost:8080/",
     "height": 237
    },
    "executionInfo": {
     "elapsed": 225,
     "status": "ok",
     "timestamp": 1713097232943,
     "user": {
      "displayName": "Richard Barker",
      "userId": "08066349230655107502"
     },
     "user_tz": 300
    },
    "id": "BK8blY9NMmvx",
    "outputId": "88b36ab4-30da-45a4-b312-958352f33150"
   },
   "outputs": [
    {
     "name": "stderr",
     "output_type": "stream",
     "text": [
      "/tmp/ipykernel_10307/531166743.py:2: FutureWarning: A value is trying to be set on a copy of a DataFrame or Series through chained assignment using an inplace method.\n",
      "The behavior will change in pandas 3.0. This inplace method will never work because the intermediate object on which we are setting values always behaves as a copy.\n",
      "\n",
      "For example, when doing 'df[col].method(value, inplace=True)', try using 'df.method({col: value}, inplace=True)' or df[col] = df[col].method(value) instead, to perform the operation inplace on the original object.\n",
      "\n",
      "\n",
      "  df['Age'].fillna(df['Age'].mean(), inplace=True)\n",
      "/tmp/ipykernel_10307/531166743.py:5: FutureWarning: A value is trying to be set on a copy of a DataFrame or Series through chained assignment using an inplace method.\n",
      "The behavior will change in pandas 3.0. This inplace method will never work because the intermediate object on which we are setting values always behaves as a copy.\n",
      "\n",
      "For example, when doing 'df[col].method(value, inplace=True)', try using 'df.method({col: value}, inplace=True)' or df[col] = df[col].method(value) instead, to perform the operation inplace on the original object.\n",
      "\n",
      "\n",
      "  df['Experience'].fillna(df['Experience'].median(), inplace=True)\n"
     ]
    },
    {
     "data": {
      "text/html": [
       "<div>\n",
       "<style scoped>\n",
       "    .dataframe tbody tr th:only-of-type {\n",
       "        vertical-align: middle;\n",
       "    }\n",
       "\n",
       "    .dataframe tbody tr th {\n",
       "        vertical-align: top;\n",
       "    }\n",
       "\n",
       "    .dataframe thead th {\n",
       "        text-align: right;\n",
       "    }\n",
       "</style>\n",
       "<table border=\"1\" class=\"dataframe\">\n",
       "  <thead>\n",
       "    <tr style=\"text-align: right;\">\n",
       "      <th></th>\n",
       "      <th>Age</th>\n",
       "      <th>Salary</th>\n",
       "      <th>Experience</th>\n",
       "    </tr>\n",
       "  </thead>\n",
       "  <tbody>\n",
       "    <tr>\n",
       "      <th>0</th>\n",
       "      <td>25.0</td>\n",
       "      <td>50000</td>\n",
       "      <td>2.0</td>\n",
       "    </tr>\n",
       "    <tr>\n",
       "      <th>1</th>\n",
       "      <td>30.0</td>\n",
       "      <td>70000</td>\n",
       "      <td>5.0</td>\n",
       "    </tr>\n",
       "    <tr>\n",
       "      <th>2</th>\n",
       "      <td>22.0</td>\n",
       "      <td>45000</td>\n",
       "      <td>1.0</td>\n",
       "    </tr>\n",
       "    <tr>\n",
       "      <th>3</th>\n",
       "      <td>40.0</td>\n",
       "      <td>80000</td>\n",
       "      <td>8.0</td>\n",
       "    </tr>\n",
       "    <tr>\n",
       "      <th>4</th>\n",
       "      <td>35.0</td>\n",
       "      <td>60000</td>\n",
       "      <td>4.0</td>\n",
       "    </tr>\n",
       "    <tr>\n",
       "      <th>5</th>\n",
       "      <td>30.4</td>\n",
       "      <td>120000</td>\n",
       "      <td>4.0</td>\n",
       "    </tr>\n",
       "  </tbody>\n",
       "</table>\n",
       "</div>"
      ],
      "text/plain": [
       "    Age  Salary  Experience\n",
       "0  25.0   50000         2.0\n",
       "1  30.0   70000         5.0\n",
       "2  22.0   45000         1.0\n",
       "3  40.0   80000         8.0\n",
       "4  35.0   60000         4.0\n",
       "5  30.4  120000         4.0"
      ]
     },
     "execution_count": 11,
     "metadata": {},
     "output_type": "execute_result"
    }
   ],
   "source": [
    "# Fill missing values in 'Age' with mean\n",
    "df['Age'].fillna(df['Age'].mean(), inplace=True)\n",
    "\n",
    "# Fill missing values in 'Experience' with median\n",
    "df['Experience'].fillna(df['Experience'].median(), inplace=True)\n",
    "\n",
    "df"
   ]
  },
  {
   "cell_type": "markdown",
   "metadata": {
    "id": "nlUgs_OpMmvx"
   },
   "source": [
    "**Option 2: Dropping rows with missing values (not recommended if many missing values):**\n",
    "\n",
    "In the second option, we drop rows that contain missing values using the `dropna()` function. However, if there are many missing values in your DataFrame, this is not recommended because you will be losing a lot of data."
   ]
  },
  {
   "cell_type": "code",
   "execution_count": 12,
   "metadata": {
    "colab": {
     "base_uri": "https://localhost:8080/",
     "height": 206
    },
    "executionInfo": {
     "elapsed": 4,
     "status": "ok",
     "timestamp": 1713097235386,
     "user": {
      "displayName": "Richard Barker",
      "userId": "08066349230655107502"
     },
     "user_tz": 300
    },
    "id": "wVvl8BEUMmvx",
    "outputId": "cfaeca81-a393-4f70-c589-b2985cce4d1b"
   },
   "outputs": [
    {
     "data": {
      "text/html": [
       "<div>\n",
       "<style scoped>\n",
       "    .dataframe tbody tr th:only-of-type {\n",
       "        vertical-align: middle;\n",
       "    }\n",
       "\n",
       "    .dataframe tbody tr th {\n",
       "        vertical-align: top;\n",
       "    }\n",
       "\n",
       "    .dataframe thead th {\n",
       "        text-align: right;\n",
       "    }\n",
       "</style>\n",
       "<table border=\"1\" class=\"dataframe\">\n",
       "  <thead>\n",
       "    <tr style=\"text-align: right;\">\n",
       "      <th></th>\n",
       "      <th>Age</th>\n",
       "      <th>Salary</th>\n",
       "      <th>Experience</th>\n",
       "    </tr>\n",
       "  </thead>\n",
       "  <tbody>\n",
       "    <tr>\n",
       "      <th>0</th>\n",
       "      <td>25.0</td>\n",
       "      <td>50000</td>\n",
       "      <td>2.0</td>\n",
       "    </tr>\n",
       "    <tr>\n",
       "      <th>1</th>\n",
       "      <td>30.0</td>\n",
       "      <td>70000</td>\n",
       "      <td>5.0</td>\n",
       "    </tr>\n",
       "    <tr>\n",
       "      <th>2</th>\n",
       "      <td>22.0</td>\n",
       "      <td>45000</td>\n",
       "      <td>1.0</td>\n",
       "    </tr>\n",
       "    <tr>\n",
       "      <th>3</th>\n",
       "      <td>40.0</td>\n",
       "      <td>80000</td>\n",
       "      <td>8.0</td>\n",
       "    </tr>\n",
       "    <tr>\n",
       "      <th>4</th>\n",
       "      <td>35.0</td>\n",
       "      <td>60000</td>\n",
       "      <td>4.0</td>\n",
       "    </tr>\n",
       "  </tbody>\n",
       "</table>\n",
       "</div>"
      ],
      "text/plain": [
       "    Age  Salary  Experience\n",
       "0  25.0   50000         2.0\n",
       "1  30.0   70000         5.0\n",
       "2  22.0   45000         1.0\n",
       "3  40.0   80000         8.0\n",
       "4  35.0   60000         4.0"
      ]
     },
     "execution_count": 12,
     "metadata": {},
     "output_type": "execute_result"
    }
   ],
   "source": [
    "data = {'Age': [25, 30, 22, 40, 35, np.nan],\n",
    "        'Salary': [50000, 70000, 45000, 80000, 60000, 120000],\n",
    "        'Experience': [2, 5, 1, 8, 4, None]}\n",
    "df = pd.DataFrame(data)\n",
    "\n",
    "df.dropna(inplace=True)\n",
    "df"
   ]
  },
  {
   "cell_type": "markdown",
   "metadata": {
    "id": "JFoKLxXgMmvx"
   },
   "source": [
    "## 4. Identifying Outliers\n",
    "\n",
    "**Outliers** are data points that fall significantly outside the main distribution of the data. They can be very high or very low values compared to the majority of the data points in a column.\n",
    "\n",
    "Outliers can significantly influence calculations like mean, median, and standard deviation. This can distort our understanding of the data. Machine learning algorithms often rely on assumptions about the underlying data distribution. Outliers can violate these assumptions and lead to inaccurate models.\n",
    "\n",
    "A **boxplot** is a way to visualize how data is spread out.\n",
    "* It has a box in the middle with a line in the center representing the median (the middle value when the data is ordered).\n",
    "* The box shows the interquartile range (IQR), which represents the middle half of the data.\n",
    "* There are lines extending from the box called whiskers. These whiskers typically extend to 1.5 times the IQR above and below the box.\n",
    "* **Points outside the whiskers are considered potential outliers.**\n",
    "\n",
    "The code below utilizes the `matplotlib.pyplot()` function to create a boxplot and visualize potential outliers in the `Salary` column:"
   ]
  },
  {
   "cell_type": "code",
   "execution_count": 13,
   "metadata": {
    "colab": {
     "base_uri": "https://localhost:8080/",
     "height": 449
    },
    "executionInfo": {
     "elapsed": 324,
     "status": "ok",
     "timestamp": 1713097238917,
     "user": {
      "displayName": "Richard Barker",
      "userId": "08066349230655107502"
     },
     "user_tz": 300
    },
    "id": "bH7N7Wh7Wzjz",
    "outputId": "f3e378e5-2d0a-4dcf-e35a-153faf8594a2"
   },
   "outputs": [
    {
     "data": {
      "image/png": "[encoded data removed]",
      "text/plain": [
       "<Figure size 640x480 with 1 Axes>"
      ]
     },
     "metadata": {},
     "output_type": "display_data"
    }
   ],
   "source": [
    "import matplotlib.pyplot as plt\n",
    "\n",
    "data = {'Age': [25, 30, 22, 40, 35, np.nan],\n",
    "        'Salary': [50000, 70000, 45000, 80000, 60000, 120000],\n",
    "        'Experience': [2, 5, 1, 8, 4, None]}\n",
    "df = pd.DataFrame(data)\n",
    "\n",
    "# Create a boxplot\n",
    "plt.boxplot(df['Salary'])\n",
    "\n",
    "# Label the axes\n",
    "plt.xlabel(\"Boxplot\")  # X-axis label\n",
    "plt.ylabel(\"Salary Value ($)\")  # Y-axis label (generic for now)\n",
    "\n",
    "# Show the plot\n",
    "plt.show()"
   ]
  },
  {
   "cell_type": "markdown",
   "metadata": {
    "id": "vBOZEwO9WYo2"
   },
   "source": [
    "**CHALLENGE QUESTION:** How many outliers are there in the \"Salary\" column of the dataset? Are they very high or very low outliers?"
   ]
  },
  {
   "cell_type": "markdown",
   "metadata": {
    "id": "l1VgB3-nWYo2"
   },
   "source": [
    "**Double click here to enter your answer below.**\n",
    "\n",
    "Answer:"
   ]
  },
  {
   "cell_type": "markdown",
   "metadata": {
    "id": "nlyRiNoLMmvx"
   },
   "source": [
    "---\n",
    "\n",
    "## 5. Removing Outliers (cautiously!)\n",
    "\n",
    "In some cases, it is appropriate to remove outliers from a dataset prior to downstream analysis such as machine learning. However, it is important to consider domain knowledge before removing data points in case they are important, and to transparently document the process of removing data points.\n",
    "\n",
    "In the code below, we calculate the lower and upper bounds for outliers based on 1.5 times the IQR from the quartiles. We then filter the DataFrame to keep only rows where the `Salary` falls within the calculated bounds."
   ]
  },
  {
   "cell_type": "code",
   "execution_count": 14,
   "metadata": {
    "colab": {
     "base_uri": "https://localhost:8080/",
     "height": 206
    },
    "executionInfo": {
     "elapsed": 130,
     "status": "ok",
     "timestamp": 1713097243389,
     "user": {
      "displayName": "Richard Barker",
      "userId": "08066349230655107502"
     },
     "user_tz": 300
    },
    "id": "xqFjkavWMmvx",
    "outputId": "8effc513-bed6-49cc-c5e5-741d1a94ab0f"
   },
   "outputs": [
    {
     "data": {
      "text/html": [
       "<div>\n",
       "<style scoped>\n",
       "    .dataframe tbody tr th:only-of-type {\n",
       "        vertical-align: middle;\n",
       "    }\n",
       "\n",
       "    .dataframe tbody tr th {\n",
       "        vertical-align: top;\n",
       "    }\n",
       "\n",
       "    .dataframe thead th {\n",
       "        text-align: right;\n",
       "    }\n",
       "</style>\n",
       "<table border=\"1\" class=\"dataframe\">\n",
       "  <thead>\n",
       "    <tr style=\"text-align: right;\">\n",
       "      <th></th>\n",
       "      <th>Age</th>\n",
       "      <th>Salary</th>\n",
       "      <th>Experience</th>\n",
       "    </tr>\n",
       "  </thead>\n",
       "  <tbody>\n",
       "    <tr>\n",
       "      <th>0</th>\n",
       "      <td>25.0</td>\n",
       "      <td>50000</td>\n",
       "      <td>2.0</td>\n",
       "    </tr>\n",
       "    <tr>\n",
       "      <th>1</th>\n",
       "      <td>30.0</td>\n",
       "      <td>70000</td>\n",
       "      <td>5.0</td>\n",
       "    </tr>\n",
       "    <tr>\n",
       "      <th>2</th>\n",
       "      <td>22.0</td>\n",
       "      <td>45000</td>\n",
       "      <td>1.0</td>\n",
       "    </tr>\n",
       "    <tr>\n",
       "      <th>3</th>\n",
       "      <td>40.0</td>\n",
       "      <td>80000</td>\n",
       "      <td>8.0</td>\n",
       "    </tr>\n",
       "    <tr>\n",
       "      <th>4</th>\n",
       "      <td>35.0</td>\n",
       "      <td>60000</td>\n",
       "      <td>4.0</td>\n",
       "    </tr>\n",
       "  </tbody>\n",
       "</table>\n",
       "</div>"
      ],
      "text/plain": [
       "    Age  Salary  Experience\n",
       "0  25.0   50000         2.0\n",
       "1  30.0   70000         5.0\n",
       "2  22.0   45000         1.0\n",
       "3  40.0   80000         8.0\n",
       "4  35.0   60000         4.0"
      ]
     },
     "execution_count": 14,
     "metadata": {},
     "output_type": "execute_result"
    }
   ],
   "source": [
    "# Option 1: Remove outliers (be cautious, consider domain knowledge)\n",
    "# IQR (Interquartile Range) based outlier detection\n",
    "Q1 = df['Salary'].quantile(0.25)\n",
    "Q3 = df['Salary'].quantile(0.75)\n",
    "IQR = Q3 - Q1\n",
    "lower_bound = Q1 - (1.5 * IQR)\n",
    "upper_bound = Q3 + (1.5 * IQR)\n",
    "df = df[(df['Salary'] >= lower_bound) & (df['Salary'] <= upper_bound)]\n",
    "df"
   ]
  },
  {
   "cell_type": "markdown",
   "metadata": {
    "id": "v9srbzf3Mmvx"
   },
   "source": [
    "## Normalization (0-1 scale)\n",
    "\n",
    "Machine learning algorithms often work better when features are on a similar scale. **Normalization** and **standardization** can improve the performance of the model.\n",
    "\n",
    "Normalizing data between 0 and 1 for machine learning algorithms can be beneficial for several reasons:\n",
    "\n",
    "* Equal Footing: Features on different scales are put on a common ground, preventing features with larger values from dominating the learning process.\n",
    "* Improved Convergence: Normalization can help some algorithms converge faster during the training process, leading to potentially better models.\n",
    "* Distance-based Algorithms: Normalization is particularly important for algorithms that rely on distance metrics (like k-Nearest Neighbors) to function effectively.\n",
    "\n",
    "In the code below, we normalize the features in the DataFrame to a range between 0 and 1:"
   ]
  },
  {
   "cell_type": "code",
   "execution_count": 15,
   "metadata": {
    "colab": {
     "base_uri": "https://localhost:8080/",
     "height": 206
    },
    "executionInfo": {
     "elapsed": 138,
     "status": "ok",
     "timestamp": 1713097246852,
     "user": {
      "displayName": "Richard Barker",
      "userId": "08066349230655107502"
     },
     "user_tz": 300
    },
    "id": "hyxpJNhdMmvx",
    "outputId": "f4ff14ab-087c-44f4-fef6-5daea8005b6b"
   },
   "outputs": [
    {
     "data": {
      "text/html": [
       "<div>\n",
       "<style scoped>\n",
       "    .dataframe tbody tr th:only-of-type {\n",
       "        vertical-align: middle;\n",
       "    }\n",
       "\n",
       "    .dataframe tbody tr th {\n",
       "        vertical-align: top;\n",
       "    }\n",
       "\n",
       "    .dataframe thead th {\n",
       "        text-align: right;\n",
       "    }\n",
       "</style>\n",
       "<table border=\"1\" class=\"dataframe\">\n",
       "  <thead>\n",
       "    <tr style=\"text-align: right;\">\n",
       "      <th></th>\n",
       "      <th>Age</th>\n",
       "      <th>Salary</th>\n",
       "      <th>Experience</th>\n",
       "    </tr>\n",
       "  </thead>\n",
       "  <tbody>\n",
       "    <tr>\n",
       "      <th>0</th>\n",
       "      <td>0.166667</td>\n",
       "      <td>0.142857</td>\n",
       "      <td>0.142857</td>\n",
       "    </tr>\n",
       "    <tr>\n",
       "      <th>1</th>\n",
       "      <td>0.444444</td>\n",
       "      <td>0.714286</td>\n",
       "      <td>0.571429</td>\n",
       "    </tr>\n",
       "    <tr>\n",
       "      <th>2</th>\n",
       "      <td>0.000000</td>\n",
       "      <td>0.000000</td>\n",
       "      <td>0.000000</td>\n",
       "    </tr>\n",
       "    <tr>\n",
       "      <th>3</th>\n",
       "      <td>1.000000</td>\n",
       "      <td>1.000000</td>\n",
       "      <td>1.000000</td>\n",
       "    </tr>\n",
       "    <tr>\n",
       "      <th>4</th>\n",
       "      <td>0.722222</td>\n",
       "      <td>0.428571</td>\n",
       "      <td>0.428571</td>\n",
       "    </tr>\n",
       "  </tbody>\n",
       "</table>\n",
       "</div>"
      ],
      "text/plain": [
       "        Age    Salary  Experience\n",
       "0  0.166667  0.142857    0.142857\n",
       "1  0.444444  0.714286    0.571429\n",
       "2  0.000000  0.000000    0.000000\n",
       "3  1.000000  1.000000    1.000000\n",
       "4  0.722222  0.428571    0.428571"
      ]
     },
     "execution_count": 15,
     "metadata": {},
     "output_type": "execute_result"
    }
   ],
   "source": [
    "# Normalization (scale to range 0-1)\n",
    "df_norm = (df - df.min()) / (df.max() - df.min())\n",
    "df_norm"
   ]
  },
  {
   "cell_type": "markdown",
   "metadata": {
    "id": "AqPcB0LBMmvx"
   },
   "source": [
    "## Standardization (mean 0, std 1)\n",
    "\n",
    "Standardizing data to have a mean of 0 and standard deviation of 1 is useful in machine learning because it:\n",
    "\n",
    "* Levels the Playing Field: Features are centered around the same mean, preventing features with larger scales from disproportionately influencing the model.\n",
    "* Improves Interpretation: Standardized coefficients in the model become easier to interpret since they represent the relative impact of each feature in units of standard deviation.\n",
    "\n",
    "\n",
    "In the code below, we standardize the DataFrame using `sklearn.preprocessing.StandardScaler()`."
   ]
  },
  {
   "cell_type": "code",
   "execution_count": 16,
   "metadata": {
    "colab": {
     "base_uri": "https://localhost:8080/"
    },
    "executionInfo": {
     "elapsed": 1244,
     "status": "ok",
     "timestamp": 1713097253536,
     "user": {
      "displayName": "Richard Barker",
      "userId": "08066349230655107502"
     },
     "user_tz": 300
    },
    "id": "wbb8Wr1rMq1r",
    "outputId": "e4464482-0b5b-4609-ffef-72ea8d82656e"
   },
   "outputs": [
    {
     "name": "stdout",
     "output_type": "stream",
     "text": [
      "[[-0.82696125 -0.85895569 -0.81649658]\n",
      " [-0.06125639  0.70278193  0.40824829]\n",
      " [-1.28638417 -1.2493901  -1.22474487]\n",
      " [ 1.47015334  1.48365074  1.63299316]\n",
      " [ 0.70444848 -0.07808688  0.        ]]\n"
     ]
    }
   ],
   "source": [
    "# Standardization (scale to mean 0 and standard deviation 1)\n",
    "from sklearn.preprocessing import StandardScaler\n",
    "\n",
    "scaler = StandardScaler()\n",
    "df_scaled = scaler.fit_transform(df)\n",
    "print(df_scaled)"
   ]
  }
 ],
 "metadata": {
  "colab": {
   "provenance": [
    {
     "file_id": "1iGlLEWWpVWedQtwg2QARvcmcvUXgPz_x",
     "timestamp": 1713096962728
    }
   ]
  },
  "kernelspec": {
   "display_name": "Python 3",
   "name": "python3"
  },
  "language_info": {
   "codemirror_mode": {
    "name": "ipython",
    "version": 3
   },
   "file_extension": ".py",
   "mimetype": "text/x-python",
   "name": "python",
   "nbconvert_exporter": "python",
   "pygments_lexer": "ipython3",
   "version": "3.12.3"
  }
 },
 "nbformat": 4,
 "nbformat_minor": 0
}